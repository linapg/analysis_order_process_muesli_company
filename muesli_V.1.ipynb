{
 "cells": [
  {
   "cell_type": "markdown",
   "metadata": {},
   "source": [
    "# Tracking bottlenecks in the Muesli orders process\n",
    "Sonia & Lina"
   ]
  },
  {
   "cell_type": "code",
   "execution_count": 1,
   "metadata": {},
   "outputs": [],
   "source": [
    "#import libraries\n",
    "import pandas as pd\n",
    "import matplotlib.pyplot as plt\n",
    "import seaborn as sns\n",
    "import statsmodels.api as sm\n",
    "\n",
    "# hides warning messages\n",
    "import warnings\n",
    "warnings.filterwarnings(\"ignore\")\n",
    "\n",
    "#style for the plots\n",
    "plt.style.use('fivethirtyeight')\n"
   ]
  },
  {
   "cell_type": "code",
   "execution_count": 2,
   "metadata": {},
   "outputs": [
    {
     "data": {
      "text/html": [
       "<div>\n",
       "<style scoped>\n",
       "    .dataframe tbody tr th:only-of-type {\n",
       "        vertical-align: middle;\n",
       "    }\n",
       "\n",
       "    .dataframe tbody tr th {\n",
       "        vertical-align: top;\n",
       "    }\n",
       "\n",
       "    .dataframe thead th {\n",
       "        text-align: right;\n",
       "    }\n",
       "</style>\n",
       "<table border=\"1\" class=\"dataframe\">\n",
       "  <thead>\n",
       "    <tr style=\"text-align: right;\">\n",
       "      <th></th>\n",
       "      <th>Index</th>\n",
       "      <th>Order ID</th>\n",
       "      <th>Order Date</th>\n",
       "      <th>Ship mode</th>\n",
       "      <th>Customer ID</th>\n",
       "      <th>Customer Name</th>\n",
       "      <th>Origin Channel</th>\n",
       "      <th>Country/Region</th>\n",
       "      <th>City</th>\n",
       "      <th>State</th>\n",
       "      <th>Postal Code</th>\n",
       "      <th>Region</th>\n",
       "      <th>Category</th>\n",
       "      <th>Sub-Category</th>\n",
       "      <th>Product ID</th>\n",
       "      <th>Sales</th>\n",
       "      <th>Quantity</th>\n",
       "      <th>Discount</th>\n",
       "      <th>Profit</th>\n",
       "    </tr>\n",
       "  </thead>\n",
       "  <tbody>\n",
       "    <tr>\n",
       "      <th>0</th>\n",
       "      <td>27.0</td>\n",
       "      <td>CA-2019-121755</td>\n",
       "      <td>2019-01-16</td>\n",
       "      <td>Second Class</td>\n",
       "      <td>EH-13945</td>\n",
       "      <td>Eric Hoffmann</td>\n",
       "      <td>Email</td>\n",
       "      <td>United States</td>\n",
       "      <td>Los Angeles</td>\n",
       "      <td>California</td>\n",
       "      <td>90049.0</td>\n",
       "      <td>West</td>\n",
       "      <td>Special Projects Muesil</td>\n",
       "      <td>Gluten Free</td>\n",
       "      <td>TEC-AC-10003027</td>\n",
       "      <td>90.57</td>\n",
       "      <td>3.0</td>\n",
       "      <td>0.0</td>\n",
       "      <td>11.7741</td>\n",
       "    </tr>\n",
       "    <tr>\n",
       "      <th>1</th>\n",
       "      <td>45.0</td>\n",
       "      <td>CA-2019-118255</td>\n",
       "      <td>2019-03-11</td>\n",
       "      <td>First Class</td>\n",
       "      <td>ON-18715</td>\n",
       "      <td>Odella Nelson</td>\n",
       "      <td>Sales</td>\n",
       "      <td>United States</td>\n",
       "      <td>Eagan</td>\n",
       "      <td>Minnesota</td>\n",
       "      <td>55122.0</td>\n",
       "      <td>Central</td>\n",
       "      <td>Special Projects Muesil</td>\n",
       "      <td>Gluten Free</td>\n",
       "      <td>TEC-AC-10000171</td>\n",
       "      <td>45.98</td>\n",
       "      <td>2.0</td>\n",
       "      <td>0.0</td>\n",
       "      <td>19.7714</td>\n",
       "    </tr>\n",
       "  </tbody>\n",
       "</table>\n",
       "</div>"
      ],
      "text/plain": [
       "   Index        Order ID Order Date     Ship mode Customer ID  Customer Name  \\\n",
       "0   27.0  CA-2019-121755 2019-01-16  Second Class    EH-13945  Eric Hoffmann   \n",
       "1   45.0  CA-2019-118255 2019-03-11   First Class    ON-18715  Odella Nelson   \n",
       "\n",
       "  Origin Channel Country/Region         City       State  Postal Code  \\\n",
       "0          Email  United States  Los Angeles  California      90049.0   \n",
       "1          Sales  United States        Eagan   Minnesota      55122.0   \n",
       "\n",
       "    Region                 Category Sub-Category       Product ID  Sales  \\\n",
       "0     West  Special Projects Muesil  Gluten Free  TEC-AC-10003027  90.57   \n",
       "1  Central  Special Projects Muesil  Gluten Free  TEC-AC-10000171  45.98   \n",
       "\n",
       "   Quantity  Discount   Profit  \n",
       "0       3.0       0.0  11.7741  \n",
       "1       2.0       0.0  19.7714  "
      ]
     },
     "execution_count": 2,
     "metadata": {},
     "output_type": "execute_result"
    }
   ],
   "source": [
    "#read data \n",
    "orders = pd.read_excel('data/muesli_raw_data.xlsx', header=1) #Please change your patch accordingly\n",
    "orders.head(2)\n"
   ]
  },
  {
   "cell_type": "markdown",
   "metadata": {},
   "source": [
    "Create dataframes for each excel sheet:"
   ]
  },
  {
   "cell_type": "code",
   "execution_count": 3,
   "metadata": {},
   "outputs": [
    {
     "data": {
      "text/html": [
       "<div>\n",
       "<style scoped>\n",
       "    .dataframe tbody tr th:only-of-type {\n",
       "        vertical-align: middle;\n",
       "    }\n",
       "\n",
       "    .dataframe tbody tr th {\n",
       "        vertical-align: top;\n",
       "    }\n",
       "\n",
       "    .dataframe thead th {\n",
       "        text-align: right;\n",
       "    }\n",
       "</style>\n",
       "<table border=\"1\" class=\"dataframe\">\n",
       "  <thead>\n",
       "    <tr style=\"text-align: right;\">\n",
       "      <th></th>\n",
       "      <th>index</th>\n",
       "      <th>order_id</th>\n",
       "      <th>order_date</th>\n",
       "      <th>ship_mode</th>\n",
       "      <th>customer_id</th>\n",
       "      <th>customer_name</th>\n",
       "      <th>origin_channel</th>\n",
       "      <th>country/region</th>\n",
       "      <th>city</th>\n",
       "      <th>state</th>\n",
       "      <th>postal_code</th>\n",
       "      <th>region</th>\n",
       "      <th>category</th>\n",
       "      <th>sub-category</th>\n",
       "      <th>product_id</th>\n",
       "      <th>sales</th>\n",
       "      <th>quantity</th>\n",
       "      <th>discount</th>\n",
       "      <th>profit</th>\n",
       "    </tr>\n",
       "  </thead>\n",
       "  <tbody>\n",
       "    <tr>\n",
       "      <th>0</th>\n",
       "      <td>27.0</td>\n",
       "      <td>CA-2019-121755</td>\n",
       "      <td>2019-01-16</td>\n",
       "      <td>Second Class</td>\n",
       "      <td>EH-13945</td>\n",
       "      <td>Eric Hoffmann</td>\n",
       "      <td>Email</td>\n",
       "      <td>United States</td>\n",
       "      <td>Los Angeles</td>\n",
       "      <td>California</td>\n",
       "      <td>90049.0</td>\n",
       "      <td>West</td>\n",
       "      <td>Special Projects Muesil</td>\n",
       "      <td>Gluten Free</td>\n",
       "      <td>TEC-AC-10003027</td>\n",
       "      <td>90.57</td>\n",
       "      <td>3.0</td>\n",
       "      <td>0.0</td>\n",
       "      <td>11.7741</td>\n",
       "    </tr>\n",
       "    <tr>\n",
       "      <th>1</th>\n",
       "      <td>45.0</td>\n",
       "      <td>CA-2019-118255</td>\n",
       "      <td>2019-03-11</td>\n",
       "      <td>First Class</td>\n",
       "      <td>ON-18715</td>\n",
       "      <td>Odella Nelson</td>\n",
       "      <td>Sales</td>\n",
       "      <td>United States</td>\n",
       "      <td>Eagan</td>\n",
       "      <td>Minnesota</td>\n",
       "      <td>55122.0</td>\n",
       "      <td>Central</td>\n",
       "      <td>Special Projects Muesil</td>\n",
       "      <td>Gluten Free</td>\n",
       "      <td>TEC-AC-10000171</td>\n",
       "      <td>45.98</td>\n",
       "      <td>2.0</td>\n",
       "      <td>0.0</td>\n",
       "      <td>19.7714</td>\n",
       "    </tr>\n",
       "  </tbody>\n",
       "</table>\n",
       "</div>"
      ],
      "text/plain": [
       "   index        order_id order_date     ship_mode customer_id  customer_name  \\\n",
       "0   27.0  CA-2019-121755 2019-01-16  Second Class    EH-13945  Eric Hoffmann   \n",
       "1   45.0  CA-2019-118255 2019-03-11   First Class    ON-18715  Odella Nelson   \n",
       "\n",
       "  origin_channel country/region         city       state  postal_code  \\\n",
       "0          Email  United States  Los Angeles  California      90049.0   \n",
       "1          Sales  United States        Eagan   Minnesota      55122.0   \n",
       "\n",
       "    region                 category sub-category       product_id  sales  \\\n",
       "0     West  Special Projects Muesil  Gluten Free  TEC-AC-10003027  90.57   \n",
       "1  Central  Special Projects Muesil  Gluten Free  TEC-AC-10000171  45.98   \n",
       "\n",
       "   quantity  discount   profit  \n",
       "0       3.0       0.0  11.7741  \n",
       "1       2.0       0.0  19.7714  "
      ]
     },
     "execution_count": 3,
     "metadata": {},
     "output_type": "execute_result"
    }
   ],
   "source": [
    "#clean orders dataframe\n",
    "orders.columns = orders.columns.str.lower()\n",
    "orders.columns = orders.columns.str.replace(\" \",\"_\")\n",
    "orders.head(2)"
   ]
  },
  {
   "cell_type": "code",
   "execution_count": 4,
   "metadata": {},
   "outputs": [
    {
     "data": {
      "text/html": [
       "<div>\n",
       "<style scoped>\n",
       "    .dataframe tbody tr th:only-of-type {\n",
       "        vertical-align: middle;\n",
       "    }\n",
       "\n",
       "    .dataframe tbody tr th {\n",
       "        vertical-align: top;\n",
       "    }\n",
       "\n",
       "    .dataframe thead th {\n",
       "        text-align: right;\n",
       "    }\n",
       "</style>\n",
       "<table border=\"1\" class=\"dataframe\">\n",
       "  <thead>\n",
       "    <tr style=\"text-align: right;\">\n",
       "      <th></th>\n",
       "      <th>order_id</th>\n",
       "      <th>arrival_scan_date</th>\n",
       "      <th>customer_name</th>\n",
       "    </tr>\n",
       "  </thead>\n",
       "  <tbody>\n",
       "    <tr>\n",
       "      <th>0</th>\n",
       "      <td>CA-2019-109666</td>\n",
       "      <td>2019-05-03</td>\n",
       "      <td>Kunst Miller</td>\n",
       "    </tr>\n",
       "    <tr>\n",
       "      <th>1</th>\n",
       "      <td>CA-2019-138933</td>\n",
       "      <td>2019-05-03</td>\n",
       "      <td>Jack Lebron</td>\n",
       "    </tr>\n",
       "  </tbody>\n",
       "</table>\n",
       "</div>"
      ],
      "text/plain": [
       "         order_id arrival_scan_date customer_name\n",
       "0  CA-2019-109666        2019-05-03  Kunst Miller\n",
       "1  CA-2019-138933        2019-05-03   Jack Lebron"
      ]
     },
     "execution_count": 4,
     "metadata": {},
     "output_type": "execute_result"
    }
   ],
   "source": [
    "#create arrival df\n",
    "arrival= pd.read_excel('data/muesli_raw_data.xlsx', sheet_name='Campaign Data')\n",
    "\n",
    "#clean arrival df\n",
    "arrival.columns = arrival.columns.str.lower()\n",
    "arrival.columns = arrival.columns.str.replace(\" \",\"_\")\n",
    "arrival.head(2)"
   ]
  },
  {
   "cell_type": "code",
   "execution_count": 5,
   "metadata": {},
   "outputs": [
    {
     "data": {
      "text/html": [
       "<div>\n",
       "<style scoped>\n",
       "    .dataframe tbody tr th:only-of-type {\n",
       "        vertical-align: middle;\n",
       "    }\n",
       "\n",
       "    .dataframe tbody tr th {\n",
       "        vertical-align: top;\n",
       "    }\n",
       "\n",
       "    .dataframe thead th {\n",
       "        text-align: right;\n",
       "    }\n",
       "</style>\n",
       "<table border=\"1\" class=\"dataframe\">\n",
       "  <thead>\n",
       "    <tr style=\"text-align: right;\">\n",
       "      <th></th>\n",
       "      <th>row_id</th>\n",
       "      <th>order_id</th>\n",
       "      <th>order_date</th>\n",
       "      <th>on_truck_scan_date</th>\n",
       "      <th>ship_mode</th>\n",
       "    </tr>\n",
       "  </thead>\n",
       "  <tbody>\n",
       "    <tr>\n",
       "      <th>0</th>\n",
       "      <td>3074.0</td>\n",
       "      <td>CA-2019-125206</td>\n",
       "      <td>2019-01-03</td>\n",
       "      <td>2019-01-07</td>\n",
       "      <td>Express</td>\n",
       "    </tr>\n",
       "    <tr>\n",
       "      <th>1</th>\n",
       "      <td>4919.0</td>\n",
       "      <td>CA-2019-160304</td>\n",
       "      <td>2019-01-02</td>\n",
       "      <td>2019-01-09</td>\n",
       "      <td>Standard Processing</td>\n",
       "    </tr>\n",
       "  </tbody>\n",
       "</table>\n",
       "</div>"
      ],
      "text/plain": [
       "   row_id        order_id order_date on_truck_scan_date            ship_mode\n",
       "0  3074.0  CA-2019-125206 2019-01-03         2019-01-07              Express\n",
       "1  4919.0  CA-2019-160304 2019-01-02         2019-01-09  Standard Processing"
      ]
     },
     "execution_count": 5,
     "metadata": {},
     "output_type": "execute_result"
    }
   ],
   "source": [
    "#create truck df\n",
    "truck = pd.read_excel('data/muesli_raw_data.xlsx', sheet_name='Order Process Data')\n",
    "\n",
    "#clean truck df\n",
    "truck.columns = truck.columns.str.lower()\n",
    "truck.columns = truck.columns.str.replace(\" \",\"_\")\n",
    "truck.head(2)"
   ]
  },
  {
   "cell_type": "code",
   "execution_count": 6,
   "metadata": {},
   "outputs": [
    {
     "data": {
      "text/html": [
       "<div>\n",
       "<style scoped>\n",
       "    .dataframe tbody tr th:only-of-type {\n",
       "        vertical-align: middle;\n",
       "    }\n",
       "\n",
       "    .dataframe tbody tr th {\n",
       "        vertical-align: top;\n",
       "    }\n",
       "\n",
       "    .dataframe thead th {\n",
       "        text-align: right;\n",
       "    }\n",
       "</style>\n",
       "<table border=\"1\" class=\"dataframe\">\n",
       "  <thead>\n",
       "    <tr style=\"text-align: right;\">\n",
       "      <th></th>\n",
       "      <th>order_id</th>\n",
       "      <th>order_date</th>\n",
       "      <th>on_truck_scan_date</th>\n",
       "      <th>ship_mode</th>\n",
       "    </tr>\n",
       "  </thead>\n",
       "  <tbody>\n",
       "    <tr>\n",
       "      <th>0</th>\n",
       "      <td>CA-2019-125206</td>\n",
       "      <td>2019-01-03</td>\n",
       "      <td>2019-01-07</td>\n",
       "      <td>Express</td>\n",
       "    </tr>\n",
       "    <tr>\n",
       "      <th>1</th>\n",
       "      <td>CA-2019-160304</td>\n",
       "      <td>2019-01-02</td>\n",
       "      <td>2019-01-09</td>\n",
       "      <td>Standard Processing</td>\n",
       "    </tr>\n",
       "    <tr>\n",
       "      <th>3</th>\n",
       "      <td>US-2019-116365</td>\n",
       "      <td>2019-01-03</td>\n",
       "      <td>2019-01-09</td>\n",
       "      <td>Standard Processing</td>\n",
       "    </tr>\n",
       "    <tr>\n",
       "      <th>6</th>\n",
       "      <td>CA-2019-105207</td>\n",
       "      <td>2019-01-03</td>\n",
       "      <td>2019-01-09</td>\n",
       "      <td>Standard Processing</td>\n",
       "    </tr>\n",
       "    <tr>\n",
       "      <th>8</th>\n",
       "      <td>CA-2019-158211</td>\n",
       "      <td>2019-01-04</td>\n",
       "      <td>2019-01-09</td>\n",
       "      <td>Standard Processing</td>\n",
       "    </tr>\n",
       "    <tr>\n",
       "      <th>...</th>\n",
       "      <td>...</td>\n",
       "      <td>...</td>\n",
       "      <td>...</td>\n",
       "      <td>...</td>\n",
       "    </tr>\n",
       "    <tr>\n",
       "      <th>5890</th>\n",
       "      <td>CA-2020-130631</td>\n",
       "      <td>2020-12-29</td>\n",
       "      <td>2021-01-06</td>\n",
       "      <td>Standard Processing</td>\n",
       "    </tr>\n",
       "    <tr>\n",
       "      <th>5892</th>\n",
       "      <td>CA-2020-126221</td>\n",
       "      <td>2020-12-30</td>\n",
       "      <td>2021-01-06</td>\n",
       "      <td>Standard Processing</td>\n",
       "    </tr>\n",
       "    <tr>\n",
       "      <th>5893</th>\n",
       "      <td>CA-2020-143259</td>\n",
       "      <td>2020-12-30</td>\n",
       "      <td>2021-01-06</td>\n",
       "      <td>Standard Processing</td>\n",
       "    </tr>\n",
       "    <tr>\n",
       "      <th>5896</th>\n",
       "      <td>CA-2020-115427</td>\n",
       "      <td>2020-12-30</td>\n",
       "      <td>2021-01-06</td>\n",
       "      <td>Standard Processing</td>\n",
       "    </tr>\n",
       "    <tr>\n",
       "      <th>5898</th>\n",
       "      <td>CA-2020-156720</td>\n",
       "      <td>2020-12-30</td>\n",
       "      <td>2021-01-06</td>\n",
       "      <td>Standard Processing</td>\n",
       "    </tr>\n",
       "  </tbody>\n",
       "</table>\n",
       "<p>3002 rows × 4 columns</p>\n",
       "</div>"
      ],
      "text/plain": [
       "            order_id order_date on_truck_scan_date            ship_mode\n",
       "0     CA-2019-125206 2019-01-03         2019-01-07              Express\n",
       "1     CA-2019-160304 2019-01-02         2019-01-09  Standard Processing\n",
       "3     US-2019-116365 2019-01-03         2019-01-09  Standard Processing\n",
       "6     CA-2019-105207 2019-01-03         2019-01-09  Standard Processing\n",
       "8     CA-2019-158211 2019-01-04         2019-01-09  Standard Processing\n",
       "...              ...        ...                ...                  ...\n",
       "5890  CA-2020-130631 2020-12-29         2021-01-06  Standard Processing\n",
       "5892  CA-2020-126221 2020-12-30         2021-01-06  Standard Processing\n",
       "5893  CA-2020-143259 2020-12-30         2021-01-06  Standard Processing\n",
       "5896  CA-2020-115427 2020-12-30         2021-01-06  Standard Processing\n",
       "5898  CA-2020-156720 2020-12-30         2021-01-06  Standard Processing\n",
       "\n",
       "[3002 rows x 4 columns]"
      ]
     },
     "execution_count": 6,
     "metadata": {},
     "output_type": "execute_result"
    }
   ],
   "source": [
    "truck.drop_duplicates(subset='order_id', inplace=True)\n",
    "truck.drop('row_id', axis=1)"
   ]
  },
  {
   "cell_type": "code",
   "execution_count": 7,
   "metadata": {},
   "outputs": [
    {
     "name": "stdout",
     "output_type": "stream",
     "text": [
      "<class 'pandas.core.frame.DataFrame'>\n",
      "Int64Index: 3002 entries, 0 to 5898\n",
      "Data columns (total 5 columns):\n",
      " #   Column              Non-Null Count  Dtype         \n",
      "---  ------              --------------  -----         \n",
      " 0   row_id              3002 non-null   float64       \n",
      " 1   order_id            3002 non-null   object        \n",
      " 2   order_date          3002 non-null   datetime64[ns]\n",
      " 3   on_truck_scan_date  3002 non-null   datetime64[ns]\n",
      " 4   ship_mode           3002 non-null   object        \n",
      "dtypes: datetime64[ns](2), float64(1), object(2)\n",
      "memory usage: 140.7+ KB\n"
     ]
    }
   ],
   "source": [
    "truck.info()"
   ]
  },
  {
   "cell_type": "code",
   "execution_count": 8,
   "metadata": {},
   "outputs": [
    {
     "data": {
      "text/html": [
       "<div>\n",
       "<style scoped>\n",
       "    .dataframe tbody tr th:only-of-type {\n",
       "        vertical-align: middle;\n",
       "    }\n",
       "\n",
       "    .dataframe tbody tr th {\n",
       "        vertical-align: top;\n",
       "    }\n",
       "\n",
       "    .dataframe thead th {\n",
       "        text-align: right;\n",
       "    }\n",
       "</style>\n",
       "<table border=\"1\" class=\"dataframe\">\n",
       "  <thead>\n",
       "    <tr style=\"text-align: right;\">\n",
       "      <th></th>\n",
       "      <th>order_id</th>\n",
       "      <th>ready_to_ship_date</th>\n",
       "      <th>pickup_date</th>\n",
       "    </tr>\n",
       "  </thead>\n",
       "  <tbody>\n",
       "    <tr>\n",
       "      <th>0</th>\n",
       "      <td>CA-2019-116540</td>\n",
       "      <td>2019-09-02</td>\n",
       "      <td>2019-09-03</td>\n",
       "    </tr>\n",
       "    <tr>\n",
       "      <th>1</th>\n",
       "      <td>CA-2019-116540</td>\n",
       "      <td>2019-09-02</td>\n",
       "      <td>2019-09-03</td>\n",
       "    </tr>\n",
       "  </tbody>\n",
       "</table>\n",
       "</div>"
      ],
      "text/plain": [
       "         order_id ready_to_ship_date pickup_date\n",
       "0  CA-2019-116540         2019-09-02  2019-09-03\n",
       "1  CA-2019-116540         2019-09-02  2019-09-03"
      ]
     },
     "execution_count": 8,
     "metadata": {},
     "output_type": "execute_result"
    }
   ],
   "source": [
    "#create ready_pickup df\n",
    "ready_pickup = pd.read_excel('data/muesli_raw_data.xlsx', sheet_name='InternData Study')\n",
    "\n",
    "#clean ready_pickup df\n",
    "ready_pickup.columns = ready_pickup.columns.str.lower()\n",
    "ready_pickup.columns = ready_pickup.columns.str.replace(\" \",\"_\")\n",
    "ready_pickup.head(2)"
   ]
  },
  {
   "cell_type": "markdown",
   "metadata": {},
   "source": [
    "Joining dataframes for overall lead time KPI:"
   ]
  },
  {
   "cell_type": "code",
   "execution_count": 9,
   "metadata": {},
   "outputs": [
    {
     "data": {
      "text/html": [
       "<div>\n",
       "<style scoped>\n",
       "    .dataframe tbody tr th:only-of-type {\n",
       "        vertical-align: middle;\n",
       "    }\n",
       "\n",
       "    .dataframe tbody tr th {\n",
       "        vertical-align: top;\n",
       "    }\n",
       "\n",
       "    .dataframe thead th {\n",
       "        text-align: right;\n",
       "    }\n",
       "</style>\n",
       "<table border=\"1\" class=\"dataframe\">\n",
       "  <thead>\n",
       "    <tr style=\"text-align: right;\">\n",
       "      <th></th>\n",
       "      <th>index</th>\n",
       "      <th>order_id</th>\n",
       "      <th>order_date</th>\n",
       "      <th>ship_mode</th>\n",
       "      <th>customer_id</th>\n",
       "      <th>customer_name_x</th>\n",
       "      <th>origin_channel</th>\n",
       "      <th>country/region</th>\n",
       "      <th>city</th>\n",
       "      <th>state</th>\n",
       "      <th>...</th>\n",
       "      <th>region</th>\n",
       "      <th>category</th>\n",
       "      <th>sub-category</th>\n",
       "      <th>product_id</th>\n",
       "      <th>sales</th>\n",
       "      <th>quantity</th>\n",
       "      <th>discount</th>\n",
       "      <th>profit</th>\n",
       "      <th>arrival_scan_date</th>\n",
       "      <th>customer_name_y</th>\n",
       "    </tr>\n",
       "  </thead>\n",
       "  <tbody>\n",
       "    <tr>\n",
       "      <th>0</th>\n",
       "      <td>252.0</td>\n",
       "      <td>CA-2019-145625</td>\n",
       "      <td>2019-09-11</td>\n",
       "      <td>Standard Class</td>\n",
       "      <td>KC-16540</td>\n",
       "      <td>Kelly Collister</td>\n",
       "      <td>Email</td>\n",
       "      <td>United States</td>\n",
       "      <td>San Diego</td>\n",
       "      <td>California</td>\n",
       "      <td>...</td>\n",
       "      <td>West</td>\n",
       "      <td>Special Projects Muesil</td>\n",
       "      <td>Gluten Free</td>\n",
       "      <td>TEC-AC-10003832</td>\n",
       "      <td>3347.37</td>\n",
       "      <td>13.0</td>\n",
       "      <td>0.0</td>\n",
       "      <td>636.0003</td>\n",
       "      <td>2019-09-23</td>\n",
       "      <td>Kelly Collister</td>\n",
       "    </tr>\n",
       "    <tr>\n",
       "      <th>2</th>\n",
       "      <td>325.0</td>\n",
       "      <td>CA-2019-162138</td>\n",
       "      <td>2019-04-23</td>\n",
       "      <td>Standard Class</td>\n",
       "      <td>GK-14620</td>\n",
       "      <td>Grace Kelly</td>\n",
       "      <td>Sales</td>\n",
       "      <td>United States</td>\n",
       "      <td>Hesperia</td>\n",
       "      <td>California</td>\n",
       "      <td>...</td>\n",
       "      <td>West</td>\n",
       "      <td>Special Projects Muesil</td>\n",
       "      <td>Gluten Free</td>\n",
       "      <td>TEC-AC-10001908</td>\n",
       "      <td>99.99</td>\n",
       "      <td>1.0</td>\n",
       "      <td>0.0</td>\n",
       "      <td>34.9965</td>\n",
       "      <td>2019-05-06</td>\n",
       "      <td>Grace Kelly</td>\n",
       "    </tr>\n",
       "  </tbody>\n",
       "</table>\n",
       "<p>2 rows × 21 columns</p>\n",
       "</div>"
      ],
      "text/plain": [
       "   index        order_id order_date       ship_mode customer_id  \\\n",
       "0  252.0  CA-2019-145625 2019-09-11  Standard Class    KC-16540   \n",
       "2  325.0  CA-2019-162138 2019-04-23  Standard Class    GK-14620   \n",
       "\n",
       "   customer_name_x origin_channel country/region       city       state  ...  \\\n",
       "0  Kelly Collister          Email  United States  San Diego  California  ...   \n",
       "2      Grace Kelly          Sales  United States   Hesperia  California  ...   \n",
       "\n",
       "   region                 category sub-category       product_id    sales  \\\n",
       "0    West  Special Projects Muesil  Gluten Free  TEC-AC-10003832  3347.37   \n",
       "2    West  Special Projects Muesil  Gluten Free  TEC-AC-10001908    99.99   \n",
       "\n",
       "   quantity  discount    profit  arrival_scan_date  customer_name_y  \n",
       "0      13.0       0.0  636.0003         2019-09-23  Kelly Collister  \n",
       "2       1.0       0.0   34.9965         2019-05-06      Grace Kelly  \n",
       "\n",
       "[2 rows x 21 columns]"
      ]
     },
     "execution_count": 9,
     "metadata": {},
     "output_type": "execute_result"
    }
   ],
   "source": [
    "#joining orders and arrivals = df1\n",
    "df1= pd.merge(orders, arrival, on= \"order_id\", how= \"inner\")\n",
    "df1.drop_duplicates(subset='order_id', inplace=True)\n",
    "df1.head(2)"
   ]
  },
  {
   "cell_type": "code",
   "execution_count": 10,
   "metadata": {},
   "outputs": [
    {
     "name": "stdout",
     "output_type": "stream",
     "text": [
      "<class 'pandas.core.frame.DataFrame'>\n",
      "Int64Index: 333 entries, 0 to 667\n",
      "Data columns (total 21 columns):\n",
      " #   Column             Non-Null Count  Dtype         \n",
      "---  ------             --------------  -----         \n",
      " 0   index              333 non-null    float64       \n",
      " 1   order_id           333 non-null    object        \n",
      " 2   order_date         333 non-null    datetime64[ns]\n",
      " 3   ship_mode          333 non-null    object        \n",
      " 4   customer_id        333 non-null    object        \n",
      " 5   customer_name_x    333 non-null    object        \n",
      " 6   origin_channel     333 non-null    object        \n",
      " 7   country/region     333 non-null    object        \n",
      " 8   city               333 non-null    object        \n",
      " 9   state              333 non-null    object        \n",
      " 10  postal_code        333 non-null    float64       \n",
      " 11  region             333 non-null    object        \n",
      " 12  category           333 non-null    object        \n",
      " 13  sub-category       333 non-null    object        \n",
      " 14  product_id         333 non-null    object        \n",
      " 15  sales              333 non-null    float64       \n",
      " 16  quantity           333 non-null    float64       \n",
      " 17  discount           333 non-null    float64       \n",
      " 18  profit             333 non-null    float64       \n",
      " 19  arrival_scan_date  333 non-null    datetime64[ns]\n",
      " 20  customer_name_y    333 non-null    object        \n",
      "dtypes: datetime64[ns](2), float64(6), object(13)\n",
      "memory usage: 57.2+ KB\n"
     ]
    }
   ],
   "source": [
    "df1.info()"
   ]
  },
  {
   "cell_type": "markdown",
   "metadata": {},
   "source": [
    "TIME BETWEEN ORDER DATE AND THE ARRIVAL TO CUSTOMER"
   ]
  },
  {
   "cell_type": "code",
   "execution_count": 11,
   "metadata": {},
   "outputs": [
    {
     "data": {
      "text/html": [
       "<div>\n",
       "<style scoped>\n",
       "    .dataframe tbody tr th:only-of-type {\n",
       "        vertical-align: middle;\n",
       "    }\n",
       "\n",
       "    .dataframe tbody tr th {\n",
       "        vertical-align: top;\n",
       "    }\n",
       "\n",
       "    .dataframe thead th {\n",
       "        text-align: right;\n",
       "    }\n",
       "</style>\n",
       "<table border=\"1\" class=\"dataframe\">\n",
       "  <thead>\n",
       "    <tr style=\"text-align: right;\">\n",
       "      <th></th>\n",
       "      <th>order_id</th>\n",
       "      <th>order_date</th>\n",
       "      <th>arrival_scan_date</th>\n",
       "      <th>day_dif_order</th>\n",
       "    </tr>\n",
       "  </thead>\n",
       "  <tbody>\n",
       "    <tr>\n",
       "      <th>0</th>\n",
       "      <td>CA-2019-145625</td>\n",
       "      <td>2019-09-11</td>\n",
       "      <td>2019-09-23</td>\n",
       "      <td>12</td>\n",
       "    </tr>\n",
       "    <tr>\n",
       "      <th>2</th>\n",
       "      <td>CA-2019-162138</td>\n",
       "      <td>2019-04-23</td>\n",
       "      <td>2019-05-06</td>\n",
       "      <td>13</td>\n",
       "    </tr>\n",
       "  </tbody>\n",
       "</table>\n",
       "</div>"
      ],
      "text/plain": [
       "         order_id order_date arrival_scan_date  day_dif_order\n",
       "0  CA-2019-145625 2019-09-11        2019-09-23             12\n",
       "2  CA-2019-162138 2019-04-23        2019-05-06             13"
      ]
     },
     "execution_count": 11,
     "metadata": {},
     "output_type": "execute_result"
    }
   ],
   "source": [
    "#df1 has order dates and arrivals for the gerneral lead time kpi\n",
    "df1 = df1[[\"order_id\", \"order_date\", \"arrival_scan_date\"]]\n",
    "\n",
    "#create columns for day difference\n",
    "df1[\"day_dif_order\"]= (df1[\"arrival_scan_date\"]-df1[\"order_date\"]).dt.days\n",
    "df1.head(2)\n"
   ]
  },
  {
   "cell_type": "markdown",
   "metadata": {},
   "source": [
    "# Inspecting Duplicates"
   ]
  },
  {
   "cell_type": "code",
   "execution_count": 12,
   "metadata": {},
   "outputs": [
    {
     "name": "stdout",
     "output_type": "stream",
     "text": [
      "duplicates for df1: 0\n",
      "duplicates for arrival: 0\n",
      "duplicates for truck: 0\n",
      "duplicates for ready_pickup: 147\n"
     ]
    }
   ],
   "source": [
    "duplicates_df1 = df1[df1.duplicated(keep=False)].shape\n",
    "print(f'duplicates for df1: {duplicates_df1[0]}') \n",
    "\n",
    "duplicates_arrival = arrival[arrival.duplicated(keep=False)].shape\n",
    "print(f'duplicates for arrival: {duplicates_arrival[0]}')\n",
    "\n",
    "duplicates_truck = truck[truck.duplicated(keep=False)].shape\n",
    "print(f'duplicates for truck: {duplicates_truck[0]}')\n",
    "\n",
    "duplicates_ready_pickup = ready_pickup[ready_pickup.duplicated(keep=False)].shape\n",
    "print(f'duplicates for ready_pickup: {duplicates_ready_pickup[0]}')\n",
    "# 147 of 290 rows are duplicated in the ready_pickup df"
   ]
  },
  {
   "cell_type": "code",
   "execution_count": null,
   "metadata": {},
   "outputs": [],
   "source": []
  },
  {
   "cell_type": "markdown",
   "metadata": {},
   "source": [
    "# Plotting overall leadtime "
   ]
  },
  {
   "cell_type": "code",
   "execution_count": 13,
   "metadata": {},
   "outputs": [
    {
     "data": {
      "image/png": "[encoded data removed]",
      "text/plain": [
       "<Figure size 720x360 with 1 Axes>"
      ]
     },
     "metadata": {},
     "output_type": "display_data"
    }
   ],
   "source": [
    "\n",
    "fig, ax = plt.subplots(figsize=(10,5))\n",
    "(\n",
    "    df1\n",
    "    .groupby('day_dif_order')\n",
    "    .count()['order_id']\n",
    "    .plot.bar(rot=360) \n",
    ")\n",
    "ax.set_title('Overall leadtime from order date to arrival date')\n",
    "\n",
    "ax.set_xlabel('Lead time');\n",
    "ax.set_ylabel('Count of orders');"
   ]
  },
  {
   "cell_type": "markdown",
   "metadata": {},
   "source": [
    "We have less data here.\n",
    "## according to company estimation it should take 3 days at the worth case.\n",
    "They are on time based on the data that we have. So there should be a problem processing the orders in warehouse. \n",
    "Company needs to have more inspectors to see what happens in warehouse. "
   ]
  },
  {
   "cell_type": "code",
   "execution_count": 14,
   "metadata": {},
   "outputs": [
    {
     "data": {
      "text/plain": [
       "count    333.0\n",
       "mean      10.8\n",
       "std        2.9\n",
       "min        3.0\n",
       "25%        9.0\n",
       "50%       11.0\n",
       "75%       13.0\n",
       "max       17.0\n",
       "Name: day_dif_order, dtype: float64"
      ]
     },
     "execution_count": 14,
     "metadata": {},
     "output_type": "execute_result"
    }
   ],
   "source": [
    "#summary statistics for first kpi\n",
    "#according to company estimation it should take 13 day in the worth case.\n",
    "df1.describe()[\"day_dif_order\"].round(1)"
   ]
  },
  {
   "cell_type": "code",
   "execution_count": 15,
   "metadata": {},
   "outputs": [
    {
     "data": {
      "image/png": "[encoded data removed]",
      "text/plain": [
       "<Figure size 720x360 with 1 Axes>"
      ]
     },
     "metadata": {},
     "output_type": "display_data"
    }
   ],
   "source": [
    "#boxplot to understand the variation of delivary dates\n",
    "fig, ax = plt.subplots(figsize=(10,5))\n",
    "(\n",
    "    df1\n",
    "    .groupby('day_dif_order')\n",
    "    .count()['order_id']\n",
    "    .plot.box() \n",
    ")\n",
    "ax.set_title('Overall leadtime from order date to arrival date')\n",
    "\n",
    "ax.set_xlabel('Lead time');\n",
    "ax.set_ylabel('Count of orders');\n"
   ]
  },
  {
   "cell_type": "markdown",
   "metadata": {},
   "source": [
    "\n",
    "# According to box plot more than half of orders had the delivery date more then 12 days.\n",
    "So muesli company in not on time based on his estimated delivery time based on the data that we have."
   ]
  },
  {
   "cell_type": "markdown",
   "metadata": {},
   "source": [
    "# FIRST KPI WITH SHIP MODE"
   ]
  },
  {
   "cell_type": "code",
   "execution_count": 41,
   "metadata": {},
   "outputs": [
    {
     "data": {
      "text/html": [
       "<div>\n",
       "<style scoped>\n",
       "    .dataframe tbody tr th:only-of-type {\n",
       "        vertical-align: middle;\n",
       "    }\n",
       "\n",
       "    .dataframe tbody tr th {\n",
       "        vertical-align: top;\n",
       "    }\n",
       "\n",
       "    .dataframe thead th {\n",
       "        text-align: right;\n",
       "    }\n",
       "</style>\n",
       "<table border=\"1\" class=\"dataframe\">\n",
       "  <thead>\n",
       "    <tr style=\"text-align: right;\">\n",
       "      <th></th>\n",
       "      <th>order_id</th>\n",
       "      <th>order_date_ord</th>\n",
       "      <th>arrival_scan_date</th>\n",
       "      <th>day_dif_order</th>\n",
       "      <th>row_id</th>\n",
       "      <th>order_datetruck_</th>\n",
       "      <th>on_truck_scan_date</th>\n",
       "      <th>ship_mode</th>\n",
       "      <th>truck_day_dif</th>\n",
       "    </tr>\n",
       "  </thead>\n",
       "  <tbody>\n",
       "    <tr>\n",
       "      <th>0</th>\n",
       "      <td>CA-2019-145625</td>\n",
       "      <td>2019-09-11</td>\n",
       "      <td>2019-09-23</td>\n",
       "      <td>12</td>\n",
       "      <td>251.0</td>\n",
       "      <td>2019-09-11</td>\n",
       "      <td>2019-09-18</td>\n",
       "      <td>Standard Processing</td>\n",
       "      <td>7</td>\n",
       "    </tr>\n",
       "    <tr>\n",
       "      <th>1</th>\n",
       "      <td>CA-2019-162138</td>\n",
       "      <td>2019-04-23</td>\n",
       "      <td>2019-05-06</td>\n",
       "      <td>13</td>\n",
       "      <td>324.0</td>\n",
       "      <td>2019-04-23</td>\n",
       "      <td>2019-05-01</td>\n",
       "      <td>Standard Processing</td>\n",
       "      <td>8</td>\n",
       "    </tr>\n",
       "  </tbody>\n",
       "</table>\n",
       "</div>"
      ],
      "text/plain": [
       "         order_id order_date_ord arrival_scan_date  day_dif_order  row_id  \\\n",
       "0  CA-2019-145625     2019-09-11        2019-09-23             12   251.0   \n",
       "1  CA-2019-162138     2019-04-23        2019-05-06             13   324.0   \n",
       "\n",
       "  order_datetruck_ on_truck_scan_date            ship_mode  truck_day_dif  \n",
       "0       2019-09-11         2019-09-18  Standard Processing              7  \n",
       "1       2019-04-23         2019-05-01  Standard Processing              8  "
      ]
     },
     "execution_count": 41,
     "metadata": {},
     "output_type": "execute_result"
    }
   ],
   "source": [
    "#joining df1 and truck for ship mode\n",
    "# lead_t_shipmode = pd.concat([df1, truck], axis=1, join='inner\n",
    "lead_t_shipmode = df1.merge(truck, how='inner', on='order_id', suffixes=('_ord', 'truck_'))\n",
    "lead_t_shipmode.head(2)"
   ]
  },
  {
   "cell_type": "code",
   "execution_count": 40,
   "metadata": {},
   "outputs": [
    {
     "name": "stdout",
     "output_type": "stream",
     "text": [
      "<class 'pandas.core.frame.DataFrame'>\n",
      "Int64Index: 333 entries, 0 to 332\n",
      "Data columns (total 4 columns):\n",
      " #   Column          Non-Null Count  Dtype         \n",
      "---  ------          --------------  -----         \n",
      " 0   order_id        333 non-null    object        \n",
      " 1   order_date_ord  333 non-null    datetime64[ns]\n",
      " 2   Avg. Lead Time  333 non-null    int64         \n",
      " 3   Shipping Mode   333 non-null    object        \n",
      "dtypes: datetime64[ns](1), int64(1), object(2)\n",
      "memory usage: 13.0+ KB\n"
     ]
    }
   ],
   "source": [
    "lead_t_shipmode.info()"
   ]
  },
  {
   "cell_type": "code",
   "execution_count": 42,
   "metadata": {},
   "outputs": [
    {
     "data": {
      "text/html": [
       "<div>\n",
       "<style scoped>\n",
       "    .dataframe tbody tr th:only-of-type {\n",
       "        vertical-align: middle;\n",
       "    }\n",
       "\n",
       "    .dataframe tbody tr th {\n",
       "        vertical-align: top;\n",
       "    }\n",
       "\n",
       "    .dataframe thead th {\n",
       "        text-align: right;\n",
       "    }\n",
       "</style>\n",
       "<table border=\"1\" class=\"dataframe\">\n",
       "  <thead>\n",
       "    <tr style=\"text-align: right;\">\n",
       "      <th></th>\n",
       "      <th>order_id</th>\n",
       "      <th>order_date_ord</th>\n",
       "      <th>day_dif_order</th>\n",
       "      <th>ship_mode</th>\n",
       "    </tr>\n",
       "  </thead>\n",
       "  <tbody>\n",
       "    <tr>\n",
       "      <th>0</th>\n",
       "      <td>CA-2019-145625</td>\n",
       "      <td>2019-09-11</td>\n",
       "      <td>12</td>\n",
       "      <td>Standard Processing</td>\n",
       "    </tr>\n",
       "    <tr>\n",
       "      <th>1</th>\n",
       "      <td>CA-2019-162138</td>\n",
       "      <td>2019-04-23</td>\n",
       "      <td>13</td>\n",
       "      <td>Standard Processing</td>\n",
       "    </tr>\n",
       "  </tbody>\n",
       "</table>\n",
       "</div>"
      ],
      "text/plain": [
       "         order_id order_date_ord  day_dif_order            ship_mode\n",
       "0  CA-2019-145625     2019-09-11             12  Standard Processing\n",
       "1  CA-2019-162138     2019-04-23             13  Standard Processing"
      ]
     },
     "execution_count": 42,
     "metadata": {},
     "output_type": "execute_result"
    }
   ],
   "source": [
    "#choosing the columns we need and cleaning columns\n",
    "lead_t_shipmode = lead_t_shipmode[['order_id', 'order_date_ord', 'day_dif_order', 'ship_mode']]\n",
    "lead_t_shipmode.head(2)"
   ]
  },
  {
   "cell_type": "code",
   "execution_count": 53,
   "metadata": {},
   "outputs": [
    {
     "data": {
      "image/png": "[encoded data removed]",
      "text/plain": [
       "<Figure size 1500x500 with 1 Axes>"
      ]
     },
     "metadata": {},
     "output_type": "display_data"
    }
   ],
   "source": [
    "#Rebecca's\n",
    "\n",
    "with plt.style.context('default'): #evoke style TEMPORARILY!\n",
    "    \n",
    "    fig = plt.figure(figsize=(15,5))\n",
    "    fig = sns.countplot( x=lead_t_shipmode['day_dif_order'], hue=lead_t_shipmode['ship_mode'], palette=['#008080', '#da70d6']) #hue serves a group by\n",
    "    plt.legend(loc='upper left')\n",
    "    fig.set_xlabel('Lead time')\n",
    "    fig.set_ylabel('Amount of orders')\n",
    "    # plt.box(on=None) #this line takes all the box off\n",
    "    fig.spines['right'].set_color('none') # turn off the right spine\n",
    "    fig.spines['top'].set_color('none') #turn off the top spine\n"
   ]
  },
  {
   "cell_type": "code",
   "execution_count": 20,
   "metadata": {},
   "outputs": [
    {
     "data": {
      "text/html": [
       "<div>\n",
       "<style scoped>\n",
       "    .dataframe tbody tr th:only-of-type {\n",
       "        vertical-align: middle;\n",
       "    }\n",
       "\n",
       "    .dataframe tbody tr th {\n",
       "        vertical-align: top;\n",
       "    }\n",
       "\n",
       "    .dataframe thead th {\n",
       "        text-align: right;\n",
       "    }\n",
       "</style>\n",
       "<table border=\"1\" class=\"dataframe\">\n",
       "  <thead>\n",
       "    <tr style=\"text-align: right;\">\n",
       "      <th>ship_mode</th>\n",
       "      <th>Express</th>\n",
       "      <th>Standard Processing</th>\n",
       "    </tr>\n",
       "    <tr>\n",
       "      <th>day_dif_order</th>\n",
       "      <th></th>\n",
       "      <th></th>\n",
       "    </tr>\n",
       "  </thead>\n",
       "  <tbody>\n",
       "    <tr>\n",
       "      <th>3</th>\n",
       "      <td>2</td>\n",
       "      <td>0</td>\n",
       "    </tr>\n",
       "    <tr>\n",
       "      <th>4</th>\n",
       "      <td>8</td>\n",
       "      <td>0</td>\n",
       "    </tr>\n",
       "    <tr>\n",
       "      <th>5</th>\n",
       "      <td>10</td>\n",
       "      <td>0</td>\n",
       "    </tr>\n",
       "    <tr>\n",
       "      <th>6</th>\n",
       "      <td>11</td>\n",
       "      <td>1</td>\n",
       "    </tr>\n",
       "    <tr>\n",
       "      <th>7</th>\n",
       "      <td>11</td>\n",
       "      <td>5</td>\n",
       "    </tr>\n",
       "    <tr>\n",
       "      <th>8</th>\n",
       "      <td>15</td>\n",
       "      <td>10</td>\n",
       "    </tr>\n",
       "    <tr>\n",
       "      <th>9</th>\n",
       "      <td>9</td>\n",
       "      <td>11</td>\n",
       "    </tr>\n",
       "    <tr>\n",
       "      <th>10</th>\n",
       "      <td>5</td>\n",
       "      <td>25</td>\n",
       "    </tr>\n",
       "    <tr>\n",
       "      <th>11</th>\n",
       "      <td>2</td>\n",
       "      <td>48</td>\n",
       "    </tr>\n",
       "    <tr>\n",
       "      <th>12</th>\n",
       "      <td>1</td>\n",
       "      <td>56</td>\n",
       "    </tr>\n",
       "    <tr>\n",
       "      <th>13</th>\n",
       "      <td>1</td>\n",
       "      <td>50</td>\n",
       "    </tr>\n",
       "    <tr>\n",
       "      <th>14</th>\n",
       "      <td>0</td>\n",
       "      <td>26</td>\n",
       "    </tr>\n",
       "    <tr>\n",
       "      <th>15</th>\n",
       "      <td>0</td>\n",
       "      <td>22</td>\n",
       "    </tr>\n",
       "    <tr>\n",
       "      <th>16</th>\n",
       "      <td>0</td>\n",
       "      <td>3</td>\n",
       "    </tr>\n",
       "    <tr>\n",
       "      <th>17</th>\n",
       "      <td>0</td>\n",
       "      <td>1</td>\n",
       "    </tr>\n",
       "  </tbody>\n",
       "</table>\n",
       "</div>"
      ],
      "text/plain": [
       "ship_mode      Express  Standard Processing\n",
       "day_dif_order                              \n",
       "3                    2                    0\n",
       "4                    8                    0\n",
       "5                   10                    0\n",
       "6                   11                    1\n",
       "7                   11                    5\n",
       "8                   15                   10\n",
       "9                    9                   11\n",
       "10                   5                   25\n",
       "11                   2                   48\n",
       "12                   1                   56\n",
       "13                   1                   50\n",
       "14                   0                   26\n",
       "15                   0                   22\n",
       "16                   0                    3\n",
       "17                   0                    1"
      ]
     },
     "execution_count": 20,
     "metadata": {},
     "output_type": "execute_result"
    }
   ],
   "source": [
    "#shipment aggregated by overall lead time\n",
    "kpi1 = pd.crosstab(lead_t_shipmode['day_dif_order'], columns=lead_t_shipmode['ship_mode'])\n",
    "kpi1 "
   ]
  },
  {
   "cell_type": "code",
   "execution_count": 21,
   "metadata": {},
   "outputs": [
    {
     "data": {
      "image/png": "[encoded data removed]",
      "text/plain": [
       "<Figure size 792x360 with 1 Axes>"
      ]
     },
     "metadata": {},
     "output_type": "display_data"
    }
   ],
   "source": [
    "#PLOTTING FIRST KPI1 WITH SHIP MODE \n",
    "\n",
    "kpi1_visual = pd.crosstab(lead_t_shipmode['day_dif_order'], \n",
    "                        lead_t_shipmode['ship_mode']).plot(kind='bar', \n",
    "                        stacked=False, figsize=(11,5), \n",
    "                        fontsize=10, \n",
    "                        color=['green', 'purple'], rot=360)\n",
    "kpi1_visual.legend(title='General lead time')\n",
    "kpi1_visual.set_xlabel('Days', fontsize=10)\n",
    "kpi1_visual.set_ylabel('Orders', fontsize=10);"
   ]
  },
  {
   "cell_type": "code",
   "execution_count": 22,
   "metadata": {},
   "outputs": [
    {
     "data": {
      "text/html": [
       "<div>\n",
       "<style scoped>\n",
       "    .dataframe tbody tr th:only-of-type {\n",
       "        vertical-align: middle;\n",
       "    }\n",
       "\n",
       "    .dataframe tbody tr th {\n",
       "        vertical-align: top;\n",
       "    }\n",
       "\n",
       "    .dataframe thead th {\n",
       "        text-align: right;\n",
       "    }\n",
       "</style>\n",
       "<table border=\"1\" class=\"dataframe\">\n",
       "  <thead>\n",
       "    <tr style=\"text-align: right;\">\n",
       "      <th></th>\n",
       "      <th>Avg. Lead Time</th>\n",
       "    </tr>\n",
       "    <tr>\n",
       "      <th>Shipping Mode</th>\n",
       "      <th></th>\n",
       "    </tr>\n",
       "  </thead>\n",
       "  <tbody>\n",
       "    <tr>\n",
       "      <th>Express</th>\n",
       "      <td>7.1</td>\n",
       "    </tr>\n",
       "    <tr>\n",
       "      <th>Standard Processing</th>\n",
       "      <td>11.9</td>\n",
       "    </tr>\n",
       "  </tbody>\n",
       "</table>\n",
       "</div>"
      ],
      "text/plain": [
       "                     Avg. Lead Time\n",
       "Shipping Mode                      \n",
       "Express                         7.1\n",
       "Standard Processing            11.9"
      ]
     },
     "execution_count": 22,
     "metadata": {},
     "output_type": "execute_result"
    }
   ],
   "source": [
    "#Average overall lead time for each shipment type -> Not a big difference\n",
    "\n",
    "lead_t_shipmode.rename(columns={'day_dif_order': 'Avg. Lead Time', 'truck_day_dif': 'Days for order to be ready', 'ship_mode': 'Shipping Mode'}, inplace=True)\n",
    "lead_t_shipmode.groupby('Shipping Mode').mean().round(1)"
   ]
  },
  {
   "cell_type": "markdown",
   "metadata": {},
   "source": [
    "# TIME BETWEEN ORDER DATE AND LOADING MUESLI ON THE TRUCK\n"
   ]
  },
  {
   "cell_type": "code",
   "execution_count": 23,
   "metadata": {},
   "outputs": [
    {
     "data": {
      "text/html": [
       "<div>\n",
       "<style scoped>\n",
       "    .dataframe tbody tr th:only-of-type {\n",
       "        vertical-align: middle;\n",
       "    }\n",
       "\n",
       "    .dataframe tbody tr th {\n",
       "        vertical-align: top;\n",
       "    }\n",
       "\n",
       "    .dataframe thead th {\n",
       "        text-align: right;\n",
       "    }\n",
       "</style>\n",
       "<table border=\"1\" class=\"dataframe\">\n",
       "  <thead>\n",
       "    <tr style=\"text-align: right;\">\n",
       "      <th></th>\n",
       "      <th>row_id</th>\n",
       "      <th>order_id</th>\n",
       "      <th>order_date</th>\n",
       "      <th>on_truck_scan_date</th>\n",
       "      <th>ship_mode</th>\n",
       "      <th>truck_day_dif</th>\n",
       "    </tr>\n",
       "  </thead>\n",
       "  <tbody>\n",
       "    <tr>\n",
       "      <th>0</th>\n",
       "      <td>3074.0</td>\n",
       "      <td>CA-2019-125206</td>\n",
       "      <td>2019-01-03</td>\n",
       "      <td>2019-01-07</td>\n",
       "      <td>Express</td>\n",
       "      <td>4</td>\n",
       "    </tr>\n",
       "    <tr>\n",
       "      <th>1</th>\n",
       "      <td>4919.0</td>\n",
       "      <td>CA-2019-160304</td>\n",
       "      <td>2019-01-02</td>\n",
       "      <td>2019-01-09</td>\n",
       "      <td>Standard Processing</td>\n",
       "      <td>7</td>\n",
       "    </tr>\n",
       "  </tbody>\n",
       "</table>\n",
       "</div>"
      ],
      "text/plain": [
       "   row_id        order_id order_date on_truck_scan_date            ship_mode  \\\n",
       "0  3074.0  CA-2019-125206 2019-01-03         2019-01-07              Express   \n",
       "1  4919.0  CA-2019-160304 2019-01-02         2019-01-09  Standard Processing   \n",
       "\n",
       "   truck_day_dif  \n",
       "0              4  \n",
       "1              7  "
      ]
     },
     "execution_count": 23,
     "metadata": {},
     "output_type": "execute_result"
    }
   ],
   "source": [
    "#we don't need to join orders with truck because the 5899 entries already have both the order_date and the truck_date :D\n",
    "\n",
    "#create columns for day difference\n",
    "truck['truck_day_dif'] = (truck['on_truck_scan_date'] - truck['order_date']).dt.days\n",
    "truck.head(2)\n"
   ]
  },
  {
   "cell_type": "code",
   "execution_count": 24,
   "metadata": {},
   "outputs": [
    {
     "data": {
      "image/png": "[encoded data removed]",
      "text/plain": [
       "<Figure size 720x360 with 1 Axes>"
      ]
     },
     "metadata": {},
     "output_type": "display_data"
    }
   ],
   "source": [
    "#plotting leadtime_muesli\n",
    "fig, ax = plt.subplots(figsize=(10,5))\n",
    "(\n",
    "    truck\n",
    "    .groupby('truck_day_dif')\n",
    "    .count()['row_id']\n",
    "    .plot.bar(rot=360) \n",
    ")\n",
    "\n",
    "ax.set_xlabel('days', fontsize=10);\n",
    "ax.set_ylabel('orders', fontsize=10);"
   ]
  },
  {
   "cell_type": "markdown",
   "metadata": {},
   "source": [
    "Summary statistics for the second kpi (order-date and on truck delivery date)\n",
    "\n",
    "It should take 6 days at the worse case.\n",
    "we have complete data"
   ]
  },
  {
   "cell_type": "code",
   "execution_count": 25,
   "metadata": {},
   "outputs": [
    {
     "data": {
      "text/plain": [
       "count    3002.0\n",
       "mean        6.1\n",
       "std         2.5\n",
       "min         0.0\n",
       "25%         5.0\n",
       "50%         7.0\n",
       "75%         8.0\n",
       "max        12.0\n",
       "Name: truck_day_dif, dtype: float64"
      ]
     },
     "execution_count": 25,
     "metadata": {},
     "output_type": "execute_result"
    }
   ],
   "source": [
    "truck.describe()[\"truck_day_dif\"].round(1)"
   ]
  },
  {
   "cell_type": "markdown",
   "metadata": {},
   "source": [
    "# Box plot for second kpi\n",
    "here also it takes more than worse case scenario for the orders to be loaded on truck.\n",
    "for more than half of orders it takes more that 6 days to be loaded on trucks.\n",
    "It seems to be a problem in ready to ship process. \n",
    "In next step we want to see what happens from ready to ship date and on truck scan date."
   ]
  },
  {
   "cell_type": "code",
   "execution_count": 26,
   "metadata": {},
   "outputs": [
    {
     "data": {
      "image/png": "[encoded data removed]",
      "text/plain": [
       "<Figure size 720x360 with 1 Axes>"
      ]
     },
     "metadata": {},
     "output_type": "display_data"
    }
   ],
   "source": [
    "fig, ax = plt.subplots(figsize=(10,5))\n",
    "(\n",
    "    truck\n",
    "    .groupby('truck_day_dif')\n",
    "    .count()['row_id']\n",
    "    .plot.box() \n",
    ")\n",
    "ax.set_title('leadtime from order date to on truck scan date')\n",
    "\n",
    "ax.set_xlabel('Lead time');\n",
    "ax.set_ylabel('count of orders');"
   ]
  },
  {
   "cell_type": "markdown",
   "metadata": {},
   "source": [
    "# TIME BETWEEN READY TO SHIP AND BEING LOADED IN THE TRUCK"
   ]
  },
  {
   "cell_type": "code",
   "execution_count": 27,
   "metadata": {},
   "outputs": [
    {
     "data": {
      "text/html": [
       "<div>\n",
       "<style scoped>\n",
       "    .dataframe tbody tr th:only-of-type {\n",
       "        vertical-align: middle;\n",
       "    }\n",
       "\n",
       "    .dataframe tbody tr th {\n",
       "        vertical-align: top;\n",
       "    }\n",
       "\n",
       "    .dataframe thead th {\n",
       "        text-align: right;\n",
       "    }\n",
       "</style>\n",
       "<table border=\"1\" class=\"dataframe\">\n",
       "  <thead>\n",
       "    <tr style=\"text-align: right;\">\n",
       "      <th></th>\n",
       "      <th>row_id</th>\n",
       "      <th>order_id</th>\n",
       "      <th>order_date</th>\n",
       "      <th>on_truck_scan_date</th>\n",
       "      <th>ship_mode</th>\n",
       "      <th>truck_day_dif</th>\n",
       "      <th>ready_to_ship_date</th>\n",
       "      <th>pickup_date</th>\n",
       "    </tr>\n",
       "  </thead>\n",
       "  <tbody>\n",
       "    <tr>\n",
       "      <th>0</th>\n",
       "      <td>3416.0</td>\n",
       "      <td>CA-2019-116540</td>\n",
       "      <td>2019-09-02</td>\n",
       "      <td>2019-09-03</td>\n",
       "      <td>Express</td>\n",
       "      <td>1</td>\n",
       "      <td>2019-09-02</td>\n",
       "      <td>2019-09-03</td>\n",
       "    </tr>\n",
       "    <tr>\n",
       "      <th>1</th>\n",
       "      <td>3416.0</td>\n",
       "      <td>CA-2019-116540</td>\n",
       "      <td>2019-09-02</td>\n",
       "      <td>2019-09-03</td>\n",
       "      <td>Express</td>\n",
       "      <td>1</td>\n",
       "      <td>2019-09-02</td>\n",
       "      <td>2019-09-03</td>\n",
       "    </tr>\n",
       "  </tbody>\n",
       "</table>\n",
       "</div>"
      ],
      "text/plain": [
       "   row_id        order_id order_date on_truck_scan_date ship_mode  \\\n",
       "0  3416.0  CA-2019-116540 2019-09-02         2019-09-03   Express   \n",
       "1  3416.0  CA-2019-116540 2019-09-02         2019-09-03   Express   \n",
       "\n",
       "   truck_day_dif ready_to_ship_date pickup_date  \n",
       "0              1         2019-09-02  2019-09-03  \n",
       "1              1         2019-09-02  2019-09-03  "
      ]
     },
     "execution_count": 27,
     "metadata": {},
     "output_type": "execute_result"
    }
   ],
   "source": [
    "#join truck and ready_pickup\n",
    "df3= pd.merge(truck, ready_pickup, on= \"order_id\", how= \"inner\")\n",
    "df3.head(2)"
   ]
  },
  {
   "cell_type": "code",
   "execution_count": 28,
   "metadata": {},
   "outputs": [
    {
     "data": {
      "text/html": [
       "<div>\n",
       "<style scoped>\n",
       "    .dataframe tbody tr th:only-of-type {\n",
       "        vertical-align: middle;\n",
       "    }\n",
       "\n",
       "    .dataframe tbody tr th {\n",
       "        vertical-align: top;\n",
       "    }\n",
       "\n",
       "    .dataframe thead th {\n",
       "        text-align: right;\n",
       "    }\n",
       "</style>\n",
       "<table border=\"1\" class=\"dataframe\">\n",
       "  <thead>\n",
       "    <tr style=\"text-align: right;\">\n",
       "      <th></th>\n",
       "      <th>row_id</th>\n",
       "      <th>order_id</th>\n",
       "      <th>order_date</th>\n",
       "      <th>on_truck_scan_date</th>\n",
       "      <th>ship_mode</th>\n",
       "      <th>truck_day_dif</th>\n",
       "      <th>ready_to_ship_date</th>\n",
       "      <th>pickup_date</th>\n",
       "      <th>ready_to_ship_on_truck_dif</th>\n",
       "    </tr>\n",
       "  </thead>\n",
       "  <tbody>\n",
       "    <tr>\n",
       "      <th>0</th>\n",
       "      <td>3416.0</td>\n",
       "      <td>CA-2019-116540</td>\n",
       "      <td>2019-09-02</td>\n",
       "      <td>2019-09-03</td>\n",
       "      <td>Express</td>\n",
       "      <td>1</td>\n",
       "      <td>2019-09-02</td>\n",
       "      <td>2019-09-03</td>\n",
       "      <td>1</td>\n",
       "    </tr>\n",
       "    <tr>\n",
       "      <th>1</th>\n",
       "      <td>3416.0</td>\n",
       "      <td>CA-2019-116540</td>\n",
       "      <td>2019-09-02</td>\n",
       "      <td>2019-09-03</td>\n",
       "      <td>Express</td>\n",
       "      <td>1</td>\n",
       "      <td>2019-09-02</td>\n",
       "      <td>2019-09-03</td>\n",
       "      <td>1</td>\n",
       "    </tr>\n",
       "  </tbody>\n",
       "</table>\n",
       "</div>"
      ],
      "text/plain": [
       "   row_id        order_id order_date on_truck_scan_date ship_mode  \\\n",
       "0  3416.0  CA-2019-116540 2019-09-02         2019-09-03   Express   \n",
       "1  3416.0  CA-2019-116540 2019-09-02         2019-09-03   Express   \n",
       "\n",
       "   truck_day_dif ready_to_ship_date pickup_date  ready_to_ship_on_truck_dif  \n",
       "0              1         2019-09-02  2019-09-03                           1  \n",
       "1              1         2019-09-02  2019-09-03                           1  "
      ]
     },
     "execution_count": 28,
     "metadata": {},
     "output_type": "execute_result"
    }
   ],
   "source": [
    "# lead time from on truck scan date and ready to ship date\n",
    "df3['ready_to_ship_on_truck_dif'] = (df3['on_truck_scan_date'] - df3['ready_to_ship_date']).dt.days\n",
    "df3.head(2)"
   ]
  },
  {
   "cell_type": "code",
   "execution_count": 29,
   "metadata": {},
   "outputs": [
    {
     "data": {
      "text/plain": [
       "2    119\n",
       "1     76\n",
       "3     55\n",
       "0     40\n",
       "Name: ready_to_ship_on_truck_dif, dtype: int64"
      ]
     },
     "execution_count": 29,
     "metadata": {},
     "output_type": "execute_result"
    }
   ],
   "source": [
    "df3['ready_to_ship_on_truck_dif'].value_counts()\n"
   ]
  },
  {
   "cell_type": "code",
   "execution_count": 30,
   "metadata": {},
   "outputs": [
    {
     "data": {
      "image/png": "[encoded data removed]",
      "text/plain": [
       "<Figure size 720x360 with 1 Axes>"
      ]
     },
     "metadata": {},
     "output_type": "display_data"
    }
   ],
   "source": [
    "# plotting leadtime from ready to ship date to on truck scan date\n",
    "fig, ax = plt.subplots(figsize=(10,5))\n",
    "(\n",
    "    df3\n",
    "    .groupby('ready_to_ship_on_truck_dif')\n",
    "    .count()['order_id']\n",
    "    .plot.bar(rot=360)\n",
    "    \n",
    ")\n",
    "ax.set_xlabel('days', fontsize=10);\n",
    "ax.set_ylabel('orders', fontsize=10);"
   ]
  },
  {
   "cell_type": "markdown",
   "metadata": {},
   "source": [
    "We have less data here.\n",
    "According to campany estimation it should take 3 days at the worth case.\n",
    "They are working good based on the data that we have. so there should be a problem\n",
    "Processing the orders in warehouse. company needs to have more inspectors to see what happens in warehouse."
   ]
  },
  {
   "cell_type": "code",
   "execution_count": 31,
   "metadata": {},
   "outputs": [
    {
     "data": {
      "text/plain": [
       "count    290.0\n",
       "mean       1.7\n",
       "std        0.9\n",
       "min        0.0\n",
       "25%        1.0\n",
       "50%        2.0\n",
       "75%        2.0\n",
       "max        3.0\n",
       "Name: ready_to_ship_on_truck_dif, dtype: float64"
      ]
     },
     "execution_count": 31,
     "metadata": {},
     "output_type": "execute_result"
    }
   ],
   "source": [
    "df3.describe()['ready_to_ship_on_truck_dif'].round(1)"
   ]
  },
  {
   "cell_type": "markdown",
   "metadata": {},
   "source": [
    "# Lead time between on truck scan date and arrival scan date."
   ]
  },
  {
   "cell_type": "code",
   "execution_count": 32,
   "metadata": {},
   "outputs": [
    {
     "data": {
      "text/html": [
       "<div>\n",
       "<style scoped>\n",
       "    .dataframe tbody tr th:only-of-type {\n",
       "        vertical-align: middle;\n",
       "    }\n",
       "\n",
       "    .dataframe tbody tr th {\n",
       "        vertical-align: top;\n",
       "    }\n",
       "\n",
       "    .dataframe thead th {\n",
       "        text-align: right;\n",
       "    }\n",
       "</style>\n",
       "<table border=\"1\" class=\"dataframe\">\n",
       "  <thead>\n",
       "    <tr style=\"text-align: right;\">\n",
       "      <th></th>\n",
       "      <th>row_id</th>\n",
       "      <th>truck_day_dif</th>\n",
       "      <th>on_truck_arrival_diff</th>\n",
       "    </tr>\n",
       "  </thead>\n",
       "  <tbody>\n",
       "    <tr>\n",
       "      <th>count</th>\n",
       "      <td>333.0</td>\n",
       "      <td>333.0</td>\n",
       "      <td>333.0</td>\n",
       "    </tr>\n",
       "    <tr>\n",
       "      <th>mean</th>\n",
       "      <td>5040.0</td>\n",
       "      <td>6.0</td>\n",
       "      <td>5.0</td>\n",
       "    </tr>\n",
       "    <tr>\n",
       "      <th>std</th>\n",
       "      <td>2982.0</td>\n",
       "      <td>3.0</td>\n",
       "      <td>1.0</td>\n",
       "    </tr>\n",
       "    <tr>\n",
       "      <th>min</th>\n",
       "      <td>1.0</td>\n",
       "      <td>0.0</td>\n",
       "      <td>1.0</td>\n",
       "    </tr>\n",
       "    <tr>\n",
       "      <th>25%</th>\n",
       "      <td>2408.0</td>\n",
       "      <td>5.0</td>\n",
       "      <td>4.0</td>\n",
       "    </tr>\n",
       "    <tr>\n",
       "      <th>50%</th>\n",
       "      <td>5163.0</td>\n",
       "      <td>7.0</td>\n",
       "      <td>5.0</td>\n",
       "    </tr>\n",
       "    <tr>\n",
       "      <th>75%</th>\n",
       "      <td>7725.0</td>\n",
       "      <td>8.0</td>\n",
       "      <td>5.0</td>\n",
       "    </tr>\n",
       "    <tr>\n",
       "      <th>max</th>\n",
       "      <td>9987.0</td>\n",
       "      <td>12.0</td>\n",
       "      <td>7.0</td>\n",
       "    </tr>\n",
       "  </tbody>\n",
       "</table>\n",
       "</div>"
      ],
      "text/plain": [
       "       row_id  truck_day_dif  on_truck_arrival_diff\n",
       "count   333.0          333.0                  333.0\n",
       "mean   5040.0            6.0                    5.0\n",
       "std    2982.0            3.0                    1.0\n",
       "min       1.0            0.0                    1.0\n",
       "25%    2408.0            5.0                    4.0\n",
       "50%    5163.0            7.0                    5.0\n",
       "75%    7725.0            8.0                    5.0\n",
       "max    9987.0           12.0                    7.0"
      ]
     },
     "execution_count": 32,
     "metadata": {},
     "output_type": "execute_result"
    }
   ],
   "source": [
    "#merging truck and arrival info\n",
    "shipment = pd.merge(truck, arrival, on=\"order_id\", how= \"right\")\n",
    "#created a column for weekday\n",
    "shipment[\"on_truck_arrival_diff\"]= (shipment[\"arrival_scan_date\"] - shipment[\"on_truck_scan_date\"]).dt.days\n",
    "#count the values\n",
    "shipment[\"on_truck_arrival_diff\"].value_counts()\n",
    "shipment.describe().round()"
   ]
  },
  {
   "cell_type": "code",
   "execution_count": 33,
   "metadata": {},
   "outputs": [
    {
     "data": {
      "image/png": "[encoded data removed]",
      "text/plain": [
       "<Figure size 720x360 with 1 Axes>"
      ]
     },
     "metadata": {},
     "output_type": "display_data"
    }
   ],
   "source": [
    "fig, ax = plt.subplots(figsize=(10,5))\n",
    "(\n",
    "    shipment\n",
    "    .groupby(\"on_truck_arrival_diff\")\n",
    "    .count()['order_id']\n",
    "    .plot.bar(rot=360) \n",
    ")\n",
    "\n",
    "ax.set_xlabel('days', fontsize = 10);\n",
    "ax.set_ylabel('orders', fontsize = 10)\n",
    "ax.set_title('KPI 3: Lead time in delivery company');"
   ]
  },
  {
   "cell_type": "markdown",
   "metadata": {},
   "source": [
    "# Summary statistics\n",
    "According to campany estimation it should take about 5 days.\n",
    "Orders are arriving at costumers on avarage in less than 4 days so delivery company is on time on average"
   ]
  },
  {
   "cell_type": "code",
   "execution_count": 34,
   "metadata": {},
   "outputs": [
    {
     "data": {
      "text/plain": [
       "count    333.0\n",
       "mean       4.6\n",
       "std        1.2\n",
       "min        1.0\n",
       "25%        4.0\n",
       "50%        5.0\n",
       "75%        5.0\n",
       "max        7.0\n",
       "Name: on_truck_arrival_diff, dtype: float64"
      ]
     },
     "execution_count": 34,
     "metadata": {},
     "output_type": "execute_result"
    }
   ],
   "source": [
    "shipment.describe()[\"on_truck_arrival_diff\"].round(1)"
   ]
  },
  {
   "cell_type": "markdown",
   "metadata": {},
   "source": [
    "# EXTRA CREDIT:"
   ]
  },
  {
   "cell_type": "code",
   "execution_count": 35,
   "metadata": {},
   "outputs": [
    {
     "name": "stdout",
     "output_type": "stream",
     "text": [
      "arrival_weekday    4.0\n",
      "Name: 0.95, dtype: float64\n",
      "The 95% of the arrivals are done on Fridays\n"
     ]
    }
   ],
   "source": [
    "\n",
    "#create columns for arrivals date\n",
    "arrival[\"arrival_weekday\"]= (arrival['arrival_scan_date']).dt.dayofweek\n",
    "#get 95%\n",
    "ninetyfive_percent_arrivals = arrival.quantile(0.95)\n",
    "print(ninetyfive_percent_arrivals)\n",
    "\n",
    "print(f'The 95% of the arrivals are done on Fridays')\n",
    "\n"
   ]
  },
  {
   "cell_type": "code",
   "execution_count": 36,
   "metadata": {},
   "outputs": [
    {
     "name": "stdout",
     "output_type": "stream",
     "text": [
      "index              9494.350000\n",
      "postal_code       98006.000000\n",
      "sales               956.984245\n",
      "quantity              8.000000\n",
      "discount              0.700000\n",
      "profit              168.470400\n",
      "orders_weekday        6.000000\n",
      "Name: 0.95, dtype: float64\n",
      "The 95% of the orders are made on Sunday\n"
     ]
    }
   ],
   "source": [
    "#create columns for orders date\n",
    "orders[\"orders_weekday\"]= (orders['order_date']).dt.dayofweek\n",
    "#get 95%\n",
    "ninetyfive_percent_orders_date = orders.quantile(0.95)\n",
    "print(ninetyfive_percent_orders_date)\n",
    "\n",
    "print(f'The 95% of the orders are made on Sunday')\n"
   ]
  },
  {
   "cell_type": "code",
   "execution_count": 37,
   "metadata": {},
   "outputs": [
    {
     "data": {
      "image/png": "[encoded data removed]",
      "text/plain": [
       "<Figure size 432x288 with 1 Axes>"
      ]
     },
     "metadata": {},
     "output_type": "display_data"
    }
   ],
   "source": [
    "plt.hist(x=orders['orders_weekday'], bins=7, alpha=0.8, edgecolor='k', color='purple');\n",
    "plt.xticks([0, 1, 2, 3, 4, 5, 6], ['Mon', 'Tues', 'Wed', 'Thur', 'Fri', 'Sa', 'So']);\n",
    "plt.xlabel('Order day', fontsize = 10);"
   ]
  },
  {
   "cell_type": "code",
   "execution_count": null,
   "metadata": {},
   "outputs": [],
   "source": []
  }
 ],
 "metadata": {
  "interpreter": {
   "hash": "ab3d85a18739f6fff6a9c8c504adc2ff9340867b576dede986e2ee74c099e4e5"
  },
  "kernelspec": {
   "display_name": "Python 3.9.7 ('nf_base')",
   "language": "python",
   "name": "python3"
  },
  "language_info": {
   "codemirror_mode": {
    "name": "ipython",
    "version": 3
   },
   "file_extension": ".py",
   "mimetype": "text/x-python",
   "name": "python",
   "nbconvert_exporter": "python",
   "pygments_lexer": "ipython3",
   "version": "3.9.7"
  },
  "orig_nbformat": 4
 },
 "nbformat": 4,
 "nbformat_minor": 2
}
