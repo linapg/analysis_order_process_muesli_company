{
 "cells": [
  {
   "cell_type": "code",
   "execution_count": 134,
   "metadata": {},
   "outputs": [],
   "source": [
    "#import libraries\n",
    "import pandas as pd\n",
    "import matplotlib.pyplot as plt\n",
    "import seaborn as sns\n",
    "import statsmodels.api as sm\n",
    "\n",
    "# hides warning messages\n",
    "import warnings\n",
    "warnings.filterwarnings(\"ignore\")\n",
    "plt.style.use('fivethirtyeight')"
   ]
  },
  {
   "cell_type": "code",
   "execution_count": 2,
   "metadata": {},
   "outputs": [
    {
     "data": {
      "text/html": [
       "<div>\n",
       "<style scoped>\n",
       "    .dataframe tbody tr th:only-of-type {\n",
       "        vertical-align: middle;\n",
       "    }\n",
       "\n",
       "    .dataframe tbody tr th {\n",
       "        vertical-align: top;\n",
       "    }\n",
       "\n",
       "    .dataframe thead th {\n",
       "        text-align: right;\n",
       "    }\n",
       "</style>\n",
       "<table border=\"1\" class=\"dataframe\">\n",
       "  <thead>\n",
       "    <tr style=\"text-align: right;\">\n",
       "      <th></th>\n",
       "      <th>Index</th>\n",
       "      <th>Order ID</th>\n",
       "      <th>Order Date</th>\n",
       "      <th>Ship mode</th>\n",
       "      <th>Customer ID</th>\n",
       "      <th>Customer Name</th>\n",
       "      <th>Origin Channel</th>\n",
       "      <th>Country/Region</th>\n",
       "      <th>City</th>\n",
       "      <th>State</th>\n",
       "      <th>Postal Code</th>\n",
       "      <th>Region</th>\n",
       "      <th>Category</th>\n",
       "      <th>Sub-Category</th>\n",
       "      <th>Product ID</th>\n",
       "      <th>Sales</th>\n",
       "      <th>Quantity</th>\n",
       "      <th>Discount</th>\n",
       "      <th>Profit</th>\n",
       "    </tr>\n",
       "  </thead>\n",
       "  <tbody>\n",
       "    <tr>\n",
       "      <th>0</th>\n",
       "      <td>27.0</td>\n",
       "      <td>CA-2019-121755</td>\n",
       "      <td>2019-01-16</td>\n",
       "      <td>Second Class</td>\n",
       "      <td>EH-13945</td>\n",
       "      <td>Eric Hoffmann</td>\n",
       "      <td>Email</td>\n",
       "      <td>United States</td>\n",
       "      <td>Los Angeles</td>\n",
       "      <td>California</td>\n",
       "      <td>90049.0</td>\n",
       "      <td>West</td>\n",
       "      <td>Special Projects Muesil</td>\n",
       "      <td>Gluten Free</td>\n",
       "      <td>TEC-AC-10003027</td>\n",
       "      <td>90.57</td>\n",
       "      <td>3.0</td>\n",
       "      <td>0.0</td>\n",
       "      <td>11.7741</td>\n",
       "    </tr>\n",
       "    <tr>\n",
       "      <th>1</th>\n",
       "      <td>45.0</td>\n",
       "      <td>CA-2019-118255</td>\n",
       "      <td>2019-03-11</td>\n",
       "      <td>First Class</td>\n",
       "      <td>ON-18715</td>\n",
       "      <td>Odella Nelson</td>\n",
       "      <td>Sales</td>\n",
       "      <td>United States</td>\n",
       "      <td>Eagan</td>\n",
       "      <td>Minnesota</td>\n",
       "      <td>55122.0</td>\n",
       "      <td>Central</td>\n",
       "      <td>Special Projects Muesil</td>\n",
       "      <td>Gluten Free</td>\n",
       "      <td>TEC-AC-10000171</td>\n",
       "      <td>45.98</td>\n",
       "      <td>2.0</td>\n",
       "      <td>0.0</td>\n",
       "      <td>19.7714</td>\n",
       "    </tr>\n",
       "  </tbody>\n",
       "</table>\n",
       "</div>"
      ],
      "text/plain": [
       "   Index        Order ID Order Date     Ship mode Customer ID  Customer Name  \\\n",
       "0   27.0  CA-2019-121755 2019-01-16  Second Class    EH-13945  Eric Hoffmann   \n",
       "1   45.0  CA-2019-118255 2019-03-11   First Class    ON-18715  Odella Nelson   \n",
       "\n",
       "  Origin Channel Country/Region         City       State  Postal Code  \\\n",
       "0          Email  United States  Los Angeles  California      90049.0   \n",
       "1          Sales  United States        Eagan   Minnesota      55122.0   \n",
       "\n",
       "    Region                 Category Sub-Category       Product ID  Sales  \\\n",
       "0     West  Special Projects Muesil  Gluten Free  TEC-AC-10003027  90.57   \n",
       "1  Central  Special Projects Muesil  Gluten Free  TEC-AC-10000171  45.98   \n",
       "\n",
       "   Quantity  Discount   Profit  \n",
       "0       3.0       0.0  11.7741  \n",
       "1       2.0       0.0  19.7714  "
      ]
     },
     "execution_count": 2,
     "metadata": {},
     "output_type": "execute_result"
    }
   ],
   "source": [
    "#read data\n",
    "orders = pd.read_excel('data/muesli_raw_data.xlsx', header=1) #Sonia needs to change the path\n",
    "#df = pd.read_csv('data/muesli_csv.csv', header=1)\n",
    "#df = pd.read_csv('/Users/linaperez/downloads/5 - Muesli Project raw data - Orders.csv', header=1) #Sonia needs to change the path\n",
    "orders.head(2)\n"
   ]
  },
  {
   "cell_type": "code",
   "execution_count": 3,
   "metadata": {},
   "outputs": [
    {
     "name": "stdout",
     "output_type": "stream",
     "text": [
      "<class 'pandas.core.frame.DataFrame'>\n",
      "RangeIndex: 9994 entries, 0 to 9993\n",
      "Data columns (total 19 columns):\n",
      " #   Column          Non-Null Count  Dtype         \n",
      "---  ------          --------------  -----         \n",
      " 0   Index           9994 non-null   float64       \n",
      " 1   Order ID        9994 non-null   object        \n",
      " 2   Order Date      9994 non-null   datetime64[ns]\n",
      " 3   Ship mode       9994 non-null   object        \n",
      " 4   Customer ID     9994 non-null   object        \n",
      " 5   Customer Name   9994 non-null   object        \n",
      " 6   Origin Channel  9994 non-null   object        \n",
      " 7   Country/Region  9994 non-null   object        \n",
      " 8   City            9994 non-null   object        \n",
      " 9   State           9994 non-null   object        \n",
      " 10  Postal Code     9983 non-null   float64       \n",
      " 11  Region          9994 non-null   object        \n",
      " 12  Category        9994 non-null   object        \n",
      " 13  Sub-Category    9994 non-null   object        \n",
      " 14  Product ID      9994 non-null   object        \n",
      " 15  Sales           9994 non-null   float64       \n",
      " 16  Quantity        9994 non-null   float64       \n",
      " 17  Discount        9994 non-null   float64       \n",
      " 18  Profit          9994 non-null   float64       \n",
      "dtypes: datetime64[ns](1), float64(6), object(12)\n",
      "memory usage: 1.4+ MB\n"
     ]
    }
   ],
   "source": [
    "orders.info()"
   ]
  },
  {
   "cell_type": "code",
   "execution_count": 4,
   "metadata": {},
   "outputs": [
    {
     "data": {
      "text/html": [
       "<div>\n",
       "<style scoped>\n",
       "    .dataframe tbody tr th:only-of-type {\n",
       "        vertical-align: middle;\n",
       "    }\n",
       "\n",
       "    .dataframe tbody tr th {\n",
       "        vertical-align: top;\n",
       "    }\n",
       "\n",
       "    .dataframe thead th {\n",
       "        text-align: right;\n",
       "    }\n",
       "</style>\n",
       "<table border=\"1\" class=\"dataframe\">\n",
       "  <thead>\n",
       "    <tr style=\"text-align: right;\">\n",
       "      <th></th>\n",
       "      <th>index</th>\n",
       "      <th>order_id</th>\n",
       "      <th>order_date</th>\n",
       "      <th>ship_mode</th>\n",
       "      <th>customer_id</th>\n",
       "      <th>customer_name</th>\n",
       "      <th>origin_channel</th>\n",
       "      <th>country/region</th>\n",
       "      <th>city</th>\n",
       "      <th>state</th>\n",
       "      <th>postal_code</th>\n",
       "      <th>region</th>\n",
       "      <th>category</th>\n",
       "      <th>sub-category</th>\n",
       "      <th>product_id</th>\n",
       "      <th>sales</th>\n",
       "      <th>quantity</th>\n",
       "      <th>discount</th>\n",
       "      <th>profit</th>\n",
       "    </tr>\n",
       "  </thead>\n",
       "  <tbody>\n",
       "    <tr>\n",
       "      <th>0</th>\n",
       "      <td>27.0</td>\n",
       "      <td>CA-2019-121755</td>\n",
       "      <td>2019-01-16</td>\n",
       "      <td>Second Class</td>\n",
       "      <td>EH-13945</td>\n",
       "      <td>Eric Hoffmann</td>\n",
       "      <td>Email</td>\n",
       "      <td>United States</td>\n",
       "      <td>Los Angeles</td>\n",
       "      <td>California</td>\n",
       "      <td>90049.0</td>\n",
       "      <td>West</td>\n",
       "      <td>Special Projects Muesil</td>\n",
       "      <td>Gluten Free</td>\n",
       "      <td>TEC-AC-10003027</td>\n",
       "      <td>90.57</td>\n",
       "      <td>3.0</td>\n",
       "      <td>0.0</td>\n",
       "      <td>11.7741</td>\n",
       "    </tr>\n",
       "    <tr>\n",
       "      <th>1</th>\n",
       "      <td>45.0</td>\n",
       "      <td>CA-2019-118255</td>\n",
       "      <td>2019-03-11</td>\n",
       "      <td>First Class</td>\n",
       "      <td>ON-18715</td>\n",
       "      <td>Odella Nelson</td>\n",
       "      <td>Sales</td>\n",
       "      <td>United States</td>\n",
       "      <td>Eagan</td>\n",
       "      <td>Minnesota</td>\n",
       "      <td>55122.0</td>\n",
       "      <td>Central</td>\n",
       "      <td>Special Projects Muesil</td>\n",
       "      <td>Gluten Free</td>\n",
       "      <td>TEC-AC-10000171</td>\n",
       "      <td>45.98</td>\n",
       "      <td>2.0</td>\n",
       "      <td>0.0</td>\n",
       "      <td>19.7714</td>\n",
       "    </tr>\n",
       "  </tbody>\n",
       "</table>\n",
       "</div>"
      ],
      "text/plain": [
       "   index        order_id order_date     ship_mode customer_id  customer_name  \\\n",
       "0   27.0  CA-2019-121755 2019-01-16  Second Class    EH-13945  Eric Hoffmann   \n",
       "1   45.0  CA-2019-118255 2019-03-11   First Class    ON-18715  Odella Nelson   \n",
       "\n",
       "  origin_channel country/region         city       state  postal_code  \\\n",
       "0          Email  United States  Los Angeles  California      90049.0   \n",
       "1          Sales  United States        Eagan   Minnesota      55122.0   \n",
       "\n",
       "    region                 category sub-category       product_id  sales  \\\n",
       "0     West  Special Projects Muesil  Gluten Free  TEC-AC-10003027  90.57   \n",
       "1  Central  Special Projects Muesil  Gluten Free  TEC-AC-10000171  45.98   \n",
       "\n",
       "   quantity  discount   profit  \n",
       "0       3.0       0.0  11.7741  \n",
       "1       2.0       0.0  19.7714  "
      ]
     },
     "execution_count": 4,
     "metadata": {},
     "output_type": "execute_result"
    }
   ],
   "source": [
    "#clean orders df\n",
    "orders.columns = orders.columns.str.lower()\n",
    "orders.columns = orders.columns.str.replace(\" \",\"_\")\n",
    "orders.head(2)"
   ]
  },
  {
   "cell_type": "code",
   "execution_count": 5,
   "metadata": {},
   "outputs": [
    {
     "data": {
      "text/html": [
       "<div>\n",
       "<style scoped>\n",
       "    .dataframe tbody tr th:only-of-type {\n",
       "        vertical-align: middle;\n",
       "    }\n",
       "\n",
       "    .dataframe tbody tr th {\n",
       "        vertical-align: top;\n",
       "    }\n",
       "\n",
       "    .dataframe thead th {\n",
       "        text-align: right;\n",
       "    }\n",
       "</style>\n",
       "<table border=\"1\" class=\"dataframe\">\n",
       "  <thead>\n",
       "    <tr style=\"text-align: right;\">\n",
       "      <th></th>\n",
       "      <th>order_id</th>\n",
       "      <th>arrival_scan_date</th>\n",
       "      <th>customer_name</th>\n",
       "    </tr>\n",
       "  </thead>\n",
       "  <tbody>\n",
       "    <tr>\n",
       "      <th>0</th>\n",
       "      <td>CA-2019-109666</td>\n",
       "      <td>2019-05-03</td>\n",
       "      <td>Kunst Miller</td>\n",
       "    </tr>\n",
       "    <tr>\n",
       "      <th>1</th>\n",
       "      <td>CA-2019-138933</td>\n",
       "      <td>2019-05-03</td>\n",
       "      <td>Jack Lebron</td>\n",
       "    </tr>\n",
       "  </tbody>\n",
       "</table>\n",
       "</div>"
      ],
      "text/plain": [
       "         order_id arrival_scan_date customer_name\n",
       "0  CA-2019-109666        2019-05-03  Kunst Miller\n",
       "1  CA-2019-138933        2019-05-03   Jack Lebron"
      ]
     },
     "execution_count": 5,
     "metadata": {},
     "output_type": "execute_result"
    }
   ],
   "source": [
    "#create arrival df\n",
    "arrival= pd.read_excel('data/muesli_raw_data.xlsx', sheet_name='Campaign Data')\n",
    "\n",
    "#clean arrival df\n",
    "arrival.columns = arrival.columns.str.lower()\n",
    "arrival.columns = arrival.columns.str.replace(\" \",\"_\")\n",
    "arrival.head(2)"
   ]
  },
  {
   "cell_type": "code",
   "execution_count": 6,
   "metadata": {},
   "outputs": [
    {
     "name": "stdout",
     "output_type": "stream",
     "text": [
      "<class 'pandas.core.frame.DataFrame'>\n",
      "RangeIndex: 333 entries, 0 to 332\n",
      "Data columns (total 3 columns):\n",
      " #   Column             Non-Null Count  Dtype         \n",
      "---  ------             --------------  -----         \n",
      " 0   order_id           333 non-null    object        \n",
      " 1   arrival_scan_date  333 non-null    datetime64[ns]\n",
      " 2   customer_name      333 non-null    object        \n",
      "dtypes: datetime64[ns](1), object(2)\n",
      "memory usage: 7.9+ KB\n"
     ]
    }
   ],
   "source": [
    "arrival.info()"
   ]
  },
  {
   "cell_type": "code",
   "execution_count": 7,
   "metadata": {},
   "outputs": [
    {
     "data": {
      "text/html": [
       "<div>\n",
       "<style scoped>\n",
       "    .dataframe tbody tr th:only-of-type {\n",
       "        vertical-align: middle;\n",
       "    }\n",
       "\n",
       "    .dataframe tbody tr th {\n",
       "        vertical-align: top;\n",
       "    }\n",
       "\n",
       "    .dataframe thead th {\n",
       "        text-align: right;\n",
       "    }\n",
       "</style>\n",
       "<table border=\"1\" class=\"dataframe\">\n",
       "  <thead>\n",
       "    <tr style=\"text-align: right;\">\n",
       "      <th></th>\n",
       "      <th>row_id</th>\n",
       "      <th>order_id</th>\n",
       "      <th>order_date</th>\n",
       "      <th>on_truck_scan_date</th>\n",
       "      <th>ship_mode</th>\n",
       "    </tr>\n",
       "  </thead>\n",
       "  <tbody>\n",
       "    <tr>\n",
       "      <th>0</th>\n",
       "      <td>3074.0</td>\n",
       "      <td>CA-2019-125206</td>\n",
       "      <td>2019-01-03</td>\n",
       "      <td>2019-01-07</td>\n",
       "      <td>Express</td>\n",
       "    </tr>\n",
       "    <tr>\n",
       "      <th>1</th>\n",
       "      <td>4919.0</td>\n",
       "      <td>CA-2019-160304</td>\n",
       "      <td>2019-01-02</td>\n",
       "      <td>2019-01-09</td>\n",
       "      <td>Standard Processing</td>\n",
       "    </tr>\n",
       "  </tbody>\n",
       "</table>\n",
       "</div>"
      ],
      "text/plain": [
       "   row_id        order_id order_date on_truck_scan_date            ship_mode\n",
       "0  3074.0  CA-2019-125206 2019-01-03         2019-01-07              Express\n",
       "1  4919.0  CA-2019-160304 2019-01-02         2019-01-09  Standard Processing"
      ]
     },
     "execution_count": 7,
     "metadata": {},
     "output_type": "execute_result"
    }
   ],
   "source": [
    "#create truck df\n",
    "truck = pd.read_excel('data/muesli_raw_data.xlsx', sheet_name='Order Process Data')\n",
    "\n",
    "#clean truck df\n",
    "truck.columns = truck.columns.str.lower()\n",
    "truck.columns = truck.columns.str.replace(\" \",\"_\")\n",
    "truck.head(2)"
   ]
  },
  {
   "cell_type": "code",
   "execution_count": 8,
   "metadata": {},
   "outputs": [
    {
     "name": "stdout",
     "output_type": "stream",
     "text": [
      "<class 'pandas.core.frame.DataFrame'>\n",
      "RangeIndex: 5899 entries, 0 to 5898\n",
      "Data columns (total 5 columns):\n",
      " #   Column              Non-Null Count  Dtype         \n",
      "---  ------              --------------  -----         \n",
      " 0   row_id              5899 non-null   float64       \n",
      " 1   order_id            5899 non-null   object        \n",
      " 2   order_date          5899 non-null   datetime64[ns]\n",
      " 3   on_truck_scan_date  5899 non-null   datetime64[ns]\n",
      " 4   ship_mode           5899 non-null   object        \n",
      "dtypes: datetime64[ns](2), float64(1), object(2)\n",
      "memory usage: 230.6+ KB\n"
     ]
    }
   ],
   "source": [
    "truck.info()"
   ]
  },
  {
   "cell_type": "code",
   "execution_count": 9,
   "metadata": {},
   "outputs": [
    {
     "data": {
      "text/html": [
       "<div>\n",
       "<style scoped>\n",
       "    .dataframe tbody tr th:only-of-type {\n",
       "        vertical-align: middle;\n",
       "    }\n",
       "\n",
       "    .dataframe tbody tr th {\n",
       "        vertical-align: top;\n",
       "    }\n",
       "\n",
       "    .dataframe thead th {\n",
       "        text-align: right;\n",
       "    }\n",
       "</style>\n",
       "<table border=\"1\" class=\"dataframe\">\n",
       "  <thead>\n",
       "    <tr style=\"text-align: right;\">\n",
       "      <th></th>\n",
       "      <th>order_id</th>\n",
       "      <th>ready_to_ship_date</th>\n",
       "      <th>pickup_date</th>\n",
       "    </tr>\n",
       "  </thead>\n",
       "  <tbody>\n",
       "    <tr>\n",
       "      <th>0</th>\n",
       "      <td>CA-2019-116540</td>\n",
       "      <td>2019-09-02</td>\n",
       "      <td>2019-09-03</td>\n",
       "    </tr>\n",
       "    <tr>\n",
       "      <th>1</th>\n",
       "      <td>CA-2019-116540</td>\n",
       "      <td>2019-09-02</td>\n",
       "      <td>2019-09-03</td>\n",
       "    </tr>\n",
       "  </tbody>\n",
       "</table>\n",
       "</div>"
      ],
      "text/plain": [
       "         order_id ready_to_ship_date pickup_date\n",
       "0  CA-2019-116540         2019-09-02  2019-09-03\n",
       "1  CA-2019-116540         2019-09-02  2019-09-03"
      ]
     },
     "execution_count": 9,
     "metadata": {},
     "output_type": "execute_result"
    }
   ],
   "source": [
    "#create ready_pickup df\n",
    "ready_pickup = pd.read_excel('data/muesli_raw_data.xlsx', sheet_name='InternData Study')\n",
    "\n",
    "#clean ready_pickup df\n",
    "ready_pickup.columns = ready_pickup.columns.str.lower()\n",
    "ready_pickup.columns = ready_pickup.columns.str.replace(\" \",\"_\")\n",
    "ready_pickup.head(2)"
   ]
  },
  {
   "cell_type": "code",
   "execution_count": 10,
   "metadata": {},
   "outputs": [
    {
     "name": "stdout",
     "output_type": "stream",
     "text": [
      "<class 'pandas.core.frame.DataFrame'>\n",
      "RangeIndex: 290 entries, 0 to 289\n",
      "Data columns (total 3 columns):\n",
      " #   Column              Non-Null Count  Dtype         \n",
      "---  ------              --------------  -----         \n",
      " 0   order_id            290 non-null    object        \n",
      " 1   ready_to_ship_date  290 non-null    datetime64[ns]\n",
      " 2   pickup_date         290 non-null    datetime64[ns]\n",
      "dtypes: datetime64[ns](2), object(1)\n",
      "memory usage: 6.9+ KB\n"
     ]
    }
   ],
   "source": [
    "ready_pickup.info()"
   ]
  },
  {
   "cell_type": "code",
   "execution_count": 11,
   "metadata": {},
   "outputs": [
    {
     "name": "stdout",
     "output_type": "stream",
     "text": [
      "<class 'pandas.core.frame.DataFrame'>\n",
      "Int64Index: 668 entries, 0 to 667\n",
      "Data columns (total 21 columns):\n",
      " #   Column             Non-Null Count  Dtype         \n",
      "---  ------             --------------  -----         \n",
      " 0   index              668 non-null    float64       \n",
      " 1   order_id           668 non-null    object        \n",
      " 2   order_date         668 non-null    datetime64[ns]\n",
      " 3   ship_mode          668 non-null    object        \n",
      " 4   customer_id        668 non-null    object        \n",
      " 5   customer_name_x    668 non-null    object        \n",
      " 6   origin_channel     668 non-null    object        \n",
      " 7   country/region     668 non-null    object        \n",
      " 8   city               668 non-null    object        \n",
      " 9   state              668 non-null    object        \n",
      " 10  postal_code        668 non-null    float64       \n",
      " 11  region             668 non-null    object        \n",
      " 12  category           668 non-null    object        \n",
      " 13  sub-category       668 non-null    object        \n",
      " 14  product_id         668 non-null    object        \n",
      " 15  sales              668 non-null    float64       \n",
      " 16  quantity           668 non-null    float64       \n",
      " 17  discount           668 non-null    float64       \n",
      " 18  profit             668 non-null    float64       \n",
      " 19  arrival_scan_date  668 non-null    datetime64[ns]\n",
      " 20  customer_name_y    668 non-null    object        \n",
      "dtypes: datetime64[ns](2), float64(6), object(13)\n",
      "memory usage: 114.8+ KB\n"
     ]
    }
   ],
   "source": [
    "#joining orders and arrivals = df1\n",
    "df1= pd.merge(orders, arrival, on= \"order_id\", how= \"inner\")\n",
    "df1.info()\n"
   ]
  },
  {
   "cell_type": "code",
   "execution_count": 12,
   "metadata": {},
   "outputs": [
    {
     "data": {
      "text/html": [
       "<div>\n",
       "<style scoped>\n",
       "    .dataframe tbody tr th:only-of-type {\n",
       "        vertical-align: middle;\n",
       "    }\n",
       "\n",
       "    .dataframe tbody tr th {\n",
       "        vertical-align: top;\n",
       "    }\n",
       "\n",
       "    .dataframe thead th {\n",
       "        text-align: right;\n",
       "    }\n",
       "</style>\n",
       "<table border=\"1\" class=\"dataframe\">\n",
       "  <thead>\n",
       "    <tr style=\"text-align: right;\">\n",
       "      <th></th>\n",
       "      <th>index</th>\n",
       "      <th>order_id</th>\n",
       "      <th>order_date</th>\n",
       "      <th>ship_mode</th>\n",
       "      <th>customer_id</th>\n",
       "      <th>customer_name_x</th>\n",
       "      <th>origin_channel</th>\n",
       "      <th>country/region</th>\n",
       "      <th>city</th>\n",
       "      <th>state</th>\n",
       "      <th>...</th>\n",
       "      <th>region</th>\n",
       "      <th>category</th>\n",
       "      <th>sub-category</th>\n",
       "      <th>product_id</th>\n",
       "      <th>sales</th>\n",
       "      <th>quantity</th>\n",
       "      <th>discount</th>\n",
       "      <th>profit</th>\n",
       "      <th>arrival_scan_date</th>\n",
       "      <th>customer_name_y</th>\n",
       "    </tr>\n",
       "  </thead>\n",
       "  <tbody>\n",
       "    <tr>\n",
       "      <th>0</th>\n",
       "      <td>252.0</td>\n",
       "      <td>CA-2019-145625</td>\n",
       "      <td>2019-09-11</td>\n",
       "      <td>Standard Class</td>\n",
       "      <td>KC-16540</td>\n",
       "      <td>Kelly Collister</td>\n",
       "      <td>Email</td>\n",
       "      <td>United States</td>\n",
       "      <td>San Diego</td>\n",
       "      <td>California</td>\n",
       "      <td>...</td>\n",
       "      <td>West</td>\n",
       "      <td>Special Projects Muesil</td>\n",
       "      <td>Gluten Free</td>\n",
       "      <td>TEC-AC-10003832</td>\n",
       "      <td>3347.37</td>\n",
       "      <td>13.0</td>\n",
       "      <td>0.0</td>\n",
       "      <td>636.0003</td>\n",
       "      <td>2019-09-23</td>\n",
       "      <td>Kelly Collister</td>\n",
       "    </tr>\n",
       "    <tr>\n",
       "      <th>1</th>\n",
       "      <td>251.0</td>\n",
       "      <td>CA-2019-145625</td>\n",
       "      <td>2019-09-11</td>\n",
       "      <td>Standard Class</td>\n",
       "      <td>KC-16540</td>\n",
       "      <td>Kelly Collister</td>\n",
       "      <td>Email</td>\n",
       "      <td>United States</td>\n",
       "      <td>San Diego</td>\n",
       "      <td>California</td>\n",
       "      <td>...</td>\n",
       "      <td>West</td>\n",
       "      <td>Power Muesli</td>\n",
       "      <td>Nuts and more</td>\n",
       "      <td>OFF-PA-10004569</td>\n",
       "      <td>7.61</td>\n",
       "      <td>1.0</td>\n",
       "      <td>0.0</td>\n",
       "      <td>3.5767</td>\n",
       "      <td>2019-09-23</td>\n",
       "      <td>Kelly Collister</td>\n",
       "    </tr>\n",
       "  </tbody>\n",
       "</table>\n",
       "<p>2 rows × 21 columns</p>\n",
       "</div>"
      ],
      "text/plain": [
       "   index        order_id order_date       ship_mode customer_id  \\\n",
       "0  252.0  CA-2019-145625 2019-09-11  Standard Class    KC-16540   \n",
       "1  251.0  CA-2019-145625 2019-09-11  Standard Class    KC-16540   \n",
       "\n",
       "   customer_name_x origin_channel country/region       city       state  ...  \\\n",
       "0  Kelly Collister          Email  United States  San Diego  California  ...   \n",
       "1  Kelly Collister          Email  United States  San Diego  California  ...   \n",
       "\n",
       "   region                 category   sub-category       product_id    sales  \\\n",
       "0    West  Special Projects Muesil    Gluten Free  TEC-AC-10003832  3347.37   \n",
       "1    West             Power Muesli  Nuts and more  OFF-PA-10004569     7.61   \n",
       "\n",
       "   quantity  discount    profit  arrival_scan_date  customer_name_y  \n",
       "0      13.0       0.0  636.0003         2019-09-23  Kelly Collister  \n",
       "1       1.0       0.0    3.5767         2019-09-23  Kelly Collister  \n",
       "\n",
       "[2 rows x 21 columns]"
      ]
     },
     "execution_count": 12,
     "metadata": {},
     "output_type": "execute_result"
    }
   ],
   "source": [
    "df1.head(2)"
   ]
  },
  {
   "cell_type": "code",
   "execution_count": 13,
   "metadata": {},
   "outputs": [],
   "source": [
    "#TIME BETWEEN ORDER DATE AND THE ARRIVAL TO CUSTOMER\n",
    "\n",
    "#df1 has order dates and arrivals for the gerneral lead time kpi\n",
    "df1 = df1[[\"order_id\", \"order_date\", \"arrival_scan_date\"]]\n",
    "\n",
    "#create columns for order dates\n",
    "df1[\"order_year\"]=df1[\"order_date\"].dt.year\n",
    "df1[\"order_month\"]=df1[\"order_date\"].dt.month\n",
    "df1[\"order_weekday\"]=df1[\"order_date\"].dt.dayofweek\n",
    "\n",
    "#create columns for arrival\n",
    "df1[\"arrival_year\"]=df1[\"arrival_scan_date\"].dt.year\n",
    "df1[\"arrival_month\"]=df1[\"arrival_scan_date\"].dt.month\n",
    "df1[\"arrival_weekday\"]=df1[\"arrival_scan_date\"].dt.dayofweek\n",
    "\n",
    "#create columns for day difference\n",
    "df1[\"day_dif_order\"]= (df1[\"arrival_scan_date\"]-df1[\"order_date\"]).dt.days"
   ]
  },
  {
   "cell_type": "code",
   "execution_count": 14,
   "metadata": {},
   "outputs": [
    {
     "data": {
      "text/html": [
       "<div>\n",
       "<style scoped>\n",
       "    .dataframe tbody tr th:only-of-type {\n",
       "        vertical-align: middle;\n",
       "    }\n",
       "\n",
       "    .dataframe tbody tr th {\n",
       "        vertical-align: top;\n",
       "    }\n",
       "\n",
       "    .dataframe thead th {\n",
       "        text-align: right;\n",
       "    }\n",
       "</style>\n",
       "<table border=\"1\" class=\"dataframe\">\n",
       "  <thead>\n",
       "    <tr style=\"text-align: right;\">\n",
       "      <th></th>\n",
       "      <th>order_id</th>\n",
       "      <th>order_date</th>\n",
       "      <th>arrival_scan_date</th>\n",
       "      <th>order_year</th>\n",
       "      <th>order_month</th>\n",
       "      <th>order_weekday</th>\n",
       "      <th>arrival_year</th>\n",
       "      <th>arrival_month</th>\n",
       "      <th>arrival_weekday</th>\n",
       "      <th>day_dif_order</th>\n",
       "    </tr>\n",
       "  </thead>\n",
       "  <tbody>\n",
       "    <tr>\n",
       "      <th>0</th>\n",
       "      <td>CA-2019-145625</td>\n",
       "      <td>2019-09-11</td>\n",
       "      <td>2019-09-23</td>\n",
       "      <td>2019</td>\n",
       "      <td>9</td>\n",
       "      <td>2</td>\n",
       "      <td>2019</td>\n",
       "      <td>9</td>\n",
       "      <td>0</td>\n",
       "      <td>12</td>\n",
       "    </tr>\n",
       "    <tr>\n",
       "      <th>1</th>\n",
       "      <td>CA-2019-145625</td>\n",
       "      <td>2019-09-11</td>\n",
       "      <td>2019-09-23</td>\n",
       "      <td>2019</td>\n",
       "      <td>9</td>\n",
       "      <td>2</td>\n",
       "      <td>2019</td>\n",
       "      <td>9</td>\n",
       "      <td>0</td>\n",
       "      <td>12</td>\n",
       "    </tr>\n",
       "    <tr>\n",
       "      <th>2</th>\n",
       "      <td>CA-2019-162138</td>\n",
       "      <td>2019-04-23</td>\n",
       "      <td>2019-05-06</td>\n",
       "      <td>2019</td>\n",
       "      <td>4</td>\n",
       "      <td>1</td>\n",
       "      <td>2019</td>\n",
       "      <td>5</td>\n",
       "      <td>0</td>\n",
       "      <td>13</td>\n",
       "    </tr>\n",
       "    <tr>\n",
       "      <th>3</th>\n",
       "      <td>CA-2019-162138</td>\n",
       "      <td>2019-04-23</td>\n",
       "      <td>2019-05-06</td>\n",
       "      <td>2019</td>\n",
       "      <td>4</td>\n",
       "      <td>1</td>\n",
       "      <td>2019</td>\n",
       "      <td>5</td>\n",
       "      <td>0</td>\n",
       "      <td>13</td>\n",
       "    </tr>\n",
       "    <tr>\n",
       "      <th>4</th>\n",
       "      <td>CA-2019-169166</td>\n",
       "      <td>2019-05-09</td>\n",
       "      <td>2019-05-20</td>\n",
       "      <td>2019</td>\n",
       "      <td>5</td>\n",
       "      <td>3</td>\n",
       "      <td>2019</td>\n",
       "      <td>5</td>\n",
       "      <td>0</td>\n",
       "      <td>11</td>\n",
       "    </tr>\n",
       "  </tbody>\n",
       "</table>\n",
       "</div>"
      ],
      "text/plain": [
       "         order_id order_date arrival_scan_date  order_year  order_month  \\\n",
       "0  CA-2019-145625 2019-09-11        2019-09-23        2019            9   \n",
       "1  CA-2019-145625 2019-09-11        2019-09-23        2019            9   \n",
       "2  CA-2019-162138 2019-04-23        2019-05-06        2019            4   \n",
       "3  CA-2019-162138 2019-04-23        2019-05-06        2019            4   \n",
       "4  CA-2019-169166 2019-05-09        2019-05-20        2019            5   \n",
       "\n",
       "   order_weekday  arrival_year  arrival_month  arrival_weekday  day_dif_order  \n",
       "0              2          2019              9                0             12  \n",
       "1              2          2019              9                0             12  \n",
       "2              1          2019              5                0             13  \n",
       "3              1          2019              5                0             13  \n",
       "4              3          2019              5                0             11  "
      ]
     },
     "execution_count": 14,
     "metadata": {},
     "output_type": "execute_result"
    }
   ],
   "source": [
    "df1.head()"
   ]
  },
  {
   "cell_type": "code",
   "execution_count": 33,
   "metadata": {},
   "outputs": [
    {
     "name": "stdout",
     "output_type": "stream",
     "text": [
      "<class 'pandas.core.frame.DataFrame'>\n",
      "Int64Index: 668 entries, 0 to 667\n",
      "Data columns (total 10 columns):\n",
      " #   Column             Non-Null Count  Dtype         \n",
      "---  ------             --------------  -----         \n",
      " 0   order_id           668 non-null    object        \n",
      " 1   order_date         668 non-null    datetime64[ns]\n",
      " 2   arrival_scan_date  668 non-null    datetime64[ns]\n",
      " 3   order_year         668 non-null    int64         \n",
      " 4   order_month        668 non-null    int64         \n",
      " 5   order_weekday      668 non-null    int64         \n",
      " 6   arrival_year       668 non-null    int64         \n",
      " 7   arrival_month      668 non-null    int64         \n",
      " 8   arrival_weekday    668 non-null    int64         \n",
      " 9   day_dif_order      668 non-null    int64         \n",
      "dtypes: datetime64[ns](2), int64(7), object(1)\n",
      "memory usage: 57.4+ KB\n"
     ]
    }
   ],
   "source": [
    "df1.drop_duplicates().reset_index()\n",
    "df1.info()"
   ]
  },
  {
   "cell_type": "code",
   "execution_count": 16,
   "metadata": {},
   "outputs": [],
   "source": [
    "leadtime= df1.groupby(\"day_dif_order\").order_id.count()"
   ]
  },
  {
   "cell_type": "code",
   "execution_count": 135,
   "metadata": {},
   "outputs": [
    {
     "data": {
      "image/png": "[encoded data removed]",
      "text/plain": [
       "<Figure size 720x360 with 1 Axes>"
      ]
     },
     "metadata": {},
     "output_type": "display_data"
    }
   ],
   "source": [
    "# plotting overall leadtime \n",
    "fig, ax = plt.subplots(figsize=(10,5))\n",
    "(\n",
    "    df1\n",
    "    .groupby('day_dif_order')\n",
    "    .count()['order_id']\n",
    "    .plot.bar() \n",
    ")\n",
    "ax.set_title('Overall leadtime from order date to arrival date')\n",
    "\n",
    "ax.set_xlabel('Lead time');\n",
    "ax.set_ylabel('Count of orders');"
   ]
  },
  {
   "cell_type": "code",
   "execution_count": 103,
   "metadata": {},
   "outputs": [
    {
     "data": {
      "text/plain": [
       "count    668.000000\n",
       "mean      10.886228\n",
       "std        2.878174\n",
       "min        3.000000\n",
       "25%        9.000000\n",
       "50%       12.000000\n",
       "75%       13.000000\n",
       "max       17.000000\n",
       "Name: day_dif_order, dtype: float64"
      ]
     },
     "execution_count": 103,
     "metadata": {},
     "output_type": "execute_result"
    }
   ],
   "source": [
    "#summary statistics for first kpi\n",
    "#according to company estmation it should take 13 day in the worth case.\n",
    "df1.describe()[\"day_dif_order\"]"
   ]
  },
  {
   "cell_type": "code",
   "execution_count": 104,
   "metadata": {},
   "outputs": [
    {
     "data": {
      "image/png": "[encoded data removed]",
      "text/plain": [
       "<Figure size 720x360 with 1 Axes>"
      ]
     },
     "metadata": {
      "needs_background": "light"
     },
     "output_type": "display_data"
    }
   ],
   "source": [
    "#boxplot to understand the variation of delivary dates\n",
    "fig, ax = plt.subplots(figsize=(10,5))\n",
    "(\n",
    "    df1\n",
    "    .groupby('day_dif_order')\n",
    "    .count()['order_id']\n",
    "    .plot.box() \n",
    ")\n",
    "ax.set_title('Overall leadtime from order date to arrival date')\n",
    "\n",
    "ax.set_xlabel('Lead time');\n",
    "ax.set_ylabel('Count of orders');\n",
    "# according to box plot more than half of orders had the delivery date more then 12 days.\n",
    "#so muesli company in not working very well based on his estimated delivery time based on the data that we have."
   ]
  },
  {
   "cell_type": "code",
   "execution_count": 51,
   "metadata": {},
   "outputs": [
    {
     "name": "stdout",
     "output_type": "stream",
     "text": [
      "duplicates for df1: 497\n",
      "duplicates for arrival: 0\n",
      "duplicates for truck: 0\n",
      "duplicates for ready_pickup: 0\n"
     ]
    }
   ],
   "source": [
    "#inspecting duplicates\n",
    "duplicates_df1 = df1[df1.duplicated(keep=False)].shape\n",
    "print(f'duplicates for df1: {duplicates_df1[0]}')  #why do we still have 497 duplicates when we cleaned already???? \n",
    "\n",
    "duplicates_arrival = arrival[arrival.duplicated(keep=False)].shape\n",
    "print(f'duplicates for arrival: {duplicates_arrival[0]}')\n",
    "\n",
    "duplicates_truck = truck[truck.duplicated(keep=False)].shape\n",
    "print(f'duplicates for truck: {duplicates_truck[0]}')\n",
    "\n",
    "duplicates_ready_pickup = ready_pickup[ready_pickup.duplicated(keep=False)].shape\n",
    "print(f'duplicates for ready_pickup: {duplicates_ready_pickup[0]}')\n",
    "# 147 of 290 rows are duplicated in the ready_pickup df"
   ]
  },
  {
   "cell_type": "code",
   "execution_count": 19,
   "metadata": {},
   "outputs": [
    {
     "data": {
      "text/html": [
       "<div>\n",
       "<style scoped>\n",
       "    .dataframe tbody tr th:only-of-type {\n",
       "        vertical-align: middle;\n",
       "    }\n",
       "\n",
       "    .dataframe tbody tr th {\n",
       "        vertical-align: top;\n",
       "    }\n",
       "\n",
       "    .dataframe thead th {\n",
       "        text-align: right;\n",
       "    }\n",
       "</style>\n",
       "<table border=\"1\" class=\"dataframe\">\n",
       "  <thead>\n",
       "    <tr style=\"text-align: right;\">\n",
       "      <th></th>\n",
       "      <th>row_id</th>\n",
       "      <th>order_id</th>\n",
       "      <th>order_date</th>\n",
       "      <th>on_truck_scan_date</th>\n",
       "      <th>ship_mode</th>\n",
       "    </tr>\n",
       "  </thead>\n",
       "  <tbody>\n",
       "    <tr>\n",
       "      <th>0</th>\n",
       "      <td>3074.0</td>\n",
       "      <td>CA-2019-125206</td>\n",
       "      <td>2019-01-03</td>\n",
       "      <td>2019-01-07</td>\n",
       "      <td>Express</td>\n",
       "    </tr>\n",
       "    <tr>\n",
       "      <th>1</th>\n",
       "      <td>4919.0</td>\n",
       "      <td>CA-2019-160304</td>\n",
       "      <td>2019-01-02</td>\n",
       "      <td>2019-01-09</td>\n",
       "      <td>Standard Processing</td>\n",
       "    </tr>\n",
       "  </tbody>\n",
       "</table>\n",
       "</div>"
      ],
      "text/plain": [
       "   row_id        order_id order_date on_truck_scan_date            ship_mode\n",
       "0  3074.0  CA-2019-125206 2019-01-03         2019-01-07              Express\n",
       "1  4919.0  CA-2019-160304 2019-01-02         2019-01-09  Standard Processing"
      ]
     },
     "execution_count": 19,
     "metadata": {},
     "output_type": "execute_result"
    }
   ],
   "source": [
    "truck.head(2)"
   ]
  },
  {
   "cell_type": "code",
   "execution_count": 157,
   "metadata": {},
   "outputs": [
    {
     "name": "stdout",
     "output_type": "stream",
     "text": [
      "<class 'pandas.core.frame.DataFrame'>\n",
      "RangeIndex: 5899 entries, 0 to 5898\n",
      "Data columns (total 12 columns):\n",
      " #   Column              Non-Null Count  Dtype         \n",
      "---  ------              --------------  -----         \n",
      " 0   row_id              5899 non-null   float64       \n",
      " 1   order_id            5899 non-null   object        \n",
      " 2   order_date          5899 non-null   datetime64[ns]\n",
      " 3   on_truck_scan_date  5899 non-null   datetime64[ns]\n",
      " 4   ship_mode           5899 non-null   object        \n",
      " 5   truck_day_dif       5899 non-null   int64         \n",
      " 6   order_year          5899 non-null   int64         \n",
      " 7   order_month         5899 non-null   int64         \n",
      " 8   order_weekday       5899 non-null   int64         \n",
      " 9   on_truck_year       5899 non-null   int64         \n",
      " 10  on_truck_month      5899 non-null   int64         \n",
      " 11  on_truck_weekday    5899 non-null   int64         \n",
      "dtypes: datetime64[ns](2), float64(1), int64(7), object(2)\n",
      "memory usage: 553.2+ KB\n"
     ]
    }
   ],
   "source": [
    "#TIME BETWEEN ORDER DATE AND LOADING MUESLI ON THE TRUCK\n",
    "\n",
    "#we don't need to join orders with truck because the 5899 entries already have both the order_date and the truck_date :D\n",
    "\n",
    "#create columns for order dates\n",
    "truck[\"order_year\"]=truck[\"order_date\"].dt.year\n",
    "truck[\"order_month\"]=truck[\"order_date\"].dt.month\n",
    "truck[\"order_weekday\"]=truck[\"order_date\"].dt.dayofweek\n",
    "\n",
    "#create columns for on_truck_scan_date\n",
    "truck[\"on_truck_year\"]=truck[\"on_truck_scan_date\"].dt.year\n",
    "truck[\"on_truck_month\"]=truck[\"on_truck_scan_date\"].dt.month\n",
    "truck[\"on_truck_weekday\"]=truck[\"on_truck_scan_date\"].dt.dayofweek\n",
    "\n",
    "#create columns for day difference\n",
    "truck['truck_day_dif'] = (truck['on_truck_scan_date'] - truck['order_date']).dt.days\n",
    "\n",
    "truck.info()\n"
   ]
  },
  {
   "cell_type": "code",
   "execution_count": 21,
   "metadata": {},
   "outputs": [
    {
     "data": {
      "text/plain": [
       "truck_day_dif\n",
       "7     1165\n",
       "8     1022\n",
       "6      765\n",
       "5      602\n",
       "9      565\n",
       "4      435\n",
       "3      373\n",
       "10     318\n",
       "1      248\n",
       "2      222\n",
       "0      152\n",
       "11      26\n",
       "12       6\n",
       "Name: row_id, dtype: int64"
      ]
     },
     "execution_count": 21,
     "metadata": {},
     "output_type": "execute_result"
    }
   ],
   "source": [
    "# leadtime_muesli is the df for the second KPI\n",
    "leadtime_muesli = truck.groupby('truck_day_dif').row_id.count()\n",
    "leadtime_muesli.sort_values(ascending=False)"
   ]
  },
  {
   "cell_type": "code",
   "execution_count": 156,
   "metadata": {},
   "outputs": [
    {
     "data": {
      "image/png": "[encoded data removed]",
      "text/plain": [
       "<Figure size 720x360 with 1 Axes>"
      ]
     },
     "metadata": {},
     "output_type": "display_data"
    }
   ],
   "source": [
    "#plotting leadtime_muesli\n",
    "fig, ax = plt.subplots(figsize=(10,5))\n",
    "(\n",
    "    truck\n",
    "    .groupby('truck_day_dif')\n",
    "    .count()['row_id']\n",
    "    .plot.bar() \n",
    ")\n",
    "\n",
    "ax.set_xlabel('days');\n",
    "ax.set_ylabel('orders');"
   ]
  },
  {
   "cell_type": "code",
   "execution_count": 106,
   "metadata": {},
   "outputs": [
    {
     "data": {
      "text/plain": [
       "count    5899.000000\n",
       "mean        6.120529\n",
       "std         2.509031\n",
       "min         0.000000\n",
       "25%         5.000000\n",
       "50%         7.000000\n",
       "75%         8.000000\n",
       "max        12.000000\n",
       "Name: truck_day_dif, dtype: float64"
      ]
     },
     "execution_count": 106,
     "metadata": {},
     "output_type": "execute_result"
    }
   ],
   "source": [
    "#summary statistics for the second kpi (order-date and on truck delivery date)\n",
    "#it should take 6 days at the worse case.\n",
    "#we have complete data\n",
    "truck.describe()[\"truck_day_dif\"]"
   ]
  },
  {
   "cell_type": "code",
   "execution_count": 107,
   "metadata": {},
   "outputs": [
    {
     "data": {
      "image/png": "[encoded data removed]",
      "text/plain": [
       "<Figure size 720x360 with 1 Axes>"
      ]
     },
     "metadata": {
      "needs_background": "light"
     },
     "output_type": "display_data"
    }
   ],
   "source": [
    "#box plot for second kpi\n",
    "#here also it takes more than worse case scenario for the orders to be loaded on truck.\n",
    "#for more than half of orders it takes more that 6 days to be loaded on trucks.\n",
    "###it seems to be a problem in ready to ship process. \n",
    "#### in next step we want to see what happens from ready to ship date and on truck scan date.\n",
    "fig, ax = plt.subplots(figsize=(10,5))\n",
    "(\n",
    "    truck\n",
    "    .groupby('truck_day_dif')\n",
    "    .count()['row_id']\n",
    "    .plot.box() \n",
    ")\n",
    "ax.set_title('leadtime from order date to on truck scan date')\n",
    "\n",
    "ax.set_xlabel('Lead time');\n",
    "ax.set_ylabel('count of orders');"
   ]
  },
  {
   "cell_type": "code",
   "execution_count": 23,
   "metadata": {},
   "outputs": [
    {
     "data": {
      "text/html": [
       "<div>\n",
       "<style scoped>\n",
       "    .dataframe tbody tr th:only-of-type {\n",
       "        vertical-align: middle;\n",
       "    }\n",
       "\n",
       "    .dataframe tbody tr th {\n",
       "        vertical-align: top;\n",
       "    }\n",
       "\n",
       "    .dataframe thead th {\n",
       "        text-align: right;\n",
       "    }\n",
       "</style>\n",
       "<table border=\"1\" class=\"dataframe\">\n",
       "  <thead>\n",
       "    <tr style=\"text-align: right;\">\n",
       "      <th></th>\n",
       "      <th>row_id</th>\n",
       "      <th>order_id</th>\n",
       "      <th>order_date</th>\n",
       "      <th>on_truck_scan_date</th>\n",
       "      <th>ship_mode</th>\n",
       "      <th>order_year</th>\n",
       "      <th>order_month</th>\n",
       "      <th>order_weekday</th>\n",
       "      <th>on_truck_year</th>\n",
       "      <th>on_truck_month</th>\n",
       "      <th>on_truck_weekday</th>\n",
       "      <th>truck_day_dif</th>\n",
       "      <th>ready_to_ship_date</th>\n",
       "      <th>pickup_date</th>\n",
       "    </tr>\n",
       "  </thead>\n",
       "  <tbody>\n",
       "    <tr>\n",
       "      <th>0</th>\n",
       "      <td>3416.0</td>\n",
       "      <td>CA-2019-116540</td>\n",
       "      <td>2019-09-02</td>\n",
       "      <td>2019-09-03</td>\n",
       "      <td>Express</td>\n",
       "      <td>2019</td>\n",
       "      <td>9</td>\n",
       "      <td>0</td>\n",
       "      <td>2019</td>\n",
       "      <td>9</td>\n",
       "      <td>1</td>\n",
       "      <td>1</td>\n",
       "      <td>2019-09-02</td>\n",
       "      <td>2019-09-03</td>\n",
       "    </tr>\n",
       "    <tr>\n",
       "      <th>1</th>\n",
       "      <td>3416.0</td>\n",
       "      <td>CA-2019-116540</td>\n",
       "      <td>2019-09-02</td>\n",
       "      <td>2019-09-03</td>\n",
       "      <td>Express</td>\n",
       "      <td>2019</td>\n",
       "      <td>9</td>\n",
       "      <td>0</td>\n",
       "      <td>2019</td>\n",
       "      <td>9</td>\n",
       "      <td>1</td>\n",
       "      <td>1</td>\n",
       "      <td>2019-09-02</td>\n",
       "      <td>2019-09-03</td>\n",
       "    </tr>\n",
       "    <tr>\n",
       "      <th>2</th>\n",
       "      <td>3417.0</td>\n",
       "      <td>CA-2019-116540</td>\n",
       "      <td>2019-09-02</td>\n",
       "      <td>2019-09-03</td>\n",
       "      <td>Express</td>\n",
       "      <td>2019</td>\n",
       "      <td>9</td>\n",
       "      <td>0</td>\n",
       "      <td>2019</td>\n",
       "      <td>9</td>\n",
       "      <td>1</td>\n",
       "      <td>1</td>\n",
       "      <td>2019-09-02</td>\n",
       "      <td>2019-09-03</td>\n",
       "    </tr>\n",
       "    <tr>\n",
       "      <th>3</th>\n",
       "      <td>3417.0</td>\n",
       "      <td>CA-2019-116540</td>\n",
       "      <td>2019-09-02</td>\n",
       "      <td>2019-09-03</td>\n",
       "      <td>Express</td>\n",
       "      <td>2019</td>\n",
       "      <td>9</td>\n",
       "      <td>0</td>\n",
       "      <td>2019</td>\n",
       "      <td>9</td>\n",
       "      <td>1</td>\n",
       "      <td>1</td>\n",
       "      <td>2019-09-02</td>\n",
       "      <td>2019-09-03</td>\n",
       "    </tr>\n",
       "    <tr>\n",
       "      <th>4</th>\n",
       "      <td>6937.0</td>\n",
       "      <td>CA-2019-129847</td>\n",
       "      <td>2019-09-02</td>\n",
       "      <td>2019-09-04</td>\n",
       "      <td>Express</td>\n",
       "      <td>2019</td>\n",
       "      <td>9</td>\n",
       "      <td>0</td>\n",
       "      <td>2019</td>\n",
       "      <td>9</td>\n",
       "      <td>2</td>\n",
       "      <td>2</td>\n",
       "      <td>2019-09-04</td>\n",
       "      <td>2019-09-04</td>\n",
       "    </tr>\n",
       "  </tbody>\n",
       "</table>\n",
       "</div>"
      ],
      "text/plain": [
       "   row_id        order_id order_date on_truck_scan_date ship_mode  order_year  \\\n",
       "0  3416.0  CA-2019-116540 2019-09-02         2019-09-03   Express        2019   \n",
       "1  3416.0  CA-2019-116540 2019-09-02         2019-09-03   Express        2019   \n",
       "2  3417.0  CA-2019-116540 2019-09-02         2019-09-03   Express        2019   \n",
       "3  3417.0  CA-2019-116540 2019-09-02         2019-09-03   Express        2019   \n",
       "4  6937.0  CA-2019-129847 2019-09-02         2019-09-04   Express        2019   \n",
       "\n",
       "   order_month  order_weekday  on_truck_year  on_truck_month  \\\n",
       "0            9              0           2019               9   \n",
       "1            9              0           2019               9   \n",
       "2            9              0           2019               9   \n",
       "3            9              0           2019               9   \n",
       "4            9              0           2019               9   \n",
       "\n",
       "   on_truck_weekday  truck_day_dif ready_to_ship_date pickup_date  \n",
       "0                 1              1         2019-09-02  2019-09-03  \n",
       "1                 1              1         2019-09-02  2019-09-03  \n",
       "2                 1              1         2019-09-02  2019-09-03  \n",
       "3                 1              1         2019-09-02  2019-09-03  \n",
       "4                 2              2         2019-09-04  2019-09-04  "
      ]
     },
     "execution_count": 23,
     "metadata": {},
     "output_type": "execute_result"
    }
   ],
   "source": [
    "# TIME BETWEEN READY TO ship AND BEING LOADED IN THE TRUCK\n",
    "\n",
    "#join truck and ready_pickup\n",
    "df3= pd.merge(truck, ready_pickup, on= \"order_id\", how= \"inner\")\n",
    "df3.head()"
   ]
  },
  {
   "cell_type": "code",
   "execution_count": 24,
   "metadata": {},
   "outputs": [
    {
     "name": "stdout",
     "output_type": "stream",
     "text": [
      "<class 'pandas.core.frame.DataFrame'>\n",
      "Int64Index: 753 entries, 0 to 752\n",
      "Data columns (total 14 columns):\n",
      " #   Column              Non-Null Count  Dtype         \n",
      "---  ------              --------------  -----         \n",
      " 0   row_id              753 non-null    float64       \n",
      " 1   order_id            753 non-null    object        \n",
      " 2   order_date          753 non-null    datetime64[ns]\n",
      " 3   on_truck_scan_date  753 non-null    datetime64[ns]\n",
      " 4   ship_mode           753 non-null    object        \n",
      " 5   order_year          753 non-null    int64         \n",
      " 6   order_month         753 non-null    int64         \n",
      " 7   order_weekday       753 non-null    int64         \n",
      " 8   on_truck_year       753 non-null    int64         \n",
      " 9   on_truck_month      753 non-null    int64         \n",
      " 10  on_truck_weekday    753 non-null    int64         \n",
      " 11  truck_day_dif       753 non-null    int64         \n",
      " 12  ready_to_ship_date  753 non-null    datetime64[ns]\n",
      " 13  pickup_date         753 non-null    datetime64[ns]\n",
      "dtypes: datetime64[ns](4), float64(1), int64(7), object(2)\n",
      "memory usage: 88.2+ KB\n"
     ]
    }
   ],
   "source": [
    "df3.info()"
   ]
  },
  {
   "cell_type": "code",
   "execution_count": 38,
   "metadata": {},
   "outputs": [
    {
     "data": {
      "text/html": [
       "<div>\n",
       "<style scoped>\n",
       "    .dataframe tbody tr th:only-of-type {\n",
       "        vertical-align: middle;\n",
       "    }\n",
       "\n",
       "    .dataframe tbody tr th {\n",
       "        vertical-align: top;\n",
       "    }\n",
       "\n",
       "    .dataframe thead th {\n",
       "        text-align: right;\n",
       "    }\n",
       "</style>\n",
       "<table border=\"1\" class=\"dataframe\">\n",
       "  <thead>\n",
       "    <tr style=\"text-align: right;\">\n",
       "      <th></th>\n",
       "      <th>row_id</th>\n",
       "      <th>order_id</th>\n",
       "      <th>order_date</th>\n",
       "      <th>on_truck_scan_date</th>\n",
       "      <th>ship_mode</th>\n",
       "      <th>order_year</th>\n",
       "      <th>order_month</th>\n",
       "      <th>order_weekday</th>\n",
       "      <th>on_truck_year</th>\n",
       "      <th>on_truck_month</th>\n",
       "      <th>on_truck_weekday</th>\n",
       "      <th>truck_day_dif</th>\n",
       "      <th>ready_to_ship_date</th>\n",
       "      <th>pickup_date</th>\n",
       "      <th>ontruck_ready_to_ship_dif</th>\n",
       "      <th>ready_to_ship_on_truck_dif</th>\n",
       "    </tr>\n",
       "  </thead>\n",
       "  <tbody>\n",
       "    <tr>\n",
       "      <th>0</th>\n",
       "      <td>3416.0</td>\n",
       "      <td>CA-2019-116540</td>\n",
       "      <td>2019-09-02</td>\n",
       "      <td>2019-09-03</td>\n",
       "      <td>Express</td>\n",
       "      <td>2019</td>\n",
       "      <td>9</td>\n",
       "      <td>0</td>\n",
       "      <td>2019</td>\n",
       "      <td>9</td>\n",
       "      <td>1</td>\n",
       "      <td>1</td>\n",
       "      <td>2019-09-02</td>\n",
       "      <td>2019-09-03</td>\n",
       "      <td>1</td>\n",
       "      <td>1</td>\n",
       "    </tr>\n",
       "    <tr>\n",
       "      <th>1</th>\n",
       "      <td>3416.0</td>\n",
       "      <td>CA-2019-116540</td>\n",
       "      <td>2019-09-02</td>\n",
       "      <td>2019-09-03</td>\n",
       "      <td>Express</td>\n",
       "      <td>2019</td>\n",
       "      <td>9</td>\n",
       "      <td>0</td>\n",
       "      <td>2019</td>\n",
       "      <td>9</td>\n",
       "      <td>1</td>\n",
       "      <td>1</td>\n",
       "      <td>2019-09-02</td>\n",
       "      <td>2019-09-03</td>\n",
       "      <td>1</td>\n",
       "      <td>1</td>\n",
       "    </tr>\n",
       "    <tr>\n",
       "      <th>2</th>\n",
       "      <td>3417.0</td>\n",
       "      <td>CA-2019-116540</td>\n",
       "      <td>2019-09-02</td>\n",
       "      <td>2019-09-03</td>\n",
       "      <td>Express</td>\n",
       "      <td>2019</td>\n",
       "      <td>9</td>\n",
       "      <td>0</td>\n",
       "      <td>2019</td>\n",
       "      <td>9</td>\n",
       "      <td>1</td>\n",
       "      <td>1</td>\n",
       "      <td>2019-09-02</td>\n",
       "      <td>2019-09-03</td>\n",
       "      <td>1</td>\n",
       "      <td>1</td>\n",
       "    </tr>\n",
       "    <tr>\n",
       "      <th>3</th>\n",
       "      <td>3417.0</td>\n",
       "      <td>CA-2019-116540</td>\n",
       "      <td>2019-09-02</td>\n",
       "      <td>2019-09-03</td>\n",
       "      <td>Express</td>\n",
       "      <td>2019</td>\n",
       "      <td>9</td>\n",
       "      <td>0</td>\n",
       "      <td>2019</td>\n",
       "      <td>9</td>\n",
       "      <td>1</td>\n",
       "      <td>1</td>\n",
       "      <td>2019-09-02</td>\n",
       "      <td>2019-09-03</td>\n",
       "      <td>1</td>\n",
       "      <td>1</td>\n",
       "    </tr>\n",
       "    <tr>\n",
       "      <th>4</th>\n",
       "      <td>6937.0</td>\n",
       "      <td>CA-2019-129847</td>\n",
       "      <td>2019-09-02</td>\n",
       "      <td>2019-09-04</td>\n",
       "      <td>Express</td>\n",
       "      <td>2019</td>\n",
       "      <td>9</td>\n",
       "      <td>0</td>\n",
       "      <td>2019</td>\n",
       "      <td>9</td>\n",
       "      <td>2</td>\n",
       "      <td>2</td>\n",
       "      <td>2019-09-04</td>\n",
       "      <td>2019-09-04</td>\n",
       "      <td>0</td>\n",
       "      <td>0</td>\n",
       "    </tr>\n",
       "  </tbody>\n",
       "</table>\n",
       "</div>"
      ],
      "text/plain": [
       "   row_id        order_id order_date on_truck_scan_date ship_mode  order_year  \\\n",
       "0  3416.0  CA-2019-116540 2019-09-02         2019-09-03   Express        2019   \n",
       "1  3416.0  CA-2019-116540 2019-09-02         2019-09-03   Express        2019   \n",
       "2  3417.0  CA-2019-116540 2019-09-02         2019-09-03   Express        2019   \n",
       "3  3417.0  CA-2019-116540 2019-09-02         2019-09-03   Express        2019   \n",
       "4  6937.0  CA-2019-129847 2019-09-02         2019-09-04   Express        2019   \n",
       "\n",
       "   order_month  order_weekday  on_truck_year  on_truck_month  \\\n",
       "0            9              0           2019               9   \n",
       "1            9              0           2019               9   \n",
       "2            9              0           2019               9   \n",
       "3            9              0           2019               9   \n",
       "4            9              0           2019               9   \n",
       "\n",
       "   on_truck_weekday  truck_day_dif ready_to_ship_date pickup_date  \\\n",
       "0                 1              1         2019-09-02  2019-09-03   \n",
       "1                 1              1         2019-09-02  2019-09-03   \n",
       "2                 1              1         2019-09-02  2019-09-03   \n",
       "3                 1              1         2019-09-02  2019-09-03   \n",
       "4                 2              2         2019-09-04  2019-09-04   \n",
       "\n",
       "   ontruck_ready_to_ship_dif  ready_to_ship_on_truck_dif  \n",
       "0                          1                           1  \n",
       "1                          1                           1  \n",
       "2                          1                           1  \n",
       "3                          1                           1  \n",
       "4                          0                           0  "
      ]
     },
     "execution_count": 38,
     "metadata": {},
     "output_type": "execute_result"
    }
   ],
   "source": [
    "# lead time from on truck scan date and ready to ship date\n",
    "df3['ready_to_ship_on_truck_dif'] = (df3['on_truck_scan_date'] - df3['ready_to_ship_date']).dt.days\n",
    "df3.head()"
   ]
  },
  {
   "cell_type": "code",
   "execution_count": 26,
   "metadata": {},
   "outputs": [
    {
     "data": {
      "text/plain": [
       "2    308\n",
       "3    177\n",
       "1    174\n",
       "0     94\n",
       "Name: ontruck_ready_to_ship_dif, dtype: int64"
      ]
     },
     "execution_count": 26,
     "metadata": {},
     "output_type": "execute_result"
    }
   ],
   "source": [
    "df3['ontruck_ready_to_ship_dif'].value_counts()\n",
    "#leadtime_muesli = df3.groupby('ontruck_ready_to_ship_dif').order_id.count()"
   ]
  },
  {
   "cell_type": "code",
   "execution_count": 151,
   "metadata": {},
   "outputs": [
    {
     "data": {
      "image/png": "[encoded data removed]",
      "text/plain": [
       "<Figure size 720x360 with 1 Axes>"
      ]
     },
     "metadata": {},
     "output_type": "display_data"
    }
   ],
   "source": [
    "# plotting leadtime from ready to ship date to on truck scan date\n",
    "fig, ax = plt.subplots(figsize=(10,5))\n",
    "(\n",
    "    df3\n",
    "    .groupby('ontruck_ready_to_ship_dif')\n",
    "    .count()['order_id']\n",
    "    .plot.bar()\n",
    "    \n",
    ")\n",
    "ax.set_xlabel('days');\n",
    "ax.set_ylabel('orders');"
   ]
  },
  {
   "cell_type": "code",
   "execution_count": 110,
   "metadata": {},
   "outputs": [
    {
     "data": {
      "text/plain": [
       "count    753.000000\n",
       "mean       1.754316\n",
       "std        0.952005\n",
       "min        0.000000\n",
       "25%        1.000000\n",
       "50%        2.000000\n",
       "75%        2.000000\n",
       "max        3.000000\n",
       "Name: ontruck_ready_to_ship_dif, dtype: float64"
      ]
     },
     "execution_count": 110,
     "metadata": {},
     "output_type": "execute_result"
    }
   ],
   "source": [
    "#we have less data here.\n",
    "## according to campany estimation it should take 3 days at the worth case.\n",
    "##they are working good based on the data that we have. so there should be a problem\n",
    "#proccessing the orders in warehouse. company needs to have more inspectors to see what\n",
    "#happens in warehouse.\n",
    "df3.describe()[\"ontruck_ready_to_ship_dif\"]"
   ]
  },
  {
   "cell_type": "code",
   "execution_count": 28,
   "metadata": {},
   "outputs": [
    {
     "data": {
      "text/plain": [
       "0    94\n",
       "1    56\n",
       "2     1\n",
       "Name: ontruck_ready_to_ship_dif, dtype: int64"
      ]
     },
     "execution_count": 28,
     "metadata": {},
     "output_type": "execute_result"
    }
   ],
   "source": [
    "#groupby standard and express delivery\n",
    "df3.loc[df3[\"ship_mode\"]==\"Express\",'ontruck_ready_to_ship_dif'].sort_values().value_counts()"
   ]
  },
  {
   "cell_type": "code",
   "execution_count": 76,
   "metadata": {},
   "outputs": [
    {
     "data": {
      "text/html": [
       "<div>\n",
       "<style scoped>\n",
       "    .dataframe tbody tr th:only-of-type {\n",
       "        vertical-align: middle;\n",
       "    }\n",
       "\n",
       "    .dataframe tbody tr th {\n",
       "        vertical-align: top;\n",
       "    }\n",
       "\n",
       "    .dataframe thead th {\n",
       "        text-align: right;\n",
       "    }\n",
       "</style>\n",
       "<table border=\"1\" class=\"dataframe\">\n",
       "  <thead>\n",
       "    <tr style=\"text-align: right;\">\n",
       "      <th></th>\n",
       "      <th>order_id</th>\n",
       "      <th>ready_to_ship_date</th>\n",
       "      <th>pickup_date</th>\n",
       "    </tr>\n",
       "  </thead>\n",
       "  <tbody>\n",
       "    <tr>\n",
       "      <th>0</th>\n",
       "      <td>CA-2019-116540</td>\n",
       "      <td>2019-09-02</td>\n",
       "      <td>2019-09-03</td>\n",
       "    </tr>\n",
       "    <tr>\n",
       "      <th>1</th>\n",
       "      <td>CA-2019-129847</td>\n",
       "      <td>2019-09-04</td>\n",
       "      <td>2019-09-04</td>\n",
       "    </tr>\n",
       "  </tbody>\n",
       "</table>\n",
       "</div>"
      ],
      "text/plain": [
       "         order_id ready_to_ship_date pickup_date\n",
       "0  CA-2019-116540         2019-09-02  2019-09-03\n",
       "1  CA-2019-129847         2019-09-04  2019-09-04"
      ]
     },
     "execution_count": 76,
     "metadata": {},
     "output_type": "execute_result"
    }
   ],
   "source": [
    "ready_pickup.head(2)"
   ]
  },
  {
   "cell_type": "code",
   "execution_count": 77,
   "metadata": {},
   "outputs": [
    {
     "data": {
      "text/html": [
       "<div>\n",
       "<style scoped>\n",
       "    .dataframe tbody tr th:only-of-type {\n",
       "        vertical-align: middle;\n",
       "    }\n",
       "\n",
       "    .dataframe tbody tr th {\n",
       "        vertical-align: top;\n",
       "    }\n",
       "\n",
       "    .dataframe thead th {\n",
       "        text-align: right;\n",
       "    }\n",
       "</style>\n",
       "<table border=\"1\" class=\"dataframe\">\n",
       "  <thead>\n",
       "    <tr style=\"text-align: right;\">\n",
       "      <th></th>\n",
       "      <th>order_id</th>\n",
       "      <th>arrival_scan_date</th>\n",
       "      <th>customer_name</th>\n",
       "    </tr>\n",
       "  </thead>\n",
       "  <tbody>\n",
       "    <tr>\n",
       "      <th>0</th>\n",
       "      <td>CA-2019-109666</td>\n",
       "      <td>2019-05-03</td>\n",
       "      <td>Kunst Miller</td>\n",
       "    </tr>\n",
       "    <tr>\n",
       "      <th>1</th>\n",
       "      <td>CA-2019-138933</td>\n",
       "      <td>2019-05-03</td>\n",
       "      <td>Jack Lebron</td>\n",
       "    </tr>\n",
       "  </tbody>\n",
       "</table>\n",
       "</div>"
      ],
      "text/plain": [
       "         order_id arrival_scan_date customer_name\n",
       "0  CA-2019-109666        2019-05-03  Kunst Miller\n",
       "1  CA-2019-138933        2019-05-03   Jack Lebron"
      ]
     },
     "execution_count": 77,
     "metadata": {},
     "output_type": "execute_result"
    }
   ],
   "source": [
    "arrival.head(2)"
   ]
  },
  {
   "cell_type": "code",
   "execution_count": null,
   "metadata": {},
   "outputs": [],
   "source": [
    "# #TIME BETWEEN READY TO SHIP AND THE ARRIVAL DATE -> THIRD KPI\n",
    "\n",
    "# #join ready_pickup and arrival -> arrival has 290 and pickup 333, but ready to pickup has duplicates -> \n",
    "# #first drop the duplicates from ready_pickup\n",
    "# ready_pickup.drop_duplicates(inplace=True, ignore_index=True)\n",
    "# #ready_pickup.info() # 204 rows\n",
    "\n",
    "# #df4 = pd.concat([ready_pickup, arrival], axis=1)\n",
    "# df4 = pd.merge(ready_pickup, arrival, on= \"order_id\", how= \"inner\")\n",
    "# df4.info()\n"
   ]
  },
  {
   "cell_type": "code",
   "execution_count": 64,
   "metadata": {},
   "outputs": [
    {
     "data": {
      "text/html": [
       "<div>\n",
       "<style scoped>\n",
       "    .dataframe tbody tr th:only-of-type {\n",
       "        vertical-align: middle;\n",
       "    }\n",
       "\n",
       "    .dataframe tbody tr th {\n",
       "        vertical-align: top;\n",
       "    }\n",
       "\n",
       "    .dataframe thead th {\n",
       "        text-align: right;\n",
       "    }\n",
       "</style>\n",
       "<table border=\"1\" class=\"dataframe\">\n",
       "  <thead>\n",
       "    <tr style=\"text-align: right;\">\n",
       "      <th></th>\n",
       "      <th>order_id</th>\n",
       "      <th>ready_to_ship_date</th>\n",
       "      <th>pickup_date</th>\n",
       "      <th>arrival_scan_date</th>\n",
       "      <th>customer_name</th>\n",
       "      <th>arrival_ready_to_pick_dif</th>\n",
       "    </tr>\n",
       "  </thead>\n",
       "  <tbody>\n",
       "    <tr>\n",
       "      <th>0</th>\n",
       "      <td>CA-2019-129847</td>\n",
       "      <td>2019-09-04</td>\n",
       "      <td>2019-09-04</td>\n",
       "      <td>2019-09-10</td>\n",
       "      <td>Tom Ashbrook</td>\n",
       "      <td>6</td>\n",
       "    </tr>\n",
       "    <tr>\n",
       "      <th>1</th>\n",
       "      <td>CA-2019-129630</td>\n",
       "      <td>2019-09-04</td>\n",
       "      <td>2019-09-04</td>\n",
       "      <td>2019-09-09</td>\n",
       "      <td>Ionia McGrath</td>\n",
       "      <td>5</td>\n",
       "    </tr>\n",
       "  </tbody>\n",
       "</table>\n",
       "</div>"
      ],
      "text/plain": [
       "         order_id ready_to_ship_date pickup_date arrival_scan_date  \\\n",
       "0  CA-2019-129847         2019-09-04  2019-09-04        2019-09-10   \n",
       "1  CA-2019-129630         2019-09-04  2019-09-04        2019-09-09   \n",
       "\n",
       "   customer_name  arrival_ready_to_pick_dif  \n",
       "0   Tom Ashbrook                          6  \n",
       "1  Ionia McGrath                          5  "
      ]
     },
     "execution_count": 64,
     "metadata": {},
     "output_type": "execute_result"
    }
   ],
   "source": [
    "# # lead time from ready to pick date and arrival date\n",
    "# df4['arrival_ready_to_pick_dif'] = (df4['arrival_scan_date'] - df4['ready_to_ship_date']).dt.days\n",
    "# df4.head(2)"
   ]
  },
  {
   "cell_type": "code",
   "execution_count": null,
   "metadata": {},
   "outputs": [],
   "source": [
    "# df4['arrival_ready_to_pick_dif'].value_counts()"
   ]
  },
  {
   "cell_type": "code",
   "execution_count": null,
   "metadata": {},
   "outputs": [],
   "source": [
    "# #plotting lead time from ready to pick date and arrival date\n",
    "# fig, ax = plt.subplots(figsize=(10,5))\n",
    "# (\n",
    "#     df4\n",
    "#     .groupby('arrival_ready_to_pick_dif')\n",
    "#     .count()['order_id']\n",
    "#     .plot.bar() \n",
    "# )\n",
    "# ax.set_title('lead time from ready to pick date and arrival date')\n",
    "\n",
    "# ax.set_xlabel('Lead time');\n",
    "# ax.set_ylabel('count of orders');\n"
   ]
  },
  {
   "cell_type": "code",
   "execution_count": 158,
   "metadata": {},
   "outputs": [
    {
     "data": {
      "text/html": [
       "<div>\n",
       "<style scoped>\n",
       "    .dataframe tbody tr th:only-of-type {\n",
       "        vertical-align: middle;\n",
       "    }\n",
       "\n",
       "    .dataframe tbody tr th {\n",
       "        vertical-align: top;\n",
       "    }\n",
       "\n",
       "    .dataframe thead th {\n",
       "        text-align: right;\n",
       "    }\n",
       "</style>\n",
       "<table border=\"1\" class=\"dataframe\">\n",
       "  <thead>\n",
       "    <tr style=\"text-align: right;\">\n",
       "      <th></th>\n",
       "      <th>row_id</th>\n",
       "      <th>truck_day_dif</th>\n",
       "      <th>order_year</th>\n",
       "      <th>order_month</th>\n",
       "      <th>order_weekday</th>\n",
       "      <th>on_truck_year</th>\n",
       "      <th>on_truck_month</th>\n",
       "      <th>on_truck_weekday</th>\n",
       "      <th>on_truck_arrival_diff</th>\n",
       "    </tr>\n",
       "  </thead>\n",
       "  <tbody>\n",
       "    <tr>\n",
       "      <th>count</th>\n",
       "      <td>668.000000</td>\n",
       "      <td>668.000000</td>\n",
       "      <td>668.000000</td>\n",
       "      <td>668.000000</td>\n",
       "      <td>668.000000</td>\n",
       "      <td>668.000000</td>\n",
       "      <td>668.000000</td>\n",
       "      <td>668.000000</td>\n",
       "      <td>668.000000</td>\n",
       "    </tr>\n",
       "    <tr>\n",
       "      <th>mean</th>\n",
       "      <td>4895.901198</td>\n",
       "      <td>6.324850</td>\n",
       "      <td>2019.184132</td>\n",
       "      <td>7.507485</td>\n",
       "      <td>2.799401</td>\n",
       "      <td>2019.220060</td>\n",
       "      <td>7.305389</td>\n",
       "      <td>2.176647</td>\n",
       "      <td>4.561377</td>\n",
       "    </tr>\n",
       "    <tr>\n",
       "      <th>std</th>\n",
       "      <td>2989.513912</td>\n",
       "      <td>2.576129</td>\n",
       "      <td>0.387882</td>\n",
       "      <td>3.440861</td>\n",
       "      <td>2.010139</td>\n",
       "      <td>0.414597</td>\n",
       "      <td>3.537272</td>\n",
       "      <td>1.240953</td>\n",
       "      <td>1.208716</td>\n",
       "    </tr>\n",
       "    <tr>\n",
       "      <th>min</th>\n",
       "      <td>1.000000</td>\n",
       "      <td>0.000000</td>\n",
       "      <td>2019.000000</td>\n",
       "      <td>1.000000</td>\n",
       "      <td>0.000000</td>\n",
       "      <td>2019.000000</td>\n",
       "      <td>1.000000</td>\n",
       "      <td>0.000000</td>\n",
       "      <td>1.000000</td>\n",
       "    </tr>\n",
       "    <tr>\n",
       "      <th>25%</th>\n",
       "      <td>2170.750000</td>\n",
       "      <td>5.000000</td>\n",
       "      <td>2019.000000</td>\n",
       "      <td>5.000000</td>\n",
       "      <td>1.000000</td>\n",
       "      <td>2019.000000</td>\n",
       "      <td>5.000000</td>\n",
       "      <td>2.000000</td>\n",
       "      <td>4.000000</td>\n",
       "    </tr>\n",
       "    <tr>\n",
       "      <th>50%</th>\n",
       "      <td>4949.000000</td>\n",
       "      <td>7.000000</td>\n",
       "      <td>2019.000000</td>\n",
       "      <td>9.000000</td>\n",
       "      <td>3.000000</td>\n",
       "      <td>2019.000000</td>\n",
       "      <td>9.000000</td>\n",
       "      <td>2.000000</td>\n",
       "      <td>5.000000</td>\n",
       "    </tr>\n",
       "    <tr>\n",
       "      <th>75%</th>\n",
       "      <td>7522.250000</td>\n",
       "      <td>8.000000</td>\n",
       "      <td>2019.000000</td>\n",
       "      <td>11.000000</td>\n",
       "      <td>4.000000</td>\n",
       "      <td>2019.000000</td>\n",
       "      <td>10.250000</td>\n",
       "      <td>2.000000</td>\n",
       "      <td>5.000000</td>\n",
       "    </tr>\n",
       "    <tr>\n",
       "      <th>max</th>\n",
       "      <td>9987.000000</td>\n",
       "      <td>12.000000</td>\n",
       "      <td>2020.000000</td>\n",
       "      <td>12.000000</td>\n",
       "      <td>6.000000</td>\n",
       "      <td>2020.000000</td>\n",
       "      <td>12.000000</td>\n",
       "      <td>4.000000</td>\n",
       "      <td>7.000000</td>\n",
       "    </tr>\n",
       "  </tbody>\n",
       "</table>\n",
       "</div>"
      ],
      "text/plain": [
       "            row_id  truck_day_dif   order_year  order_month  order_weekday  \\\n",
       "count   668.000000     668.000000   668.000000   668.000000     668.000000   \n",
       "mean   4895.901198       6.324850  2019.184132     7.507485       2.799401   \n",
       "std    2989.513912       2.576129     0.387882     3.440861       2.010139   \n",
       "min       1.000000       0.000000  2019.000000     1.000000       0.000000   \n",
       "25%    2170.750000       5.000000  2019.000000     5.000000       1.000000   \n",
       "50%    4949.000000       7.000000  2019.000000     9.000000       3.000000   \n",
       "75%    7522.250000       8.000000  2019.000000    11.000000       4.000000   \n",
       "max    9987.000000      12.000000  2020.000000    12.000000       6.000000   \n",
       "\n",
       "       on_truck_year  on_truck_month  on_truck_weekday  on_truck_arrival_diff  \n",
       "count     668.000000      668.000000        668.000000             668.000000  \n",
       "mean     2019.220060        7.305389          2.176647               4.561377  \n",
       "std         0.414597        3.537272          1.240953               1.208716  \n",
       "min      2019.000000        1.000000          0.000000               1.000000  \n",
       "25%      2019.000000        5.000000          2.000000               4.000000  \n",
       "50%      2019.000000        9.000000          2.000000               5.000000  \n",
       "75%      2019.000000       10.250000          2.000000               5.000000  \n",
       "max      2020.000000       12.000000          4.000000               7.000000  "
      ]
     },
     "execution_count": 158,
     "metadata": {},
     "output_type": "execute_result"
    }
   ],
   "source": [
    "#lead time between on truck scan date and arrival scan date.\n",
    "shipment = pd.merge(truck, arrival, on=\"order_id\", how= \"right\")\n",
    "shipment[\"on_truck_arrival_diff\"]= (shipment[\"arrival_scan_date\"] - shipment[\"on_truck_scan_date\"]).dt.days\n",
    "#shipment.groupby(\"order_id\").count()[\"on_truck_arrival_diff\"]\n",
    "shipment[\"on_truck_arrival_diff\"].value_counts()\n",
    "shipment.describe()\n"
   ]
  },
  {
   "cell_type": "code",
   "execution_count": 155,
   "metadata": {},
   "outputs": [
    {
     "data": {
      "image/png": "[encoded data removed]",
      "text/plain": [
       "<Figure size 720x360 with 1 Axes>"
      ]
     },
     "metadata": {},
     "output_type": "display_data"
    }
   ],
   "source": [
    "fig, ax = plt.subplots(figsize=(10,5))\n",
    "(\n",
    "    shipment\n",
    "    .groupby(\"on_truck_arrival_diff\")\n",
    "    .count()['order_id']\n",
    "    .plot.bar(rot=360) \n",
    ")\n",
    "\n",
    "ax.set_xlabel('days');\n",
    "ax.set_ylabel('orders');"
   ]
  },
  {
   "cell_type": "code",
   "execution_count": 128,
   "metadata": {},
   "outputs": [
    {
     "data": {
      "text/plain": [
       "count    668.000000\n",
       "mean       4.561377\n",
       "std        1.208716\n",
       "min        1.000000\n",
       "25%        4.000000\n",
       "50%        5.000000\n",
       "75%        5.000000\n",
       "max        7.000000\n",
       "Name: on_truck_arrival_diff, dtype: float64"
      ]
     },
     "execution_count": 128,
     "metadata": {},
     "output_type": "execute_result"
    }
   ],
   "source": [
    "#summary statistics\n",
    "#according to campany estimation it should take about 5 days.\n",
    "# orders are arriving at costumers on avarage in less than 4 days so delivery company is working\n",
    "#good on avarage\n",
    "shipment.describe()[\"on_truck_arrival_diff\"]\n"
   ]
  },
  {
   "cell_type": "code",
   "execution_count": null,
   "metadata": {},
   "outputs": [],
   "source": [
    "orders[\"\"]"
   ]
  }
 ],
 "metadata": {
  "interpreter": {
   "hash": "ab3d85a18739f6fff6a9c8c504adc2ff9340867b576dede986e2ee74c099e4e5"
  },
  "kernelspec": {
   "display_name": "Python 3.9.7 ('nf_base')",
   "language": "python",
   "name": "python3"
  },
  "language_info": {
   "codemirror_mode": {
    "name": "ipython",
    "version": 3
   },
   "file_extension": ".py",
   "mimetype": "text/x-python",
   "name": "python",
   "nbconvert_exporter": "python",
   "pygments_lexer": "ipython3",
   "version": "3.9.7"
  },
  "orig_nbformat": 4
 },
 "nbformat": 4,
 "nbformat_minor": 2
}
