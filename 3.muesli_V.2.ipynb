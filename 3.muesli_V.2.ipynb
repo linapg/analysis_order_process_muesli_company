{
 "cells": [
  {
   "cell_type": "markdown",
   "metadata": {},
   "source": [
    "# Tracking bottlenecks in the Muesli orders process"
   ]
  },
  {
   "cell_type": "code",
   "execution_count": 88,
   "metadata": {},
   "outputs": [],
   "source": [
    "#import libraries\n",
    "import pandas as pd\n",
    "import matplotlib.pyplot as plt\n",
    "import seaborn as sns\n",
    "import statsmodels.api as sm\n",
    "\n",
    "# hides warning messages\n",
    "import warnings\n",
    "warnings.filterwarnings(\"ignore\")\n",
    "\n",
    "#style for the plots\n",
    "plt.style.use('fivethirtyeight')\n"
   ]
  },
  {
   "cell_type": "code",
   "execution_count": 89,
   "metadata": {},
   "outputs": [
    {
     "data": {
      "text/html": [
       "<div>\n",
       "<style scoped>\n",
       "    .dataframe tbody tr th:only-of-type {\n",
       "        vertical-align: middle;\n",
       "    }\n",
       "\n",
       "    .dataframe tbody tr th {\n",
       "        vertical-align: top;\n",
       "    }\n",
       "\n",
       "    .dataframe thead th {\n",
       "        text-align: right;\n",
       "    }\n",
       "</style>\n",
       "<table border=\"1\" class=\"dataframe\">\n",
       "  <thead>\n",
       "    <tr style=\"text-align: right;\">\n",
       "      <th></th>\n",
       "      <th>Index</th>\n",
       "      <th>Order ID</th>\n",
       "      <th>Order Date</th>\n",
       "      <th>Ship mode</th>\n",
       "      <th>Customer ID</th>\n",
       "      <th>Customer Name</th>\n",
       "      <th>Origin Channel</th>\n",
       "      <th>Country/Region</th>\n",
       "      <th>City</th>\n",
       "      <th>State</th>\n",
       "      <th>Postal Code</th>\n",
       "      <th>Region</th>\n",
       "      <th>Category</th>\n",
       "      <th>Sub-Category</th>\n",
       "      <th>Product ID</th>\n",
       "      <th>Sales</th>\n",
       "      <th>Quantity</th>\n",
       "      <th>Discount</th>\n",
       "      <th>Profit</th>\n",
       "    </tr>\n",
       "  </thead>\n",
       "  <tbody>\n",
       "    <tr>\n",
       "      <th>0</th>\n",
       "      <td>27.0</td>\n",
       "      <td>CA-2019-121755</td>\n",
       "      <td>2019-01-16</td>\n",
       "      <td>Second Class</td>\n",
       "      <td>EH-13945</td>\n",
       "      <td>Eric Hoffmann</td>\n",
       "      <td>Email</td>\n",
       "      <td>United States</td>\n",
       "      <td>Los Angeles</td>\n",
       "      <td>California</td>\n",
       "      <td>90049.0</td>\n",
       "      <td>West</td>\n",
       "      <td>Special Projects Muesil</td>\n",
       "      <td>Gluten Free</td>\n",
       "      <td>TEC-AC-10003027</td>\n",
       "      <td>90.57</td>\n",
       "      <td>3.0</td>\n",
       "      <td>0.0</td>\n",
       "      <td>11.7741</td>\n",
       "    </tr>\n",
       "    <tr>\n",
       "      <th>1</th>\n",
       "      <td>45.0</td>\n",
       "      <td>CA-2019-118255</td>\n",
       "      <td>2019-03-11</td>\n",
       "      <td>First Class</td>\n",
       "      <td>ON-18715</td>\n",
       "      <td>Odella Nelson</td>\n",
       "      <td>Sales</td>\n",
       "      <td>United States</td>\n",
       "      <td>Eagan</td>\n",
       "      <td>Minnesota</td>\n",
       "      <td>55122.0</td>\n",
       "      <td>Central</td>\n",
       "      <td>Special Projects Muesil</td>\n",
       "      <td>Gluten Free</td>\n",
       "      <td>TEC-AC-10000171</td>\n",
       "      <td>45.98</td>\n",
       "      <td>2.0</td>\n",
       "      <td>0.0</td>\n",
       "      <td>19.7714</td>\n",
       "    </tr>\n",
       "  </tbody>\n",
       "</table>\n",
       "</div>"
      ],
      "text/plain": [
       "   Index        Order ID Order Date     Ship mode Customer ID  Customer Name  \\\n",
       "0   27.0  CA-2019-121755 2019-01-16  Second Class    EH-13945  Eric Hoffmann   \n",
       "1   45.0  CA-2019-118255 2019-03-11   First Class    ON-18715  Odella Nelson   \n",
       "\n",
       "  Origin Channel Country/Region         City       State  Postal Code  \\\n",
       "0          Email  United States  Los Angeles  California      90049.0   \n",
       "1          Sales  United States        Eagan   Minnesota      55122.0   \n",
       "\n",
       "    Region                 Category Sub-Category       Product ID  Sales  \\\n",
       "0     West  Special Projects Muesil  Gluten Free  TEC-AC-10003027  90.57   \n",
       "1  Central  Special Projects Muesil  Gluten Free  TEC-AC-10000171  45.98   \n",
       "\n",
       "   Quantity  Discount   Profit  \n",
       "0       3.0       0.0  11.7741  \n",
       "1       2.0       0.0  19.7714  "
      ]
     },
     "execution_count": 89,
     "metadata": {},
     "output_type": "execute_result"
    }
   ],
   "source": [
    "#read data \n",
    "orders = pd.read_excel('data/muesli_raw_data.xlsx', header=1) #Please change your patch accordingly\n",
    "orders.head(2)\n"
   ]
  },
  {
   "cell_type": "markdown",
   "metadata": {},
   "source": [
    "**Create dataframes for each excel sheet:**"
   ]
  },
  {
   "cell_type": "code",
   "execution_count": 90,
   "metadata": {},
   "outputs": [
    {
     "data": {
      "text/html": [
       "<div>\n",
       "<style scoped>\n",
       "    .dataframe tbody tr th:only-of-type {\n",
       "        vertical-align: middle;\n",
       "    }\n",
       "\n",
       "    .dataframe tbody tr th {\n",
       "        vertical-align: top;\n",
       "    }\n",
       "\n",
       "    .dataframe thead th {\n",
       "        text-align: right;\n",
       "    }\n",
       "</style>\n",
       "<table border=\"1\" class=\"dataframe\">\n",
       "  <thead>\n",
       "    <tr style=\"text-align: right;\">\n",
       "      <th></th>\n",
       "      <th>index</th>\n",
       "      <th>order_id</th>\n",
       "      <th>order_date</th>\n",
       "      <th>ship_mode</th>\n",
       "      <th>customer_id</th>\n",
       "      <th>customer_name</th>\n",
       "      <th>origin_channel</th>\n",
       "      <th>country/region</th>\n",
       "      <th>city</th>\n",
       "      <th>state</th>\n",
       "      <th>postal_code</th>\n",
       "      <th>region</th>\n",
       "      <th>category</th>\n",
       "      <th>sub-category</th>\n",
       "      <th>product_id</th>\n",
       "      <th>sales</th>\n",
       "      <th>quantity</th>\n",
       "      <th>discount</th>\n",
       "      <th>profit</th>\n",
       "    </tr>\n",
       "  </thead>\n",
       "  <tbody>\n",
       "    <tr>\n",
       "      <th>0</th>\n",
       "      <td>27.0</td>\n",
       "      <td>CA-2019-121755</td>\n",
       "      <td>2019-01-16</td>\n",
       "      <td>Second Class</td>\n",
       "      <td>EH-13945</td>\n",
       "      <td>Eric Hoffmann</td>\n",
       "      <td>Email</td>\n",
       "      <td>United States</td>\n",
       "      <td>Los Angeles</td>\n",
       "      <td>California</td>\n",
       "      <td>90049.0</td>\n",
       "      <td>West</td>\n",
       "      <td>Special Projects Muesil</td>\n",
       "      <td>Gluten Free</td>\n",
       "      <td>TEC-AC-10003027</td>\n",
       "      <td>90.57</td>\n",
       "      <td>3.0</td>\n",
       "      <td>0.0</td>\n",
       "      <td>11.7741</td>\n",
       "    </tr>\n",
       "    <tr>\n",
       "      <th>1</th>\n",
       "      <td>45.0</td>\n",
       "      <td>CA-2019-118255</td>\n",
       "      <td>2019-03-11</td>\n",
       "      <td>First Class</td>\n",
       "      <td>ON-18715</td>\n",
       "      <td>Odella Nelson</td>\n",
       "      <td>Sales</td>\n",
       "      <td>United States</td>\n",
       "      <td>Eagan</td>\n",
       "      <td>Minnesota</td>\n",
       "      <td>55122.0</td>\n",
       "      <td>Central</td>\n",
       "      <td>Special Projects Muesil</td>\n",
       "      <td>Gluten Free</td>\n",
       "      <td>TEC-AC-10000171</td>\n",
       "      <td>45.98</td>\n",
       "      <td>2.0</td>\n",
       "      <td>0.0</td>\n",
       "      <td>19.7714</td>\n",
       "    </tr>\n",
       "  </tbody>\n",
       "</table>\n",
       "</div>"
      ],
      "text/plain": [
       "   index        order_id order_date     ship_mode customer_id  customer_name  \\\n",
       "0   27.0  CA-2019-121755 2019-01-16  Second Class    EH-13945  Eric Hoffmann   \n",
       "1   45.0  CA-2019-118255 2019-03-11   First Class    ON-18715  Odella Nelson   \n",
       "\n",
       "  origin_channel country/region         city       state  postal_code  \\\n",
       "0          Email  United States  Los Angeles  California      90049.0   \n",
       "1          Sales  United States        Eagan   Minnesota      55122.0   \n",
       "\n",
       "    region                 category sub-category       product_id  sales  \\\n",
       "0     West  Special Projects Muesil  Gluten Free  TEC-AC-10003027  90.57   \n",
       "1  Central  Special Projects Muesil  Gluten Free  TEC-AC-10000171  45.98   \n",
       "\n",
       "   quantity  discount   profit  \n",
       "0       3.0       0.0  11.7741  \n",
       "1       2.0       0.0  19.7714  "
      ]
     },
     "execution_count": 90,
     "metadata": {},
     "output_type": "execute_result"
    }
   ],
   "source": [
    "#clean orders dataframe\n",
    "orders.columns = orders.columns.str.lower()\n",
    "orders.columns = orders.columns.str.replace(\" \",\"_\")\n",
    "orders.head(2)"
   ]
  },
  {
   "cell_type": "code",
   "execution_count": 91,
   "metadata": {},
   "outputs": [
    {
     "data": {
      "text/html": [
       "<div>\n",
       "<style scoped>\n",
       "    .dataframe tbody tr th:only-of-type {\n",
       "        vertical-align: middle;\n",
       "    }\n",
       "\n",
       "    .dataframe tbody tr th {\n",
       "        vertical-align: top;\n",
       "    }\n",
       "\n",
       "    .dataframe thead th {\n",
       "        text-align: right;\n",
       "    }\n",
       "</style>\n",
       "<table border=\"1\" class=\"dataframe\">\n",
       "  <thead>\n",
       "    <tr style=\"text-align: right;\">\n",
       "      <th></th>\n",
       "      <th>order_id</th>\n",
       "      <th>arrival_scan_date</th>\n",
       "      <th>customer_name</th>\n",
       "    </tr>\n",
       "  </thead>\n",
       "  <tbody>\n",
       "    <tr>\n",
       "      <th>0</th>\n",
       "      <td>CA-2019-109666</td>\n",
       "      <td>2019-05-03</td>\n",
       "      <td>Kunst Miller</td>\n",
       "    </tr>\n",
       "    <tr>\n",
       "      <th>1</th>\n",
       "      <td>CA-2019-138933</td>\n",
       "      <td>2019-05-03</td>\n",
       "      <td>Jack Lebron</td>\n",
       "    </tr>\n",
       "  </tbody>\n",
       "</table>\n",
       "</div>"
      ],
      "text/plain": [
       "         order_id arrival_scan_date customer_name\n",
       "0  CA-2019-109666        2019-05-03  Kunst Miller\n",
       "1  CA-2019-138933        2019-05-03   Jack Lebron"
      ]
     },
     "execution_count": 91,
     "metadata": {},
     "output_type": "execute_result"
    }
   ],
   "source": [
    "#create arrival df\n",
    "arrival= pd.read_excel('data/muesli_raw_data.xlsx', sheet_name='Campaign Data')\n",
    "\n",
    "#clean arrival df\n",
    "arrival.columns = arrival.columns.str.lower()\n",
    "arrival.columns = arrival.columns.str.replace(\" \",\"_\")\n",
    "arrival.head(2)"
   ]
  },
  {
   "cell_type": "code",
   "execution_count": 92,
   "metadata": {},
   "outputs": [
    {
     "data": {
      "text/html": [
       "<div>\n",
       "<style scoped>\n",
       "    .dataframe tbody tr th:only-of-type {\n",
       "        vertical-align: middle;\n",
       "    }\n",
       "\n",
       "    .dataframe tbody tr th {\n",
       "        vertical-align: top;\n",
       "    }\n",
       "\n",
       "    .dataframe thead th {\n",
       "        text-align: right;\n",
       "    }\n",
       "</style>\n",
       "<table border=\"1\" class=\"dataframe\">\n",
       "  <thead>\n",
       "    <tr style=\"text-align: right;\">\n",
       "      <th></th>\n",
       "      <th>row_id</th>\n",
       "      <th>order_id</th>\n",
       "      <th>order_date</th>\n",
       "      <th>on_truck_scan_date</th>\n",
       "      <th>ship_mode</th>\n",
       "    </tr>\n",
       "  </thead>\n",
       "  <tbody>\n",
       "    <tr>\n",
       "      <th>0</th>\n",
       "      <td>3074.0</td>\n",
       "      <td>CA-2019-125206</td>\n",
       "      <td>2019-01-03</td>\n",
       "      <td>2019-01-07</td>\n",
       "      <td>Express</td>\n",
       "    </tr>\n",
       "    <tr>\n",
       "      <th>1</th>\n",
       "      <td>4919.0</td>\n",
       "      <td>CA-2019-160304</td>\n",
       "      <td>2019-01-02</td>\n",
       "      <td>2019-01-09</td>\n",
       "      <td>Standard Processing</td>\n",
       "    </tr>\n",
       "  </tbody>\n",
       "</table>\n",
       "</div>"
      ],
      "text/plain": [
       "   row_id        order_id order_date on_truck_scan_date            ship_mode\n",
       "0  3074.0  CA-2019-125206 2019-01-03         2019-01-07              Express\n",
       "1  4919.0  CA-2019-160304 2019-01-02         2019-01-09  Standard Processing"
      ]
     },
     "execution_count": 92,
     "metadata": {},
     "output_type": "execute_result"
    }
   ],
   "source": [
    "#create truck df\n",
    "truck = pd.read_excel('data/muesli_raw_data.xlsx', sheet_name='Order Process Data')\n",
    "\n",
    "#clean truck df\n",
    "truck.columns = truck.columns.str.lower()\n",
    "truck.columns = truck.columns.str.replace(\" \",\"_\")\n",
    "truck.head(2)"
   ]
  },
  {
   "cell_type": "code",
   "execution_count": 93,
   "metadata": {},
   "outputs": [
    {
     "data": {
      "text/html": [
       "<div>\n",
       "<style scoped>\n",
       "    .dataframe tbody tr th:only-of-type {\n",
       "        vertical-align: middle;\n",
       "    }\n",
       "\n",
       "    .dataframe tbody tr th {\n",
       "        vertical-align: top;\n",
       "    }\n",
       "\n",
       "    .dataframe thead th {\n",
       "        text-align: right;\n",
       "    }\n",
       "</style>\n",
       "<table border=\"1\" class=\"dataframe\">\n",
       "  <thead>\n",
       "    <tr style=\"text-align: right;\">\n",
       "      <th></th>\n",
       "      <th>order_id</th>\n",
       "      <th>order_date</th>\n",
       "      <th>on_truck_scan_date</th>\n",
       "      <th>ship_mode</th>\n",
       "    </tr>\n",
       "  </thead>\n",
       "  <tbody>\n",
       "    <tr>\n",
       "      <th>0</th>\n",
       "      <td>CA-2019-125206</td>\n",
       "      <td>2019-01-03</td>\n",
       "      <td>2019-01-07</td>\n",
       "      <td>Express</td>\n",
       "    </tr>\n",
       "    <tr>\n",
       "      <th>1</th>\n",
       "      <td>CA-2019-160304</td>\n",
       "      <td>2019-01-02</td>\n",
       "      <td>2019-01-09</td>\n",
       "      <td>Standard Processing</td>\n",
       "    </tr>\n",
       "    <tr>\n",
       "      <th>2</th>\n",
       "      <td>CA-2019-160304</td>\n",
       "      <td>2019-01-02</td>\n",
       "      <td>2019-01-09</td>\n",
       "      <td>Standard Processing</td>\n",
       "    </tr>\n",
       "    <tr>\n",
       "      <th>3</th>\n",
       "      <td>US-2019-116365</td>\n",
       "      <td>2019-01-03</td>\n",
       "      <td>2019-01-09</td>\n",
       "      <td>Standard Processing</td>\n",
       "    </tr>\n",
       "    <tr>\n",
       "      <th>4</th>\n",
       "      <td>US-2019-116365</td>\n",
       "      <td>2019-01-03</td>\n",
       "      <td>2019-01-09</td>\n",
       "      <td>Standard Processing</td>\n",
       "    </tr>\n",
       "    <tr>\n",
       "      <th>...</th>\n",
       "      <td>...</td>\n",
       "      <td>...</td>\n",
       "      <td>...</td>\n",
       "      <td>...</td>\n",
       "    </tr>\n",
       "    <tr>\n",
       "      <th>5894</th>\n",
       "      <td>CA-2020-143259</td>\n",
       "      <td>2020-12-30</td>\n",
       "      <td>2021-01-06</td>\n",
       "      <td>Standard Processing</td>\n",
       "    </tr>\n",
       "    <tr>\n",
       "      <th>5895</th>\n",
       "      <td>CA-2020-143259</td>\n",
       "      <td>2020-12-30</td>\n",
       "      <td>2021-01-06</td>\n",
       "      <td>Standard Processing</td>\n",
       "    </tr>\n",
       "    <tr>\n",
       "      <th>5896</th>\n",
       "      <td>CA-2020-115427</td>\n",
       "      <td>2020-12-30</td>\n",
       "      <td>2021-01-06</td>\n",
       "      <td>Standard Processing</td>\n",
       "    </tr>\n",
       "    <tr>\n",
       "      <th>5897</th>\n",
       "      <td>CA-2020-115427</td>\n",
       "      <td>2020-12-30</td>\n",
       "      <td>2021-01-06</td>\n",
       "      <td>Standard Processing</td>\n",
       "    </tr>\n",
       "    <tr>\n",
       "      <th>5898</th>\n",
       "      <td>CA-2020-156720</td>\n",
       "      <td>2020-12-30</td>\n",
       "      <td>2021-01-06</td>\n",
       "      <td>Standard Processing</td>\n",
       "    </tr>\n",
       "  </tbody>\n",
       "</table>\n",
       "<p>5899 rows × 4 columns</p>\n",
       "</div>"
      ],
      "text/plain": [
       "            order_id order_date on_truck_scan_date            ship_mode\n",
       "0     CA-2019-125206 2019-01-03         2019-01-07              Express\n",
       "1     CA-2019-160304 2019-01-02         2019-01-09  Standard Processing\n",
       "2     CA-2019-160304 2019-01-02         2019-01-09  Standard Processing\n",
       "3     US-2019-116365 2019-01-03         2019-01-09  Standard Processing\n",
       "4     US-2019-116365 2019-01-03         2019-01-09  Standard Processing\n",
       "...              ...        ...                ...                  ...\n",
       "5894  CA-2020-143259 2020-12-30         2021-01-06  Standard Processing\n",
       "5895  CA-2020-143259 2020-12-30         2021-01-06  Standard Processing\n",
       "5896  CA-2020-115427 2020-12-30         2021-01-06  Standard Processing\n",
       "5897  CA-2020-115427 2020-12-30         2021-01-06  Standard Processing\n",
       "5898  CA-2020-156720 2020-12-30         2021-01-06  Standard Processing\n",
       "\n",
       "[5899 rows x 4 columns]"
      ]
     },
     "execution_count": 93,
     "metadata": {},
     "output_type": "execute_result"
    }
   ],
   "source": [
    "truck.drop('row_id', axis=1)"
   ]
  },
  {
   "cell_type": "code",
   "execution_count": 94,
   "metadata": {},
   "outputs": [
    {
     "name": "stdout",
     "output_type": "stream",
     "text": [
      "<class 'pandas.core.frame.DataFrame'>\n",
      "RangeIndex: 5899 entries, 0 to 5898\n",
      "Data columns (total 5 columns):\n",
      " #   Column              Non-Null Count  Dtype         \n",
      "---  ------              --------------  -----         \n",
      " 0   row_id              5899 non-null   float64       \n",
      " 1   order_id            5899 non-null   object        \n",
      " 2   order_date          5899 non-null   datetime64[ns]\n",
      " 3   on_truck_scan_date  5899 non-null   datetime64[ns]\n",
      " 4   ship_mode           5899 non-null   object        \n",
      "dtypes: datetime64[ns](2), float64(1), object(2)\n",
      "memory usage: 230.6+ KB\n"
     ]
    }
   ],
   "source": [
    "truck.info()"
   ]
  },
  {
   "cell_type": "code",
   "execution_count": 95,
   "metadata": {},
   "outputs": [
    {
     "data": {
      "text/html": [
       "<div>\n",
       "<style scoped>\n",
       "    .dataframe tbody tr th:only-of-type {\n",
       "        vertical-align: middle;\n",
       "    }\n",
       "\n",
       "    .dataframe tbody tr th {\n",
       "        vertical-align: top;\n",
       "    }\n",
       "\n",
       "    .dataframe thead th {\n",
       "        text-align: right;\n",
       "    }\n",
       "</style>\n",
       "<table border=\"1\" class=\"dataframe\">\n",
       "  <thead>\n",
       "    <tr style=\"text-align: right;\">\n",
       "      <th></th>\n",
       "      <th>order_id</th>\n",
       "      <th>ready_to_ship_date</th>\n",
       "      <th>pickup_date</th>\n",
       "    </tr>\n",
       "  </thead>\n",
       "  <tbody>\n",
       "    <tr>\n",
       "      <th>0</th>\n",
       "      <td>CA-2019-116540</td>\n",
       "      <td>2019-09-02</td>\n",
       "      <td>2019-09-03</td>\n",
       "    </tr>\n",
       "    <tr>\n",
       "      <th>1</th>\n",
       "      <td>CA-2019-116540</td>\n",
       "      <td>2019-09-02</td>\n",
       "      <td>2019-09-03</td>\n",
       "    </tr>\n",
       "  </tbody>\n",
       "</table>\n",
       "</div>"
      ],
      "text/plain": [
       "         order_id ready_to_ship_date pickup_date\n",
       "0  CA-2019-116540         2019-09-02  2019-09-03\n",
       "1  CA-2019-116540         2019-09-02  2019-09-03"
      ]
     },
     "execution_count": 95,
     "metadata": {},
     "output_type": "execute_result"
    }
   ],
   "source": [
    "#create ready_pickup df\n",
    "ready_pickup = pd.read_excel('data/muesli_raw_data.xlsx', sheet_name='InternData Study')\n",
    "\n",
    "#clean ready_pickup df\n",
    "ready_pickup.columns = ready_pickup.columns.str.lower()\n",
    "ready_pickup.columns = ready_pickup.columns.str.replace(\" \",\"_\")\n",
    "ready_pickup.head(2)"
   ]
  },
  {
   "cell_type": "markdown",
   "metadata": {},
   "source": [
    "# Inspecting Duplicates"
   ]
  },
  {
   "cell_type": "code",
   "execution_count": 96,
   "metadata": {},
   "outputs": [
    {
     "name": "stdout",
     "output_type": "stream",
     "text": [
      "duplicates for orders: 0\n",
      "duplicates for arrival: 0\n",
      "duplicates for truck: 0\n",
      "duplicates for ready_pickup: 147\n"
     ]
    }
   ],
   "source": [
    "duplicates_orders = orders[orders.duplicated(keep=False)].shape\n",
    "print(f'duplicates for orders: {duplicates_orders[0]}') \n",
    "\n",
    "duplicates_arrival = arrival[arrival.duplicated(keep=False)].shape\n",
    "print(f'duplicates for arrival: {duplicates_arrival[0]}')\n",
    "\n",
    "duplicates_truck = truck[truck.duplicated(keep=False)].shape\n",
    "print(f'duplicates for truck: {duplicates_truck[0]}')\n",
    "\n",
    "duplicates_ready_pickup = ready_pickup[ready_pickup.duplicated(keep=False)].shape\n",
    "print(f'duplicates for ready_pickup: {duplicates_ready_pickup[0]}')"
   ]
  },
  {
   "cell_type": "code",
   "execution_count": 97,
   "metadata": {},
   "outputs": [
    {
     "name": "stdout",
     "output_type": "stream",
     "text": [
      "duplicates for ready_pickup: 0\n"
     ]
    }
   ],
   "source": [
    "# dropping and corroborating duplicates in ready_pickup\n",
    "\n",
    "ready_pickup.drop_duplicates(subset='order_id', inplace=True)\n",
    "duplicates_ready_pickup = ready_pickup[ready_pickup.duplicated(keep=False)].shape\n",
    "print(f'duplicates for ready_pickup: {duplicates_ready_pickup[0]}')"
   ]
  },
  {
   "cell_type": "markdown",
   "metadata": {},
   "source": [
    "# Joining dataframes to measure the  overall lead time of the muesli orders (1° KPI)"
   ]
  },
  {
   "cell_type": "code",
   "execution_count": 98,
   "metadata": {},
   "outputs": [
    {
     "data": {
      "text/html": [
       "<div>\n",
       "<style scoped>\n",
       "    .dataframe tbody tr th:only-of-type {\n",
       "        vertical-align: middle;\n",
       "    }\n",
       "\n",
       "    .dataframe tbody tr th {\n",
       "        vertical-align: top;\n",
       "    }\n",
       "\n",
       "    .dataframe thead th {\n",
       "        text-align: right;\n",
       "    }\n",
       "</style>\n",
       "<table border=\"1\" class=\"dataframe\">\n",
       "  <thead>\n",
       "    <tr style=\"text-align: right;\">\n",
       "      <th></th>\n",
       "      <th>index</th>\n",
       "      <th>order_id</th>\n",
       "      <th>order_date</th>\n",
       "      <th>ship_mode</th>\n",
       "      <th>customer_id</th>\n",
       "      <th>customer_name_x</th>\n",
       "      <th>origin_channel</th>\n",
       "      <th>country/region</th>\n",
       "      <th>city</th>\n",
       "      <th>state</th>\n",
       "      <th>...</th>\n",
       "      <th>region</th>\n",
       "      <th>category</th>\n",
       "      <th>sub-category</th>\n",
       "      <th>product_id</th>\n",
       "      <th>sales</th>\n",
       "      <th>quantity</th>\n",
       "      <th>discount</th>\n",
       "      <th>profit</th>\n",
       "      <th>arrival_scan_date</th>\n",
       "      <th>customer_name_y</th>\n",
       "    </tr>\n",
       "  </thead>\n",
       "  <tbody>\n",
       "    <tr>\n",
       "      <th>0</th>\n",
       "      <td>252.0</td>\n",
       "      <td>CA-2019-145625</td>\n",
       "      <td>2019-09-11</td>\n",
       "      <td>Standard Class</td>\n",
       "      <td>KC-16540</td>\n",
       "      <td>Kelly Collister</td>\n",
       "      <td>Email</td>\n",
       "      <td>United States</td>\n",
       "      <td>San Diego</td>\n",
       "      <td>California</td>\n",
       "      <td>...</td>\n",
       "      <td>West</td>\n",
       "      <td>Special Projects Muesil</td>\n",
       "      <td>Gluten Free</td>\n",
       "      <td>TEC-AC-10003832</td>\n",
       "      <td>3347.37</td>\n",
       "      <td>13.0</td>\n",
       "      <td>0.0</td>\n",
       "      <td>636.0003</td>\n",
       "      <td>2019-09-23</td>\n",
       "      <td>Kelly Collister</td>\n",
       "    </tr>\n",
       "    <tr>\n",
       "      <th>2</th>\n",
       "      <td>325.0</td>\n",
       "      <td>CA-2019-162138</td>\n",
       "      <td>2019-04-23</td>\n",
       "      <td>Standard Class</td>\n",
       "      <td>GK-14620</td>\n",
       "      <td>Grace Kelly</td>\n",
       "      <td>Sales</td>\n",
       "      <td>United States</td>\n",
       "      <td>Hesperia</td>\n",
       "      <td>California</td>\n",
       "      <td>...</td>\n",
       "      <td>West</td>\n",
       "      <td>Special Projects Muesil</td>\n",
       "      <td>Gluten Free</td>\n",
       "      <td>TEC-AC-10001908</td>\n",
       "      <td>99.99</td>\n",
       "      <td>1.0</td>\n",
       "      <td>0.0</td>\n",
       "      <td>34.9965</td>\n",
       "      <td>2019-05-06</td>\n",
       "      <td>Grace Kelly</td>\n",
       "    </tr>\n",
       "  </tbody>\n",
       "</table>\n",
       "<p>2 rows × 21 columns</p>\n",
       "</div>"
      ],
      "text/plain": [
       "   index        order_id order_date       ship_mode customer_id  \\\n",
       "0  252.0  CA-2019-145625 2019-09-11  Standard Class    KC-16540   \n",
       "2  325.0  CA-2019-162138 2019-04-23  Standard Class    GK-14620   \n",
       "\n",
       "   customer_name_x origin_channel country/region       city       state  ...  \\\n",
       "0  Kelly Collister          Email  United States  San Diego  California  ...   \n",
       "2      Grace Kelly          Sales  United States   Hesperia  California  ...   \n",
       "\n",
       "   region                 category sub-category       product_id    sales  \\\n",
       "0    West  Special Projects Muesil  Gluten Free  TEC-AC-10003832  3347.37   \n",
       "2    West  Special Projects Muesil  Gluten Free  TEC-AC-10001908    99.99   \n",
       "\n",
       "   quantity  discount    profit  arrival_scan_date  customer_name_y  \n",
       "0      13.0       0.0  636.0003         2019-09-23  Kelly Collister  \n",
       "2       1.0       0.0   34.9965         2019-05-06      Grace Kelly  \n",
       "\n",
       "[2 rows x 21 columns]"
      ]
     },
     "execution_count": 98,
     "metadata": {},
     "output_type": "execute_result"
    }
   ],
   "source": [
    "#joining orders and arrivals = df1\n",
    "df1= pd.merge(orders, arrival, on= \"order_id\", how= \"inner\")\n",
    "df1.drop_duplicates(subset='order_id', inplace=True)\n",
    "df1.head(2)"
   ]
  },
  {
   "cell_type": "code",
   "execution_count": 99,
   "metadata": {},
   "outputs": [
    {
     "name": "stdout",
     "output_type": "stream",
     "text": [
      "<class 'pandas.core.frame.DataFrame'>\n",
      "Int64Index: 333 entries, 0 to 667\n",
      "Data columns (total 21 columns):\n",
      " #   Column             Non-Null Count  Dtype         \n",
      "---  ------             --------------  -----         \n",
      " 0   index              333 non-null    float64       \n",
      " 1   order_id           333 non-null    object        \n",
      " 2   order_date         333 non-null    datetime64[ns]\n",
      " 3   ship_mode          333 non-null    object        \n",
      " 4   customer_id        333 non-null    object        \n",
      " 5   customer_name_x    333 non-null    object        \n",
      " 6   origin_channel     333 non-null    object        \n",
      " 7   country/region     333 non-null    object        \n",
      " 8   city               333 non-null    object        \n",
      " 9   state              333 non-null    object        \n",
      " 10  postal_code        333 non-null    float64       \n",
      " 11  region             333 non-null    object        \n",
      " 12  category           333 non-null    object        \n",
      " 13  sub-category       333 non-null    object        \n",
      " 14  product_id         333 non-null    object        \n",
      " 15  sales              333 non-null    float64       \n",
      " 16  quantity           333 non-null    float64       \n",
      " 17  discount           333 non-null    float64       \n",
      " 18  profit             333 non-null    float64       \n",
      " 19  arrival_scan_date  333 non-null    datetime64[ns]\n",
      " 20  customer_name_y    333 non-null    object        \n",
      "dtypes: datetime64[ns](2), float64(6), object(13)\n",
      "memory usage: 57.2+ KB\n"
     ]
    }
   ],
   "source": [
    "df1.info()"
   ]
  },
  {
   "cell_type": "markdown",
   "metadata": {},
   "source": [
    "**Time between the order date and the arrival to the customer**"
   ]
  },
  {
   "cell_type": "code",
   "execution_count": 100,
   "metadata": {},
   "outputs": [
    {
     "data": {
      "text/html": [
       "<div>\n",
       "<style scoped>\n",
       "    .dataframe tbody tr th:only-of-type {\n",
       "        vertical-align: middle;\n",
       "    }\n",
       "\n",
       "    .dataframe tbody tr th {\n",
       "        vertical-align: top;\n",
       "    }\n",
       "\n",
       "    .dataframe thead th {\n",
       "        text-align: right;\n",
       "    }\n",
       "</style>\n",
       "<table border=\"1\" class=\"dataframe\">\n",
       "  <thead>\n",
       "    <tr style=\"text-align: right;\">\n",
       "      <th></th>\n",
       "      <th>order_id</th>\n",
       "      <th>order_date</th>\n",
       "      <th>arrival_scan_date</th>\n",
       "      <th>day_dif_order</th>\n",
       "    </tr>\n",
       "  </thead>\n",
       "  <tbody>\n",
       "    <tr>\n",
       "      <th>0</th>\n",
       "      <td>CA-2019-145625</td>\n",
       "      <td>2019-09-11</td>\n",
       "      <td>2019-09-23</td>\n",
       "      <td>12</td>\n",
       "    </tr>\n",
       "    <tr>\n",
       "      <th>2</th>\n",
       "      <td>CA-2019-162138</td>\n",
       "      <td>2019-04-23</td>\n",
       "      <td>2019-05-06</td>\n",
       "      <td>13</td>\n",
       "    </tr>\n",
       "  </tbody>\n",
       "</table>\n",
       "</div>"
      ],
      "text/plain": [
       "         order_id order_date arrival_scan_date  day_dif_order\n",
       "0  CA-2019-145625 2019-09-11        2019-09-23             12\n",
       "2  CA-2019-162138 2019-04-23        2019-05-06             13"
      ]
     },
     "execution_count": 100,
     "metadata": {},
     "output_type": "execute_result"
    }
   ],
   "source": [
    "#df1 has order dates and arrivals for the gerneral lead time kpi\n",
    "df1 = df1[[\"order_id\", \"order_date\", \"arrival_scan_date\"]]\n",
    "\n",
    "#create columns for day difference\n",
    "df1[\"day_dif_order\"]= (df1[\"arrival_scan_date\"]-df1[\"order_date\"]).dt.days\n",
    "df1.head(2)\n"
   ]
  },
  {
   "cell_type": "markdown",
   "metadata": {},
   "source": [
    "**Plotting overall lead time**"
   ]
  },
  {
   "cell_type": "code",
   "execution_count": 129,
   "metadata": {},
   "outputs": [
    {
     "data": {
      "image/png": "[encoded data removed]",
      "text/plain": [
       "<Figure size 1000x500 with 1 Axes>"
      ]
     },
     "metadata": {},
     "output_type": "display_data"
    }
   ],
   "source": [
    "with plt.style.context('default'):\n",
    "    fig, ax = plt.subplots(figsize=(10,5))\n",
    "    (\n",
    "        df1\n",
    "        .groupby('day_dif_order')\n",
    "        .count()['order_id']\n",
    "        .plot.bar(rot=360) \n",
    "    )\n",
    "    ax.set_title('Overall leadtime from order date to arrival date')\n",
    "\n",
    "    ax.set_xlabel('Lead time');\n",
    "    ax.set_ylabel('Count of orders')\n",
    "    ax.spines['right'].set_color('none') # turn off the right spine\n",
    "    ax.spines['top'].set_color('none') #turn off the top spine;"
   ]
  },
  {
   "cell_type": "markdown",
   "metadata": {},
   "source": [
    "**Findings**  \n",
    "There's not enough data here because the arrival data is only available for the 3.3% of the orders, so it is not representative of the whole case.\n",
    "The man of the overall time is 11 days and the range is 14 days.\n"
   ]
  },
  {
   "cell_type": "code",
   "execution_count": 102,
   "metadata": {},
   "outputs": [
    {
     "data": {
      "text/plain": [
       "count    333.0\n",
       "mean      10.8\n",
       "std        2.9\n",
       "min        3.0\n",
       "25%        9.0\n",
       "50%       11.0\n",
       "75%       13.0\n",
       "max       17.0\n",
       "Name: day_dif_order, dtype: float64"
      ]
     },
     "execution_count": 102,
     "metadata": {},
     "output_type": "execute_result"
    }
   ],
   "source": [
    "#summary statistics for first kpi\n",
    "#according to company estimation it should take 13 day in the worth case.\n",
    "df1.describe()[\"day_dif_order\"].round(1)"
   ]
  },
  {
   "cell_type": "code",
   "execution_count": 131,
   "metadata": {},
   "outputs": [
    {
     "data": {
      "image/png": "[encoded data removed]",
      "text/plain": [
       "<Figure size 1000x500 with 1 Axes>"
      ]
     },
     "metadata": {},
     "output_type": "display_data"
    }
   ],
   "source": [
    "#boxplot to see the outliers in the delivary dates\n",
    "with plt.style.context('default'):\n",
    "    fig, ax = plt.subplots(figsize=(10,5))\n",
    "    (\n",
    "        df1\n",
    "        .groupby('day_dif_order')\n",
    "        .count()['order_id']\n",
    "        .plot.box() \n",
    "    )\n",
    "    ax.set_title('Overall leadtime from order date to arrival date')\n",
    "\n",
    "    ax.set_xlabel('Lead time');\n",
    "    ax.set_ylabel('Count of orders')\n",
    "    ax.spines['right'].set_color('none') # turn off the right spine\n",
    "    ax.spines['top'].set_color('none') #turn off the top spine;\n"
   ]
  },
  {
   "cell_type": "markdown",
   "metadata": {},
   "source": [
    "**Findings**  \n",
    "According to box plot more than half of orders had the delivery date more then 12 days (which is the median)"
   ]
  },
  {
   "cell_type": "markdown",
   "metadata": {},
   "source": [
    "**Making the 1° KPI more specific: Calculating lead time according to the shipping method**"
   ]
  },
  {
   "cell_type": "code",
   "execution_count": 104,
   "metadata": {},
   "outputs": [
    {
     "data": {
      "text/html": [
       "<div>\n",
       "<style scoped>\n",
       "    .dataframe tbody tr th:only-of-type {\n",
       "        vertical-align: middle;\n",
       "    }\n",
       "\n",
       "    .dataframe tbody tr th {\n",
       "        vertical-align: top;\n",
       "    }\n",
       "\n",
       "    .dataframe thead th {\n",
       "        text-align: right;\n",
       "    }\n",
       "</style>\n",
       "<table border=\"1\" class=\"dataframe\">\n",
       "  <thead>\n",
       "    <tr style=\"text-align: right;\">\n",
       "      <th></th>\n",
       "      <th>order_id</th>\n",
       "      <th>order_date_ord</th>\n",
       "      <th>arrival_scan_date</th>\n",
       "      <th>day_dif_order</th>\n",
       "      <th>row_id</th>\n",
       "      <th>order_datetruck_</th>\n",
       "      <th>on_truck_scan_date</th>\n",
       "      <th>ship_mode</th>\n",
       "    </tr>\n",
       "  </thead>\n",
       "  <tbody>\n",
       "    <tr>\n",
       "      <th>0</th>\n",
       "      <td>CA-2019-145625</td>\n",
       "      <td>2019-09-11</td>\n",
       "      <td>2019-09-23</td>\n",
       "      <td>12</td>\n",
       "      <td>251.0</td>\n",
       "      <td>2019-09-11</td>\n",
       "      <td>2019-09-18</td>\n",
       "      <td>Standard Processing</td>\n",
       "    </tr>\n",
       "    <tr>\n",
       "      <th>1</th>\n",
       "      <td>CA-2019-145625</td>\n",
       "      <td>2019-09-11</td>\n",
       "      <td>2019-09-23</td>\n",
       "      <td>12</td>\n",
       "      <td>252.0</td>\n",
       "      <td>2019-09-11</td>\n",
       "      <td>2019-09-18</td>\n",
       "      <td>Standard Processing</td>\n",
       "    </tr>\n",
       "  </tbody>\n",
       "</table>\n",
       "</div>"
      ],
      "text/plain": [
       "         order_id order_date_ord arrival_scan_date  day_dif_order  row_id  \\\n",
       "0  CA-2019-145625     2019-09-11        2019-09-23             12   251.0   \n",
       "1  CA-2019-145625     2019-09-11        2019-09-23             12   252.0   \n",
       "\n",
       "  order_datetruck_ on_truck_scan_date            ship_mode  \n",
       "0       2019-09-11         2019-09-18  Standard Processing  \n",
       "1       2019-09-11         2019-09-18  Standard Processing  "
      ]
     },
     "execution_count": 104,
     "metadata": {},
     "output_type": "execute_result"
    }
   ],
   "source": [
    "#joining df1 and truck for ship method\n",
    "# lead_t_shipmode = pd.concat([df1, truck], axis=1, join='inner\n",
    "lead_t_shipmode = df1.merge(truck, how='inner', on='order_id', suffixes=('_ord', 'truck_'))\n",
    "lead_t_shipmode.head(2)"
   ]
  },
  {
   "cell_type": "code",
   "execution_count": 105,
   "metadata": {},
   "outputs": [
    {
     "name": "stdout",
     "output_type": "stream",
     "text": [
      "<class 'pandas.core.frame.DataFrame'>\n",
      "Int64Index: 668 entries, 0 to 667\n",
      "Data columns (total 8 columns):\n",
      " #   Column              Non-Null Count  Dtype         \n",
      "---  ------              --------------  -----         \n",
      " 0   order_id            668 non-null    object        \n",
      " 1   order_date_ord      668 non-null    datetime64[ns]\n",
      " 2   arrival_scan_date   668 non-null    datetime64[ns]\n",
      " 3   day_dif_order       668 non-null    int64         \n",
      " 4   row_id              668 non-null    float64       \n",
      " 5   order_datetruck_    668 non-null    datetime64[ns]\n",
      " 6   on_truck_scan_date  668 non-null    datetime64[ns]\n",
      " 7   ship_mode           668 non-null    object        \n",
      "dtypes: datetime64[ns](4), float64(1), int64(1), object(2)\n",
      "memory usage: 47.0+ KB\n"
     ]
    }
   ],
   "source": [
    "lead_t_shipmode.info()"
   ]
  },
  {
   "cell_type": "code",
   "execution_count": 106,
   "metadata": {},
   "outputs": [
    {
     "data": {
      "text/html": [
       "<div>\n",
       "<style scoped>\n",
       "    .dataframe tbody tr th:only-of-type {\n",
       "        vertical-align: middle;\n",
       "    }\n",
       "\n",
       "    .dataframe tbody tr th {\n",
       "        vertical-align: top;\n",
       "    }\n",
       "\n",
       "    .dataframe thead th {\n",
       "        text-align: right;\n",
       "    }\n",
       "</style>\n",
       "<table border=\"1\" class=\"dataframe\">\n",
       "  <thead>\n",
       "    <tr style=\"text-align: right;\">\n",
       "      <th></th>\n",
       "      <th>day_dif_order</th>\n",
       "      <th>row_id</th>\n",
       "    </tr>\n",
       "  </thead>\n",
       "  <tbody>\n",
       "    <tr>\n",
       "      <th>count</th>\n",
       "      <td>668.000000</td>\n",
       "      <td>668.000000</td>\n",
       "    </tr>\n",
       "    <tr>\n",
       "      <th>mean</th>\n",
       "      <td>10.886228</td>\n",
       "      <td>4895.901198</td>\n",
       "    </tr>\n",
       "    <tr>\n",
       "      <th>std</th>\n",
       "      <td>2.878174</td>\n",
       "      <td>2989.513912</td>\n",
       "    </tr>\n",
       "    <tr>\n",
       "      <th>min</th>\n",
       "      <td>3.000000</td>\n",
       "      <td>1.000000</td>\n",
       "    </tr>\n",
       "    <tr>\n",
       "      <th>25%</th>\n",
       "      <td>9.000000</td>\n",
       "      <td>2170.750000</td>\n",
       "    </tr>\n",
       "    <tr>\n",
       "      <th>50%</th>\n",
       "      <td>12.000000</td>\n",
       "      <td>4949.000000</td>\n",
       "    </tr>\n",
       "    <tr>\n",
       "      <th>75%</th>\n",
       "      <td>13.000000</td>\n",
       "      <td>7522.250000</td>\n",
       "    </tr>\n",
       "    <tr>\n",
       "      <th>max</th>\n",
       "      <td>17.000000</td>\n",
       "      <td>9987.000000</td>\n",
       "    </tr>\n",
       "  </tbody>\n",
       "</table>\n",
       "</div>"
      ],
      "text/plain": [
       "       day_dif_order       row_id\n",
       "count     668.000000   668.000000\n",
       "mean       10.886228  4895.901198\n",
       "std         2.878174  2989.513912\n",
       "min         3.000000     1.000000\n",
       "25%         9.000000  2170.750000\n",
       "50%        12.000000  4949.000000\n",
       "75%        13.000000  7522.250000\n",
       "max        17.000000  9987.000000"
      ]
     },
     "execution_count": 106,
     "metadata": {},
     "output_type": "execute_result"
    }
   ],
   "source": [
    "lead_t_shipmode.describe()"
   ]
  },
  {
   "cell_type": "code",
   "execution_count": 107,
   "metadata": {},
   "outputs": [
    {
     "data": {
      "text/html": [
       "<div>\n",
       "<style scoped>\n",
       "    .dataframe tbody tr th:only-of-type {\n",
       "        vertical-align: middle;\n",
       "    }\n",
       "\n",
       "    .dataframe tbody tr th {\n",
       "        vertical-align: top;\n",
       "    }\n",
       "\n",
       "    .dataframe thead th {\n",
       "        text-align: right;\n",
       "    }\n",
       "</style>\n",
       "<table border=\"1\" class=\"dataframe\">\n",
       "  <thead>\n",
       "    <tr style=\"text-align: right;\">\n",
       "      <th></th>\n",
       "      <th>order_id</th>\n",
       "      <th>order_date_ord</th>\n",
       "      <th>day_dif_order</th>\n",
       "      <th>ship_mode</th>\n",
       "    </tr>\n",
       "  </thead>\n",
       "  <tbody>\n",
       "    <tr>\n",
       "      <th>0</th>\n",
       "      <td>CA-2019-145625</td>\n",
       "      <td>2019-09-11</td>\n",
       "      <td>12</td>\n",
       "      <td>Standard Processing</td>\n",
       "    </tr>\n",
       "    <tr>\n",
       "      <th>1</th>\n",
       "      <td>CA-2019-145625</td>\n",
       "      <td>2019-09-11</td>\n",
       "      <td>12</td>\n",
       "      <td>Standard Processing</td>\n",
       "    </tr>\n",
       "  </tbody>\n",
       "</table>\n",
       "</div>"
      ],
      "text/plain": [
       "         order_id order_date_ord  day_dif_order            ship_mode\n",
       "0  CA-2019-145625     2019-09-11             12  Standard Processing\n",
       "1  CA-2019-145625     2019-09-11             12  Standard Processing"
      ]
     },
     "execution_count": 107,
     "metadata": {},
     "output_type": "execute_result"
    }
   ],
   "source": [
    "#choosing the columns we need and cleaning columns\n",
    "lead_t_shipmode = lead_t_shipmode[['order_id', 'order_date_ord', 'day_dif_order', 'ship_mode']]\n",
    "lead_t_shipmode.head(2)"
   ]
  },
  {
   "cell_type": "code",
   "execution_count": 108,
   "metadata": {},
   "outputs": [
    {
     "data": {
      "text/html": [
       "<div>\n",
       "<style scoped>\n",
       "    .dataframe tbody tr th:only-of-type {\n",
       "        vertical-align: middle;\n",
       "    }\n",
       "\n",
       "    .dataframe tbody tr th {\n",
       "        vertical-align: top;\n",
       "    }\n",
       "\n",
       "    .dataframe thead th {\n",
       "        text-align: right;\n",
       "    }\n",
       "</style>\n",
       "<table border=\"1\" class=\"dataframe\">\n",
       "  <thead>\n",
       "    <tr style=\"text-align: right;\">\n",
       "      <th>ship_mode</th>\n",
       "      <th>Express</th>\n",
       "      <th>Standard Processing</th>\n",
       "    </tr>\n",
       "    <tr>\n",
       "      <th>day_dif_order</th>\n",
       "      <th></th>\n",
       "      <th></th>\n",
       "    </tr>\n",
       "  </thead>\n",
       "  <tbody>\n",
       "    <tr>\n",
       "      <th>3</th>\n",
       "      <td>3</td>\n",
       "      <td>0</td>\n",
       "    </tr>\n",
       "    <tr>\n",
       "      <th>4</th>\n",
       "      <td>14</td>\n",
       "      <td>0</td>\n",
       "    </tr>\n",
       "    <tr>\n",
       "      <th>5</th>\n",
       "      <td>26</td>\n",
       "      <td>0</td>\n",
       "    </tr>\n",
       "    <tr>\n",
       "      <th>6</th>\n",
       "      <td>22</td>\n",
       "      <td>4</td>\n",
       "    </tr>\n",
       "    <tr>\n",
       "      <th>7</th>\n",
       "      <td>14</td>\n",
       "      <td>11</td>\n",
       "    </tr>\n",
       "    <tr>\n",
       "      <th>8</th>\n",
       "      <td>30</td>\n",
       "      <td>26</td>\n",
       "    </tr>\n",
       "    <tr>\n",
       "      <th>9</th>\n",
       "      <td>12</td>\n",
       "      <td>22</td>\n",
       "    </tr>\n",
       "    <tr>\n",
       "      <th>10</th>\n",
       "      <td>15</td>\n",
       "      <td>44</td>\n",
       "    </tr>\n",
       "    <tr>\n",
       "      <th>11</th>\n",
       "      <td>5</td>\n",
       "      <td>81</td>\n",
       "    </tr>\n",
       "    <tr>\n",
       "      <th>12</th>\n",
       "      <td>4</td>\n",
       "      <td>111</td>\n",
       "    </tr>\n",
       "    <tr>\n",
       "      <th>13</th>\n",
       "      <td>3</td>\n",
       "      <td>116</td>\n",
       "    </tr>\n",
       "    <tr>\n",
       "      <th>14</th>\n",
       "      <td>0</td>\n",
       "      <td>55</td>\n",
       "    </tr>\n",
       "    <tr>\n",
       "      <th>15</th>\n",
       "      <td>0</td>\n",
       "      <td>43</td>\n",
       "    </tr>\n",
       "    <tr>\n",
       "      <th>16</th>\n",
       "      <td>0</td>\n",
       "      <td>5</td>\n",
       "    </tr>\n",
       "    <tr>\n",
       "      <th>17</th>\n",
       "      <td>0</td>\n",
       "      <td>2</td>\n",
       "    </tr>\n",
       "  </tbody>\n",
       "</table>\n",
       "</div>"
      ],
      "text/plain": [
       "ship_mode      Express  Standard Processing\n",
       "day_dif_order                              \n",
       "3                    3                    0\n",
       "4                   14                    0\n",
       "5                   26                    0\n",
       "6                   22                    4\n",
       "7                   14                   11\n",
       "8                   30                   26\n",
       "9                   12                   22\n",
       "10                  15                   44\n",
       "11                   5                   81\n",
       "12                   4                  111\n",
       "13                   3                  116\n",
       "14                   0                   55\n",
       "15                   0                   43\n",
       "16                   0                    5\n",
       "17                   0                    2"
      ]
     },
     "execution_count": 108,
     "metadata": {},
     "output_type": "execute_result"
    }
   ],
   "source": [
    "#shipment aggregated by overall lead time\n",
    "kpi1 = pd.crosstab(lead_t_shipmode['day_dif_order'], columns=lead_t_shipmode['ship_mode'])\n",
    "kpi1 "
   ]
  },
  {
   "cell_type": "code",
   "execution_count": 109,
   "metadata": {},
   "outputs": [
    {
     "data": {
      "image/png": "[encoded data removed]",
      "text/plain": [
       "<Figure size 1500x500 with 1 Axes>"
      ]
     },
     "metadata": {},
     "output_type": "display_data"
    }
   ],
   "source": [
    "# using seaborn to plot\n",
    "with plt.style.context('default'): #evoke style temporarily\n",
    "    \n",
    "    fig = plt.figure(figsize=(15,5))\n",
    "    fig = sns.countplot( x=lead_t_shipmode['day_dif_order'], hue=lead_t_shipmode['ship_mode'], palette=['#008080', '#da70d6']) #hue serves as group by\n",
    "    plt.legend(loc='upper left')\n",
    "    fig.set_xlabel('Lead time')\n",
    "    fig.set_ylabel('Amount of orders')\n",
    "    # plt.box(on=None) #this line takes all the box off\n",
    "    fig.spines['right'].set_color('none') # turn off the right spine\n",
    "    fig.spines['top'].set_color('none') #turn off the top spine\n"
   ]
  },
  {
   "cell_type": "code",
   "execution_count": 110,
   "metadata": {},
   "outputs": [
    {
     "data": {
      "text/html": [
       "<div>\n",
       "<style scoped>\n",
       "    .dataframe tbody tr th:only-of-type {\n",
       "        vertical-align: middle;\n",
       "    }\n",
       "\n",
       "    .dataframe tbody tr th {\n",
       "        vertical-align: top;\n",
       "    }\n",
       "\n",
       "    .dataframe thead th {\n",
       "        text-align: right;\n",
       "    }\n",
       "</style>\n",
       "<table border=\"1\" class=\"dataframe\">\n",
       "  <thead>\n",
       "    <tr style=\"text-align: right;\">\n",
       "      <th></th>\n",
       "      <th>Avg. Lead Time</th>\n",
       "    </tr>\n",
       "    <tr>\n",
       "      <th>Shipping Mode</th>\n",
       "      <th></th>\n",
       "    </tr>\n",
       "  </thead>\n",
       "  <tbody>\n",
       "    <tr>\n",
       "      <th>Express</th>\n",
       "      <td>7.2</td>\n",
       "    </tr>\n",
       "    <tr>\n",
       "      <th>Standard Processing</th>\n",
       "      <td>11.9</td>\n",
       "    </tr>\n",
       "  </tbody>\n",
       "</table>\n",
       "</div>"
      ],
      "text/plain": [
       "                     Avg. Lead Time\n",
       "Shipping Mode                      \n",
       "Express                         7.2\n",
       "Standard Processing            11.9"
      ]
     },
     "execution_count": 110,
     "metadata": {},
     "output_type": "execute_result"
    }
   ],
   "source": [
    "lead_t_shipmode.rename(columns={'day_dif_order': 'Avg. Lead Time', 'truck_day_dif': 'Days for order to be ready', 'ship_mode': 'Shipping Mode'}, inplace=True)\n",
    "lead_t_shipmode.groupby('Shipping Mode').mean().round(1)"
   ]
  },
  {
   "cell_type": "markdown",
   "metadata": {},
   "source": [
    "**Findings**  \n",
    "- In average, the lead time has 5 days difference between shipment methods \n",
    "- Mean for lead time is 11 days\n",
    "- Express is faster as expected\n",
    "\n"
   ]
  },
  {
   "cell_type": "markdown",
   "metadata": {},
   "source": [
    "# Time between order date and loading Muesli in the truck (2° KPI)\n"
   ]
  },
  {
   "cell_type": "code",
   "execution_count": 111,
   "metadata": {},
   "outputs": [
    {
     "data": {
      "text/html": [
       "<div>\n",
       "<style scoped>\n",
       "    .dataframe tbody tr th:only-of-type {\n",
       "        vertical-align: middle;\n",
       "    }\n",
       "\n",
       "    .dataframe tbody tr th {\n",
       "        vertical-align: top;\n",
       "    }\n",
       "\n",
       "    .dataframe thead th {\n",
       "        text-align: right;\n",
       "    }\n",
       "</style>\n",
       "<table border=\"1\" class=\"dataframe\">\n",
       "  <thead>\n",
       "    <tr style=\"text-align: right;\">\n",
       "      <th></th>\n",
       "      <th>row_id</th>\n",
       "      <th>order_id</th>\n",
       "      <th>order_date</th>\n",
       "      <th>on_truck_scan_date</th>\n",
       "      <th>ship_mode</th>\n",
       "      <th>truck_day_dif</th>\n",
       "    </tr>\n",
       "  </thead>\n",
       "  <tbody>\n",
       "    <tr>\n",
       "      <th>0</th>\n",
       "      <td>3074.0</td>\n",
       "      <td>CA-2019-125206</td>\n",
       "      <td>2019-01-03</td>\n",
       "      <td>2019-01-07</td>\n",
       "      <td>Express</td>\n",
       "      <td>4</td>\n",
       "    </tr>\n",
       "    <tr>\n",
       "      <th>1</th>\n",
       "      <td>4919.0</td>\n",
       "      <td>CA-2019-160304</td>\n",
       "      <td>2019-01-02</td>\n",
       "      <td>2019-01-09</td>\n",
       "      <td>Standard Processing</td>\n",
       "      <td>7</td>\n",
       "    </tr>\n",
       "  </tbody>\n",
       "</table>\n",
       "</div>"
      ],
      "text/plain": [
       "   row_id        order_id order_date on_truck_scan_date            ship_mode  \\\n",
       "0  3074.0  CA-2019-125206 2019-01-03         2019-01-07              Express   \n",
       "1  4919.0  CA-2019-160304 2019-01-02         2019-01-09  Standard Processing   \n",
       "\n",
       "   truck_day_dif  \n",
       "0              4  \n",
       "1              7  "
      ]
     },
     "execution_count": 111,
     "metadata": {},
     "output_type": "execute_result"
    }
   ],
   "source": [
    "#we don't need to join orders with truck because the 5899 entries already have both the order_date and the truck_date\n",
    "\n",
    "#create columns for day difference\n",
    "truck['truck_day_dif'] = (truck['on_truck_scan_date'] - truck['order_date']).dt.days\n",
    "truck.head(2)\n"
   ]
  },
  {
   "cell_type": "code",
   "execution_count": 132,
   "metadata": {},
   "outputs": [
    {
     "data": {
      "image/png": "[encoded data removed]",
      "text/plain": [
       "<Figure size 1000x500 with 1 Axes>"
      ]
     },
     "metadata": {},
     "output_type": "display_data"
    }
   ],
   "source": [
    "#plotting leadtime_muesli\n",
    "with plt.style.context('default'):\n",
    "    fig, ax = plt.subplots(figsize=(10,5))\n",
    "    (\n",
    "        truck\n",
    "        .groupby('truck_day_dif')\n",
    "        .count()['row_id']\n",
    "        .plot.bar(rot=360) \n",
    "    )\n",
    "\n",
    "    ax.set_xlabel('days', fontsize=10)\n",
    "    ax.set_ylabel('orders', fontsize=10)\n",
    "    ax.spines['right'].set_color('none') # turn off the right spine\n",
    "    ax.spines['top'].set_color('none') #turn off the top spine\n",
    "    "
   ]
  },
  {
   "cell_type": "markdown",
   "metadata": {},
   "source": [
    "Summary statistics for the second kpi (order-date and on truck delivery date)\n",
    "\n",
    "It should take 6 days at the worse case.\n",
    "we have complete data"
   ]
  },
  {
   "cell_type": "code",
   "execution_count": 113,
   "metadata": {},
   "outputs": [
    {
     "data": {
      "text/plain": [
       "count    5899.0\n",
       "mean        6.1\n",
       "std         2.5\n",
       "min         0.0\n",
       "25%         5.0\n",
       "50%         7.0\n",
       "75%         8.0\n",
       "max        12.0\n",
       "Name: truck_day_dif, dtype: float64"
      ]
     },
     "execution_count": 113,
     "metadata": {},
     "output_type": "execute_result"
    }
   ],
   "source": [
    "truck.describe()[\"truck_day_dif\"].round(1)"
   ]
  },
  {
   "cell_type": "markdown",
   "metadata": {},
   "source": [
    "**Box plot for 2° KPI**  \n",
    "- It takes 6 days in avegerage to load the order in the truck\n",
    "- Most of the orders take 7 or more days to be loaded\n",
    "In next step we want to see what happens from ready to ship date and on truck scan date."
   ]
  },
  {
   "cell_type": "code",
   "execution_count": 133,
   "metadata": {},
   "outputs": [
    {
     "data": {
      "image/png": "[encoded data removed]",
      "text/plain": [
       "<Figure size 1000x500 with 1 Axes>"
      ]
     },
     "metadata": {},
     "output_type": "display_data"
    }
   ],
   "source": [
    "with plt.style.context('default'):\n",
    "    fig, ax = plt.subplots(figsize=(10,5))\n",
    "    (\n",
    "        truck\n",
    "        .groupby('truck_day_dif')\n",
    "        .count()['row_id']\n",
    "        .plot.box() \n",
    "    )\n",
    "    ax.set_title('leadtime from order date to on truck scan date')\n",
    "\n",
    "    ax.set_xlabel('Lead time')\n",
    "    ax.set_ylabel('count of orders')\n",
    "    \n",
    "    ax.spines['right'].set_color('none') # turn off the right spine\n",
    "    ax.spines['top'].set_color('none') #turn off the top spine"
   ]
  },
  {
   "cell_type": "markdown",
   "metadata": {},
   "source": [
    "# Time between ready to ship date and being loaded in the truck (3° KPI)"
   ]
  },
  {
   "cell_type": "code",
   "execution_count": 115,
   "metadata": {},
   "outputs": [
    {
     "data": {
      "text/html": [
       "<div>\n",
       "<style scoped>\n",
       "    .dataframe tbody tr th:only-of-type {\n",
       "        vertical-align: middle;\n",
       "    }\n",
       "\n",
       "    .dataframe tbody tr th {\n",
       "        vertical-align: top;\n",
       "    }\n",
       "\n",
       "    .dataframe thead th {\n",
       "        text-align: right;\n",
       "    }\n",
       "</style>\n",
       "<table border=\"1\" class=\"dataframe\">\n",
       "  <thead>\n",
       "    <tr style=\"text-align: right;\">\n",
       "      <th></th>\n",
       "      <th>row_id</th>\n",
       "      <th>order_id</th>\n",
       "      <th>order_date</th>\n",
       "      <th>on_truck_scan_date</th>\n",
       "      <th>ship_mode</th>\n",
       "      <th>truck_day_dif</th>\n",
       "      <th>ready_to_ship_date</th>\n",
       "      <th>pickup_date</th>\n",
       "    </tr>\n",
       "  </thead>\n",
       "  <tbody>\n",
       "    <tr>\n",
       "      <th>0</th>\n",
       "      <td>3416.0</td>\n",
       "      <td>CA-2019-116540</td>\n",
       "      <td>2019-09-02</td>\n",
       "      <td>2019-09-03</td>\n",
       "      <td>Express</td>\n",
       "      <td>1</td>\n",
       "      <td>2019-09-02</td>\n",
       "      <td>2019-09-03</td>\n",
       "    </tr>\n",
       "    <tr>\n",
       "      <th>1</th>\n",
       "      <td>3417.0</td>\n",
       "      <td>CA-2019-116540</td>\n",
       "      <td>2019-09-02</td>\n",
       "      <td>2019-09-03</td>\n",
       "      <td>Express</td>\n",
       "      <td>1</td>\n",
       "      <td>2019-09-02</td>\n",
       "      <td>2019-09-03</td>\n",
       "    </tr>\n",
       "  </tbody>\n",
       "</table>\n",
       "</div>"
      ],
      "text/plain": [
       "   row_id        order_id order_date on_truck_scan_date ship_mode  \\\n",
       "0  3416.0  CA-2019-116540 2019-09-02         2019-09-03   Express   \n",
       "1  3417.0  CA-2019-116540 2019-09-02         2019-09-03   Express   \n",
       "\n",
       "   truck_day_dif ready_to_ship_date pickup_date  \n",
       "0              1         2019-09-02  2019-09-03  \n",
       "1              1         2019-09-02  2019-09-03  "
      ]
     },
     "execution_count": 115,
     "metadata": {},
     "output_type": "execute_result"
    }
   ],
   "source": [
    "#join truck and ready_pickup\n",
    "df3= pd.merge(truck, ready_pickup, on= \"order_id\", how= \"inner\")\n",
    "df3.head(2)"
   ]
  },
  {
   "cell_type": "code",
   "execution_count": 116,
   "metadata": {},
   "outputs": [
    {
     "data": {
      "text/html": [
       "<div>\n",
       "<style scoped>\n",
       "    .dataframe tbody tr th:only-of-type {\n",
       "        vertical-align: middle;\n",
       "    }\n",
       "\n",
       "    .dataframe tbody tr th {\n",
       "        vertical-align: top;\n",
       "    }\n",
       "\n",
       "    .dataframe thead th {\n",
       "        text-align: right;\n",
       "    }\n",
       "</style>\n",
       "<table border=\"1\" class=\"dataframe\">\n",
       "  <thead>\n",
       "    <tr style=\"text-align: right;\">\n",
       "      <th></th>\n",
       "      <th>row_id</th>\n",
       "      <th>order_id</th>\n",
       "      <th>order_date</th>\n",
       "      <th>on_truck_scan_date</th>\n",
       "      <th>ship_mode</th>\n",
       "      <th>truck_day_dif</th>\n",
       "      <th>ready_to_ship_date</th>\n",
       "      <th>pickup_date</th>\n",
       "      <th>ready_to_ship_on_truck_dif</th>\n",
       "    </tr>\n",
       "  </thead>\n",
       "  <tbody>\n",
       "    <tr>\n",
       "      <th>0</th>\n",
       "      <td>3416.0</td>\n",
       "      <td>CA-2019-116540</td>\n",
       "      <td>2019-09-02</td>\n",
       "      <td>2019-09-03</td>\n",
       "      <td>Express</td>\n",
       "      <td>1</td>\n",
       "      <td>2019-09-02</td>\n",
       "      <td>2019-09-03</td>\n",
       "      <td>1</td>\n",
       "    </tr>\n",
       "    <tr>\n",
       "      <th>1</th>\n",
       "      <td>3417.0</td>\n",
       "      <td>CA-2019-116540</td>\n",
       "      <td>2019-09-02</td>\n",
       "      <td>2019-09-03</td>\n",
       "      <td>Express</td>\n",
       "      <td>1</td>\n",
       "      <td>2019-09-02</td>\n",
       "      <td>2019-09-03</td>\n",
       "      <td>1</td>\n",
       "    </tr>\n",
       "  </tbody>\n",
       "</table>\n",
       "</div>"
      ],
      "text/plain": [
       "   row_id        order_id order_date on_truck_scan_date ship_mode  \\\n",
       "0  3416.0  CA-2019-116540 2019-09-02         2019-09-03   Express   \n",
       "1  3417.0  CA-2019-116540 2019-09-02         2019-09-03   Express   \n",
       "\n",
       "   truck_day_dif ready_to_ship_date pickup_date  ready_to_ship_on_truck_dif  \n",
       "0              1         2019-09-02  2019-09-03                           1  \n",
       "1              1         2019-09-02  2019-09-03                           1  "
      ]
     },
     "execution_count": 116,
     "metadata": {},
     "output_type": "execute_result"
    }
   ],
   "source": [
    "# lead time from on truck scan date and ready to ship date\n",
    "df3['ready_to_ship_on_truck_dif'] = (df3['on_truck_scan_date'] - df3['ready_to_ship_date']).dt.days\n",
    "df3.head(2)"
   ]
  },
  {
   "cell_type": "code",
   "execution_count": 117,
   "metadata": {},
   "outputs": [
    {
     "data": {
      "text/plain": [
       "2    164\n",
       "1    107\n",
       "3     84\n",
       "0     63\n",
       "Name: ready_to_ship_on_truck_dif, dtype: int64"
      ]
     },
     "execution_count": 117,
     "metadata": {},
     "output_type": "execute_result"
    }
   ],
   "source": [
    "df3['ready_to_ship_on_truck_dif'].value_counts()\n"
   ]
  },
  {
   "cell_type": "code",
   "execution_count": 134,
   "metadata": {},
   "outputs": [
    {
     "data": {
      "image/png": "[encoded data removed]",
      "text/plain": [
       "<Figure size 1000x500 with 1 Axes>"
      ]
     },
     "metadata": {},
     "output_type": "display_data"
    }
   ],
   "source": [
    "# plotting leadtime from ready to ship date to on truck scan date\n",
    "with plt.style.context('default'):\n",
    "    fig, ax = plt.subplots(figsize=(10,5))\n",
    "    (\n",
    "        df3\n",
    "        .groupby('ready_to_ship_on_truck_dif')\n",
    "        .count()['order_id']\n",
    "        .plot.bar(rot=360)\n",
    "        \n",
    "    )\n",
    "    ax.set_xlabel('days', fontsize=10);\n",
    "    ax.set_ylabel('orders', fontsize=10)\n",
    "    ax.spines['right'].set_color('none') # turn off the right spine\n",
    "    ax.spines['top'].set_color('none') #turn off the top spine"
   ]
  },
  {
   "cell_type": "markdown",
   "metadata": {},
   "source": [
    "**Findings**  \n",
    "- Data here is insufficient to be representative of the whole case.\n",
    "- According to company estimation it should take 3 days at the worth case\n",
    "- They are complying to the times, based on the data that we have.\n",
    "- The mode of is 2 days, showing a good performance."
   ]
  },
  {
   "cell_type": "code",
   "execution_count": 119,
   "metadata": {},
   "outputs": [
    {
     "data": {
      "text/plain": [
       "count    418.0\n",
       "mean       1.6\n",
       "std        1.0\n",
       "min        0.0\n",
       "25%        1.0\n",
       "50%        2.0\n",
       "75%        2.0\n",
       "max        3.0\n",
       "Name: ready_to_ship_on_truck_dif, dtype: float64"
      ]
     },
     "execution_count": 119,
     "metadata": {},
     "output_type": "execute_result"
    }
   ],
   "source": [
    "df3.describe()['ready_to_ship_on_truck_dif'].round(1)"
   ]
  },
  {
   "cell_type": "markdown",
   "metadata": {},
   "source": [
    "# Lead time between on truck scan date and arrival scan date "
   ]
  },
  {
   "cell_type": "code",
   "execution_count": 120,
   "metadata": {},
   "outputs": [
    {
     "data": {
      "text/html": [
       "<div>\n",
       "<style scoped>\n",
       "    .dataframe tbody tr th:only-of-type {\n",
       "        vertical-align: middle;\n",
       "    }\n",
       "\n",
       "    .dataframe tbody tr th {\n",
       "        vertical-align: top;\n",
       "    }\n",
       "\n",
       "    .dataframe thead th {\n",
       "        text-align: right;\n",
       "    }\n",
       "</style>\n",
       "<table border=\"1\" class=\"dataframe\">\n",
       "  <thead>\n",
       "    <tr style=\"text-align: right;\">\n",
       "      <th></th>\n",
       "      <th>row_id</th>\n",
       "      <th>truck_day_dif</th>\n",
       "      <th>on_truck_arrival_diff</th>\n",
       "    </tr>\n",
       "  </thead>\n",
       "  <tbody>\n",
       "    <tr>\n",
       "      <th>count</th>\n",
       "      <td>668.0</td>\n",
       "      <td>668.0</td>\n",
       "      <td>668.0</td>\n",
       "    </tr>\n",
       "    <tr>\n",
       "      <th>mean</th>\n",
       "      <td>4896.0</td>\n",
       "      <td>6.0</td>\n",
       "      <td>5.0</td>\n",
       "    </tr>\n",
       "    <tr>\n",
       "      <th>std</th>\n",
       "      <td>2990.0</td>\n",
       "      <td>3.0</td>\n",
       "      <td>1.0</td>\n",
       "    </tr>\n",
       "    <tr>\n",
       "      <th>min</th>\n",
       "      <td>1.0</td>\n",
       "      <td>0.0</td>\n",
       "      <td>1.0</td>\n",
       "    </tr>\n",
       "    <tr>\n",
       "      <th>25%</th>\n",
       "      <td>2171.0</td>\n",
       "      <td>5.0</td>\n",
       "      <td>4.0</td>\n",
       "    </tr>\n",
       "    <tr>\n",
       "      <th>50%</th>\n",
       "      <td>4949.0</td>\n",
       "      <td>7.0</td>\n",
       "      <td>5.0</td>\n",
       "    </tr>\n",
       "    <tr>\n",
       "      <th>75%</th>\n",
       "      <td>7522.0</td>\n",
       "      <td>8.0</td>\n",
       "      <td>5.0</td>\n",
       "    </tr>\n",
       "    <tr>\n",
       "      <th>max</th>\n",
       "      <td>9987.0</td>\n",
       "      <td>12.0</td>\n",
       "      <td>7.0</td>\n",
       "    </tr>\n",
       "  </tbody>\n",
       "</table>\n",
       "</div>"
      ],
      "text/plain": [
       "       row_id  truck_day_dif  on_truck_arrival_diff\n",
       "count   668.0          668.0                  668.0\n",
       "mean   4896.0            6.0                    5.0\n",
       "std    2990.0            3.0                    1.0\n",
       "min       1.0            0.0                    1.0\n",
       "25%    2171.0            5.0                    4.0\n",
       "50%    4949.0            7.0                    5.0\n",
       "75%    7522.0            8.0                    5.0\n",
       "max    9987.0           12.0                    7.0"
      ]
     },
     "execution_count": 120,
     "metadata": {},
     "output_type": "execute_result"
    }
   ],
   "source": [
    "#merging truck and arrival info\n",
    "shipment = pd.merge(truck, arrival, on=\"order_id\", how= \"right\")\n",
    "#created a column for weekday\n",
    "shipment[\"on_truck_arrival_diff\"]= (shipment[\"arrival_scan_date\"] - shipment[\"on_truck_scan_date\"]).dt.days\n",
    "#count the values\n",
    "shipment[\"on_truck_arrival_diff\"].value_counts()\n",
    "shipment.describe().round()"
   ]
  },
  {
   "cell_type": "code",
   "execution_count": 135,
   "metadata": {},
   "outputs": [
    {
     "data": {
      "image/png": "[encoded data removed]",
      "text/plain": [
       "<Figure size 1000x500 with 1 Axes>"
      ]
     },
     "metadata": {},
     "output_type": "display_data"
    }
   ],
   "source": [
    "# ploting lead time in the delivery company\n",
    "with plt.style.context('default'):\n",
    "\n",
    "    fig, ax = plt.subplots(figsize=(10,5))\n",
    "    (\n",
    "        shipment\n",
    "        .groupby(\"on_truck_arrival_diff\")\n",
    "        .count()['order_id']\n",
    "        .plot.bar(rot=360) \n",
    "    )\n",
    "\n",
    "    ax.set_xlabel('days', fontsize = 10)\n",
    "    ax.set_ylabel('orders', fontsize = 10)\n",
    "    ax.set_title('KPI 3: Lead time in delivery company')\n",
    "    ax.spines['right'].set_color('none') # turn off the right spine\n",
    "    ax.spines['top'].set_color('none') #turn off the top spine;"
   ]
  },
  {
   "cell_type": "markdown",
   "metadata": {},
   "source": [
    "**Findings**\n",
    "- According to company estimations, orders should take about 5 days since they leave the muesli company and get to the customer\n",
    "- Orders are arriving to costumers on average in less than 5 days, showing a good performance in the delivery company process\n",
    "- Most of the orders take 5 days or less. "
   ]
  },
  {
   "cell_type": "markdown",
   "metadata": {},
   "source": [
    "# Extra information: when are the customers ordering?"
   ]
  },
  {
   "cell_type": "code",
   "execution_count": 122,
   "metadata": {},
   "outputs": [
    {
     "name": "stdout",
     "output_type": "stream",
     "text": [
      "orders_weekday\n",
      "0    1408\n",
      "1    1783\n",
      "2    1706\n",
      "3    1736\n",
      "4    1648\n",
      "5     876\n",
      "6     837\n",
      "Name: order_id, dtype: int64\n"
     ]
    }
   ],
   "source": [
    "#create columns for orders date\n",
    "orders[\"orders_weekday\"]= (orders['order_date']).dt.dayofweek\n",
    "when_orders_made = orders.groupby('orders_weekday').order_id.count()\n",
    "print(when_orders_made)"
   ]
  },
  {
   "cell_type": "code",
   "execution_count": 138,
   "metadata": {},
   "outputs": [
    {
     "data": {
      "image/png": "[encoded data removed]",
      "text/plain": [
       "<Figure size 640x480 with 1 Axes>"
      ]
     },
     "metadata": {},
     "output_type": "display_data"
    }
   ],
   "source": [
    "#Plot the orders in days\n",
    "with plt.style.context('default'):\n",
    "    plt.hist(x=orders['orders_weekday'], bins=7, alpha=0.8, edgecolor='k', color='purple');\n",
    "    plt.xticks([0, 1, 2, 3, 4, 5, 6], ['Mon', 'Tues', 'Wed', 'Thur', 'Fri', 'Sa', 'So']);\n",
    "    plt.xlabel('Order day', fontsize = 10)"
   ]
  },
  {
   "cell_type": "markdown",
   "metadata": {},
   "source": [
    "**Findings**  \n"
   ]
  },
  {
   "cell_type": "code",
   "execution_count": 124,
   "metadata": {},
   "outputs": [
    {
     "name": "stdout",
     "output_type": "stream",
     "text": [
      "9994\n",
      "83% of the orders are made during the week\n",
      "17% of the orders are made during the weekend\n"
     ]
    }
   ],
   "source": [
    "total_orders = orders['orders_weekday'].count()\n",
    "print(total_orders) # 9994\n",
    "week = 1408 + 1783 + 1706 + 1736 + 1648\n",
    "weekend = total_orders - week\n",
    "print(f'{round(week*100/total_orders)}% of the orders are made during the week')\n",
    "print(f'{round(weekend*100/total_orders)}% of the orders are made during the weekend')"
   ]
  }
 ],
 "metadata": {
  "interpreter": {
   "hash": "ab3d85a18739f6fff6a9c8c504adc2ff9340867b576dede986e2ee74c099e4e5"
  },
  "kernelspec": {
   "display_name": "Python 3.9.7 ('nf_base')",
   "language": "python",
   "name": "python3"
  },
  "language_info": {
   "codemirror_mode": {
    "name": "ipython",
    "version": 3
   },
   "file_extension": ".py",
   "mimetype": "text/x-python",
   "name": "python",
   "nbconvert_exporter": "python",
   "pygments_lexer": "ipython3",
   "version": "3.9.7"
  },
  "orig_nbformat": 4
 },
 "nbformat": 4,
 "nbformat_minor": 2
}
